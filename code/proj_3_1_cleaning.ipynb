{
 "cells": [
  {
   "cell_type": "markdown",
   "id": "1d160286",
   "metadata": {},
   "source": [
    "<img src=\"http://imgur.com/1ZcRyrc.png\" style=\"float: left; margin: 20px; height: 55px\">\n",
    "\n",
    "# Project 3 -  Web APIs & NLP"
   ]
  },
  {
   "cell_type": "markdown",
   "id": "49a3c749",
   "metadata": {},
   "source": [
    "# Contents (Part 1) - This notebook \n",
    "\n",
    "- [Executive Summary](#Executive-Summary)\n",
    "- [Problem Statement](#Problem-Statement)\n",
    "- [Background and Research](#Background-and-Research)\n",
    "- [Data Fetching](#Data-Fetching)\n",
    "- [Data Filtering (Apple)](#Data-Filtering-(Apple))\n",
    "- [Data Filtering (Samsung)](#Data-Filtering-(Samsung))\n",
    "\n",
    "# Contents (Part 2)\n",
    "\n",
    "- Data Exploration\n",
    "- Additional Data Filtering\n",
    "- Data Dictionary\n",
    "- Natural Language Processing (Apple)\n",
    "- Natural Language Processing (Samsung)\n",
    "\n",
    "# Contents (Part 3)\n",
    "\n",
    "- Preprocessing\n",
    "- Dummy Classifier\n",
    "- Multinomial Naive-Bayes\n",
    "- Logistic Regression\n",
    "- Support Vector Classifier\n",
    "- Random Forest\n",
    "- Results and Analysis\n",
    "- Conclusion and Recommendations"
   ]
  },
  {
   "cell_type": "markdown",
   "id": "e1462ecd",
   "metadata": {},
   "source": [
    "# Executive Summary\n",
    "\n",
    "Anyone tracking the latest trends in technology would have a need for tools and metrics to determine a brand's Share of Voice in the market. This includes writers, YouTubers, tech enthusiasts and investors. With Apple and Samsung being the notable heavyweights in the smartphone domain, the battle has become increasingly heated with more eyes on the two. To this end, the Editor-in-chief of a tech magazine has asked for a classifer tool to scan online tech forums to see if more people are talking about Apple or Samsung. \n",
    "\n",
    "A project was undertaken to build this tool using machine learning. The Pushshift API was used to pull posts from the subreddits r/Apple and r/Samsung. The API is a data-fetching tool created by the moderators of r/datasets. After some data processing, 4000 of the most recent posts from each subreddit were used for modelling, totalling 8000. The text of the title and post body were combined and taken as the text for each post. Before modelling, Natural Language Processing indicated that many people tended to ask product-troubleshooting questions on the subreddits.\n",
    "\n",
    "For modelling, the Multinomial Naive-Bayes model, Logistic Regression model, Support Vector Classifier model and Random Forest model were tested and optimised. The chosen model was Logistic Regression. The classifiers were primarily evaluated by their accuracy score, and a successful model should have an accuracy score of at least 0.8. The accuracy score represents how many posts the model predicted correctly, divided by the total number of predictions made. \n",
    "\n",
    "Logistic Regression produced an accuracy score of 0.956 on the testing subset of the data, with 0.973 on the training subset. This was a tie with the Support Vector Classifier, but its score of 0.996 on the training subset showed that the Support Vector Classifier overfitted more to the training data. This made Logistic Regression a more favourable choice. Logistic Regression was also more interpretable than the Support Vector Classifier, being able to show which words were the strongest predictors for classification into a particular subreddit. In this case, it was found that the brand and product names were the strongest predictors. \n",
    "\n",
    "To sum up, the project endpoint was achieved, and the tool is ready to be deployed and further tested by the tech magazine."
   ]
  },
  {
   "cell_type": "markdown",
   "id": "345103ba",
   "metadata": {},
   "source": [
    "# Problem Statement \n",
    "\n",
    "You are a data science professional working for a tech magazine discussing the latest trends in technology. The Editor-in-chief wants to come up with a big year-end story that reveals the most-talked about tech brand of the year. She is intending to scan online tech forums to see if more people are talking about Apple or Samsung. However, she cannot possibly scroll through the forums manually. \n",
    "\n",
    "As the first step to tackling this, you have been directed to build a text classifier that can detect if any given online post is talking about Apple or Samsung. This classifier will be primarily evaluated by its accuracy score, and a successful model should have an accuracy score of at least 0.8."
   ]
  },
  {
   "cell_type": "markdown",
   "id": "295dfcaa",
   "metadata": {},
   "source": [
    "# Background and Research\n",
    "\n",
    "Share of Voice is the measure of how much of the market represents your brand, and can be measured by metrics like keywords ([*source*](https://sproutsocial.com/glossary/share-of-voice)). The tech market has been dominated by a few major players, and Apple and Samsung are the notable heavyweights in the smartphone domain. \n",
    "\n",
    "Although the iPhone has the dominant share of voice in general, when the share of voice was split into the topics of cost, design and features, it was found in an analysis that Samsung was leading in share of voice regarding cost and design. The iPhone led in share of voice regarding features ([*source*](https://hottopics.ht/9526/iphone-losing-smartphones-share-of-voice-war/)). From the same analysis, it was discussed that the ubiquitiy of Apple may have led to people talking about other brands instead. \n",
    "\n",
    "It is thus important for any analyst of tech trends to keep abreast of the current changes in the market. Apple and Samsung are direct competitors in the mobile phone space, releasing competing flagship models within the same frame of time ([*source*](https://www.which.co.uk/reviews/mobile-phones/article/apple-iphone-vs-samsung-galaxy-mobile-phones-aZL5V5m4UGbw)). Apple's market share based on sales figures was 20.8% in in Q4 2020, while Samsung's market share was 16.2% ([*source*](https://www.zdnet.com/article/apple-vs-samsung-who-makes-a-better-smartphone/)). There is thus a close fight between the two, and tech users will be eager to know what is the latest state of affairs between the two companies. \n",
    "\n",
    "Apple had $111 billion in sales for the Christmas of 2020 ([*source*](https://www.bbc.com/news/business-55835504)). It also has an App Store with its own mobile app ecosystem. Meanwhile, Samsung is trying to keep up by improving the features on its phones, such has having a fingerprint sensor embedded in the screen ([*source*](https://www.businessinsider.com/samsung-galaxy-s20-ultra-apple-iphone-11-features-specs-camera-2020-2#higher-resolution-camera-sensors-3)) and fast charging ([*source*](https://www.samsung.com/us/support/answer/ANS00062589/)). \n",
    "\n",
    "The Pushshift API it can be used to obtain the data from the subreddits. It is a tool made by the moderator team of r/datasets ([*source*](https://github.com/pushshift/api)). The text that forms the body of the posts will play a large role in the analysis. Sentences are about 15-20 words long, so there is a guideline in mind when determining if the length of a segment of text contains at least a sentence ([*source*](https://techcomm.nz/Story?Action=View&Story_id=106))."
   ]
  },
  {
   "cell_type": "markdown",
   "id": "9e58ea6f",
   "metadata": {},
   "source": [
    "# Data Fetching\n",
    "\n",
    "## Importing necessary libraries\n",
    "\n",
    "The libraries below will be used in this notebook."
   ]
  },
  {
   "cell_type": "code",
   "execution_count": 1,
   "id": "573baba9",
   "metadata": {},
   "outputs": [],
   "source": [
    "import requests\n",
    "import time\n",
    "import pandas as pd\n",
    "\n",
    "# Enables Pandas to display all the columns\n",
    "pd.set_option('display.max_columns', None)\n",
    "\n",
    "# Enables Pandas to display all the rows\n",
    "pd.set_option('display.max_rows', None)\n",
    "\n",
    "# Enables Pandas to display more text in a column\n",
    "pd.set_option('display.max_colwidth', 100)"
   ]
  },
  {
   "cell_type": "markdown",
   "id": "a814dae1",
   "metadata": {},
   "source": [
    "## The Apple subreddit \n",
    "\n",
    "When fetching the posts, there were a large number of posts with '[removed]' under the `selftext`. The `selftext` is the body text of the post. This means that posts without a `selftext` only consist of a title (and possibly comments). For this project, only the posts themselves were fetched. The comments were not fetched. The Pushshift API allows us to specify fetching only posts where the `selftext` is not a certain string. Also, there were a large number of posts with NaN `selftext` which would be filtered out anyway. Hence 40,000 posts were fetched for the filtering. The code below was used for the process:"
   ]
  },
  {
   "cell_type": "code",
   "execution_count": 2,
   "id": "77ccedd8",
   "metadata": {},
   "outputs": [],
   "source": [
    "# URL for the API call.\n",
    "url = 'https://api.pushshift.io/reddit/search/submission'\n",
    "\n",
    "# Parameters for the API call. \n",
    "# The maximum number of posts per pull is 100.\n",
    "# 'selftext:not' means pulling only posts where 'selftext' is not the specified string.\n",
    "params = {\n",
    "    'subreddit': 'apple',\n",
    "    'size': 100,\n",
    "    'selftext:not': '[removed]'\n",
    "}\n",
    "\n",
    "# Initialise an empty list to store the data.\n",
    "frames = []\n",
    "\n",
    "# Starting counter for the number of pulling loops.\n",
    "frame_count = 0\n",
    "\n",
    "# Set up a while loop that will continue till the desired number is reached. \n",
    "# Setting it to run while 'frame_count < 400' means 400 loops will be done.\n",
    "# The counter stops at 399, but the first loop when 'frame_count = 0' is counted.\n",
    "# 400 x 100 posts will be fetched, which is 40,000.\n",
    "while frame_count < 400:\n",
    "    \n",
    "    # Uses the requests library to get the data.\n",
    "    res = requests.get(url, params)\n",
    "    \n",
    "    # Formats the data in .json.\n",
    "    data = res.json()\n",
    "    \n",
    "    # Converts the data to a Pandas DataFrame.\n",
    "    frame = pd.DataFrame(data['data'])\n",
    "    \n",
    "    # Appends the DataFrame to 'frames', that stores the data.\n",
    "    frames.append(frame)\n",
    "    \n",
    "    # Increases the counter by 1.\n",
    "    frame_count += 1\n",
    "    \n",
    "    # Looks at the 'created_utc' of the last row (the past post) of the currently fetched data. \n",
    "    # Sets the 'before' parameter to start the next loop fetching only posts before that post.\n",
    "    try:\n",
    "        params['before'] = frame.tail(1).iloc[0]['created_utc']\n",
    "        \n",
    "    # Handling the possible IndexError:\n",
    "    except IndexError:        \n",
    "        print('IndexError occured')\n",
    "        \n",
    "    # Sets a sleep timer of one second between requests to prevent overloading.\n",
    "    time.sleep(1)\n",
    "\n",
    "# Concatenates the collected data into one DataFrame.\n",
    "df_apple = pd.concat(frames, ignore_index=True)"
   ]
  },
  {
   "cell_type": "code",
   "execution_count": 23,
   "id": "9b6eacc3",
   "metadata": {
    "scrolled": true
   },
   "outputs": [
    {
     "data": {
      "text/plain": [
       "(39850, 95)"
      ]
     },
     "execution_count": 23,
     "metadata": {},
     "output_type": "execute_result"
    }
   ],
   "source": [
    "df_apple.shape"
   ]
  },
  {
   "cell_type": "code",
   "execution_count": 4,
   "id": "8382e8ff",
   "metadata": {},
   "outputs": [],
   "source": [
    "df_apple.to_csv('../data/df_apple.csv', index=False)"
   ]
  },
  {
   "cell_type": "markdown",
   "id": "512a8935",
   "metadata": {},
   "source": [
    "## The Samsung subreddit\n",
    "\n",
    "When fetching the posts, there were a large number of posts with '[removed]' under the `selftext`. Hence, as with Apple, they were also removed by specifying the `selftext:not` parameter in the API call. Although there were some posts with NaN `selftext` which would be filtered out, the number is not as high as with Apple. Hence 10,000 posts were fetched for the filtering. The code below was used for the process:"
   ]
  },
  {
   "cell_type": "code",
   "execution_count": 5,
   "id": "93900a91",
   "metadata": {},
   "outputs": [],
   "source": [
    "# URL for the API call.\n",
    "url = 'https://api.pushshift.io/reddit/search/submission'\n",
    "\n",
    "# Parameters for the API call. \n",
    "# The maximum number of posts per pull is 100.\n",
    "# 'selftext:not' means pulling only posts where 'selftext' is not the specified string.\n",
    "params = {\n",
    "    'subreddit': 'samsung',\n",
    "    'size': 100,\n",
    "    'selftext:not': '[removed]'\n",
    "}\n",
    "\n",
    "# Initialise an empty list to store the data.\n",
    "frames = []\n",
    "\n",
    "# Starting counter for the number of pulling loops.\n",
    "frame_count = 0\n",
    "\n",
    "# Set up a while loop that will continue till the desired number is reached. \n",
    "# Setting it to run while 'frame_count < 100' means 100 loops will be done.\n",
    "# The counter stops at 99, but the first loop when 'frame_count = 0' is counted.\n",
    "# 100 x 100 posts will be fetched, which is 10,000.\n",
    "while frame_count < 100:\n",
    "    \n",
    "    # Uses the requests library to get the data.\n",
    "    res = requests.get(url, params)\n",
    "    \n",
    "    # Formats the data in .json.\n",
    "    data = res.json()\n",
    "    \n",
    "    # Converts the data to a Pandas DataFrame.\n",
    "    frame = pd.DataFrame(data['data'])\n",
    "    \n",
    "    # Appends the DataFrame to 'frames', that stores the data.\n",
    "    frames.append(frame)\n",
    "    \n",
    "    # Increases the counter by 1.\n",
    "    frame_count += 1\n",
    "    \n",
    "    # Looks at the 'created_utc' of the last row (the past post) of the currently fetched data. \n",
    "    # Sets the 'before' parameter to start the next loop fetching only posts before that post.\n",
    "    try:\n",
    "        params['before'] = frame.tail(1).iloc[0]['created_utc']\n",
    "        \n",
    "    # Handling the possible IndexError:\n",
    "    except IndexError:        \n",
    "        print('IndexError occured')\n",
    "        \n",
    "    # Sets a sleep timer of one second between requests to prevent overloading.\n",
    "    time.sleep(1)\n",
    "\n",
    "# Concatenates the collected data into one DataFrame.\n",
    "df_samsung = pd.concat(frames, ignore_index=True)"
   ]
  },
  {
   "cell_type": "code",
   "execution_count": 11,
   "id": "14e48b36",
   "metadata": {
    "scrolled": false
   },
   "outputs": [
    {
     "data": {
      "text/plain": [
       "(9995, 89)"
      ]
     },
     "execution_count": 11,
     "metadata": {},
     "output_type": "execute_result"
    }
   ],
   "source": [
    "df_samsung.shape"
   ]
  },
  {
   "cell_type": "code",
   "execution_count": 7,
   "id": "2e7386e5",
   "metadata": {},
   "outputs": [],
   "source": [
    "df_samsung.to_csv('../data/df_samsung.csv', index=False)"
   ]
  },
  {
   "cell_type": "markdown",
   "id": "373c3377",
   "metadata": {},
   "source": [
    "# Data Filtering (Apple)"
   ]
  },
  {
   "cell_type": "markdown",
   "id": "ec8f70a0",
   "metadata": {},
   "source": [
    "## Loading the data \n",
    "\n",
    "The dataset from the Apple subreddit will be loaded. We will only select certain columns."
   ]
  },
  {
   "cell_type": "code",
   "execution_count": 8,
   "id": "1fe38988",
   "metadata": {},
   "outputs": [],
   "source": [
    "ap = pd.read_csv('../data/df_apple.csv', usecols=['subreddit',\n",
    "                                                  'author',\n",
    "                                                  'created_utc',\n",
    "                                                  'selftext',\n",
    "                                                  'title',\n",
    "                                                  'author_flair_css_class'])"
   ]
  },
  {
   "cell_type": "code",
   "execution_count": 9,
   "id": "00ae32be",
   "metadata": {},
   "outputs": [
    {
     "data": {
      "text/html": [
       "<div>\n",
       "<style scoped>\n",
       "    .dataframe tbody tr th:only-of-type {\n",
       "        vertical-align: middle;\n",
       "    }\n",
       "\n",
       "    .dataframe tbody tr th {\n",
       "        vertical-align: top;\n",
       "    }\n",
       "\n",
       "    .dataframe thead th {\n",
       "        text-align: right;\n",
       "    }\n",
       "</style>\n",
       "<table border=\"1\" class=\"dataframe\">\n",
       "  <thead>\n",
       "    <tr style=\"text-align: right;\">\n",
       "      <th></th>\n",
       "      <th>author</th>\n",
       "      <th>author_flair_css_class</th>\n",
       "      <th>created_utc</th>\n",
       "      <th>selftext</th>\n",
       "      <th>subreddit</th>\n",
       "      <th>title</th>\n",
       "    </tr>\n",
       "  </thead>\n",
       "  <tbody>\n",
       "    <tr>\n",
       "      <th>0</th>\n",
       "      <td>gordonmcdowell</td>\n",
       "      <td>NaN</td>\n",
       "      <td>1635298827</td>\n",
       "      <td>NaN</td>\n",
       "      <td>apple</td>\n",
       "      <td>Apple's M1 Pro, M1 Max SoCs “…you’d have to bring out server-class hardware to get ahead of the ...</td>\n",
       "    </tr>\n",
       "    <tr>\n",
       "      <th>1</th>\n",
       "      <td>Arun_Sampath</td>\n",
       "      <td>NaN</td>\n",
       "      <td>1635297851</td>\n",
       "      <td>NaN</td>\n",
       "      <td>apple</td>\n",
       "      <td>M1 Max Macbook Pro vs RTX 3070 - Blender Render Times - Viewpoint FPS</td>\n",
       "    </tr>\n",
       "    <tr>\n",
       "      <th>2</th>\n",
       "      <td>eltarekc</td>\n",
       "      <td>NaN</td>\n",
       "      <td>1635285305</td>\n",
       "      <td>NaN</td>\n",
       "      <td>apple</td>\n",
       "      <td>شركة الطارق كلين تنظيف فلل بالمزاحمية</td>\n",
       "    </tr>\n",
       "    <tr>\n",
       "      <th>3</th>\n",
       "      <td>Gingerstrands</td>\n",
       "      <td>NaN</td>\n",
       "      <td>1635283070</td>\n",
       "      <td>I went to the Apple Store today to look at the pros in person. To be honest, I’m even more uncer...</td>\n",
       "      <td>apple</td>\n",
       "      <td>To anyone like me who was wondering: yes, you can fit two apps side by side on the 14” comfortab...</td>\n",
       "    </tr>\n",
       "    <tr>\n",
       "      <th>4</th>\n",
       "      <td>BiovelaBoomer</td>\n",
       "      <td>NaN</td>\n",
       "      <td>1635282964</td>\n",
       "      <td>What is the correct way to use the battery pack, would it be plugging in the cable into the ipho...</td>\n",
       "      <td>apple</td>\n",
       "      <td>Correct way to use battery pack?</td>\n",
       "    </tr>\n",
       "  </tbody>\n",
       "</table>\n",
       "</div>"
      ],
      "text/plain": [
       "           author author_flair_css_class  created_utc  \\\n",
       "0  gordonmcdowell                    NaN   1635298827   \n",
       "1    Arun_Sampath                    NaN   1635297851   \n",
       "2        eltarekc                    NaN   1635285305   \n",
       "3   Gingerstrands                    NaN   1635283070   \n",
       "4   BiovelaBoomer                    NaN   1635282964   \n",
       "\n",
       "                                                                                              selftext  \\\n",
       "0                                                                                                  NaN   \n",
       "1                                                                                                  NaN   \n",
       "2                                                                                                  NaN   \n",
       "3  I went to the Apple Store today to look at the pros in person. To be honest, I’m even more uncer...   \n",
       "4  What is the correct way to use the battery pack, would it be plugging in the cable into the ipho...   \n",
       "\n",
       "  subreddit  \\\n",
       "0     apple   \n",
       "1     apple   \n",
       "2     apple   \n",
       "3     apple   \n",
       "4     apple   \n",
       "\n",
       "                                                                                                 title  \n",
       "0  Apple's M1 Pro, M1 Max SoCs “…you’d have to bring out server-class hardware to get ahead of the ...  \n",
       "1                                M1 Max Macbook Pro vs RTX 3070 - Blender Render Times - Viewpoint FPS  \n",
       "2                                                                شركة الطارق كلين تنظيف فلل بالمزاحمية  \n",
       "3  To anyone like me who was wondering: yes, you can fit two apps side by side on the 14” comfortab...  \n",
       "4                                                                     Correct way to use battery pack?  "
      ]
     },
     "execution_count": 9,
     "metadata": {},
     "output_type": "execute_result"
    }
   ],
   "source": [
    "ap.head(5)"
   ]
  },
  {
   "cell_type": "markdown",
   "id": "1cac2d02",
   "metadata": {},
   "source": [
    "## Filtering the data "
   ]
  },
  {
   "cell_type": "markdown",
   "id": "486c8730",
   "metadata": {},
   "source": [
    "### Removing rows with null values in the `selftext` column"
   ]
  },
  {
   "cell_type": "code",
   "execution_count": 10,
   "id": "5f15b644",
   "metadata": {},
   "outputs": [
    {
     "data": {
      "text/plain": [
       "True     30963\n",
       "False     8887\n",
       "Name: selftext, dtype: int64"
      ]
     },
     "execution_count": 10,
     "metadata": {},
     "output_type": "execute_result"
    }
   ],
   "source": [
    "ap['selftext'].isna().value_counts()"
   ]
  },
  {
   "cell_type": "markdown",
   "id": "691929dd",
   "metadata": {},
   "source": [
    "There are rows with null values in the `selftext` column. We will drop the rows:"
   ]
  },
  {
   "cell_type": "code",
   "execution_count": 11,
   "id": "1af567fe",
   "metadata": {},
   "outputs": [],
   "source": [
    "ap.dropna(subset=['selftext'], inplace=True)"
   ]
  },
  {
   "cell_type": "markdown",
   "id": "28968df4",
   "metadata": {},
   "source": [
    "There are no more null values in the `selftext` column:"
   ]
  },
  {
   "cell_type": "code",
   "execution_count": 12,
   "id": "80265d59",
   "metadata": {},
   "outputs": [
    {
     "data": {
      "text/plain": [
       "False    8887\n",
       "Name: selftext, dtype: int64"
      ]
     },
     "execution_count": 12,
     "metadata": {},
     "output_type": "execute_result"
    }
   ],
   "source": [
    "ap['selftext'].isna().value_counts()"
   ]
  },
  {
   "cell_type": "markdown",
   "id": "2686cc26",
   "metadata": {},
   "source": [
    "### Removing rows with null values in the `title` column\n",
    "\n",
    "There are no rows with null values in the `title` column."
   ]
  },
  {
   "cell_type": "code",
   "execution_count": 13,
   "id": "f0b89787",
   "metadata": {},
   "outputs": [
    {
     "data": {
      "text/plain": [
       "False    8887\n",
       "Name: title, dtype: int64"
      ]
     },
     "execution_count": 13,
     "metadata": {},
     "output_type": "execute_result"
    }
   ],
   "source": [
    "ap['title'].isna().value_counts()"
   ]
  },
  {
   "cell_type": "markdown",
   "id": "94d1d05e",
   "metadata": {},
   "source": [
    "### Dropping duplicates (according to `title` and `selftext`)"
   ]
  },
  {
   "cell_type": "code",
   "execution_count": 14,
   "id": "c43ad498",
   "metadata": {
    "scrolled": true
   },
   "outputs": [
    {
     "data": {
      "text/plain": [
       "(8887, 6)"
      ]
     },
     "execution_count": 14,
     "metadata": {},
     "output_type": "execute_result"
    }
   ],
   "source": [
    "ap.shape"
   ]
  },
  {
   "cell_type": "markdown",
   "id": "527e3325",
   "metadata": {},
   "source": [
    "There are 8887 rows in the DataFrame. Dropping duplicates:"
   ]
  },
  {
   "cell_type": "code",
   "execution_count": 15,
   "id": "1e64b5a4",
   "metadata": {},
   "outputs": [],
   "source": [
    "ap.drop_duplicates(subset=['title', 'selftext'], inplace=True)"
   ]
  },
  {
   "cell_type": "markdown",
   "id": "7d10bd09",
   "metadata": {},
   "source": [
    "The number is now different as some duplicate rows were dropped:"
   ]
  },
  {
   "cell_type": "code",
   "execution_count": 16,
   "id": "0df8500e",
   "metadata": {},
   "outputs": [
    {
     "data": {
      "text/plain": [
       "(8460, 6)"
      ]
     },
     "execution_count": 16,
     "metadata": {},
     "output_type": "execute_result"
    }
   ],
   "source": [
    "ap.shape"
   ]
  },
  {
   "cell_type": "markdown",
   "id": "15e8eb4f",
   "metadata": {},
   "source": [
    "### Removing posts with [removed] as the `selftext`\n",
    "\n",
    "There are no posts with '[removed]' as the `selftext` as we have already filtered them out at the webscraping stage."
   ]
  },
  {
   "cell_type": "code",
   "execution_count": 17,
   "id": "591ab1e4",
   "metadata": {
    "scrolled": true
   },
   "outputs": [
    {
     "data": {
      "text/plain": [
       "False    8460\n",
       "Name: selftext, dtype: int64"
      ]
     },
     "execution_count": 17,
     "metadata": {},
     "output_type": "execute_result"
    }
   ],
   "source": [
    "(ap['selftext'] == '[removed]').value_counts()"
   ]
  },
  {
   "cell_type": "markdown",
   "id": "4016063b",
   "metadata": {},
   "source": [
    "### Removing posts with [deleted] as the `selftext`\n",
    "\n",
    "There are a number of posts with '[deleted]' as the `selftext`:"
   ]
  },
  {
   "cell_type": "code",
   "execution_count": 18,
   "id": "dcb495fa",
   "metadata": {
    "scrolled": true
   },
   "outputs": [
    {
     "data": {
      "text/plain": [
       "False    7791\n",
       "True      669\n",
       "Name: selftext, dtype: int64"
      ]
     },
     "execution_count": 18,
     "metadata": {},
     "output_type": "execute_result"
    }
   ],
   "source": [
    "(ap['selftext'] == '[deleted]').value_counts()"
   ]
  },
  {
   "cell_type": "markdown",
   "id": "c7d13b77",
   "metadata": {},
   "source": [
    "Removing the rows:"
   ]
  },
  {
   "cell_type": "code",
   "execution_count": 19,
   "id": "3e182646",
   "metadata": {},
   "outputs": [],
   "source": [
    "ap = ap[ap['selftext'] != '[deleted]']"
   ]
  },
  {
   "cell_type": "markdown",
   "id": "560a3c6b",
   "metadata": {},
   "source": [
    "There are no more rows with '[deleted]' as the `selftext`."
   ]
  },
  {
   "cell_type": "code",
   "execution_count": 20,
   "id": "ae390b11",
   "metadata": {
    "scrolled": true
   },
   "outputs": [
    {
     "data": {
      "text/plain": [
       "False    7791\n",
       "Name: selftext, dtype: int64"
      ]
     },
     "execution_count": 20,
     "metadata": {},
     "output_type": "execute_result"
    }
   ],
   "source": [
    "(ap['selftext'] == '[deleted]').value_counts()"
   ]
  },
  {
   "cell_type": "markdown",
   "id": "e8a5aa85",
   "metadata": {},
   "source": [
    "### Removing completely empty posts\n",
    "\n",
    "There are no posts that have an empty string as the `selftext`:"
   ]
  },
  {
   "cell_type": "code",
   "execution_count": 21,
   "id": "65eae1d4",
   "metadata": {
    "scrolled": true
   },
   "outputs": [
    {
     "data": {
      "text/plain": [
       "False    7791\n",
       "Name: selftext, dtype: int64"
      ]
     },
     "execution_count": 21,
     "metadata": {},
     "output_type": "execute_result"
    }
   ],
   "source": [
    "(ap['selftext'] == '').value_counts()"
   ]
  },
  {
   "cell_type": "markdown",
   "id": "070a6121",
   "metadata": {},
   "source": [
    "### Removing AutoModerator posts\n",
    "\n",
    "There are a number of posts by 'AutoModerator'."
   ]
  },
  {
   "cell_type": "code",
   "execution_count": 22,
   "id": "3b7f00f8",
   "metadata": {},
   "outputs": [
    {
     "data": {
      "text/plain": [
       "False    7334\n",
       "True      457\n",
       "Name: author, dtype: int64"
      ]
     },
     "execution_count": 22,
     "metadata": {},
     "output_type": "execute_result"
    }
   ],
   "source": [
    "(ap['author'] == 'AutoModerator').value_counts()"
   ]
  },
  {
   "cell_type": "markdown",
   "id": "d2a34cc4",
   "metadata": {},
   "source": [
    "The posts are as follows:"
   ]
  },
  {
   "cell_type": "code",
   "execution_count": 23,
   "id": "00680272",
   "metadata": {
    "scrolled": true
   },
   "outputs": [
    {
     "data": {
      "text/html": [
       "<div>\n",
       "<style scoped>\n",
       "    .dataframe tbody tr th:only-of-type {\n",
       "        vertical-align: middle;\n",
       "    }\n",
       "\n",
       "    .dataframe tbody tr th {\n",
       "        vertical-align: top;\n",
       "    }\n",
       "\n",
       "    .dataframe thead th {\n",
       "        text-align: right;\n",
       "    }\n",
       "</style>\n",
       "<table border=\"1\" class=\"dataframe\">\n",
       "  <thead>\n",
       "    <tr style=\"text-align: right;\">\n",
       "      <th></th>\n",
       "      <th>author</th>\n",
       "      <th>author_flair_css_class</th>\n",
       "      <th>created_utc</th>\n",
       "      <th>selftext</th>\n",
       "      <th>subreddit</th>\n",
       "      <th>title</th>\n",
       "    </tr>\n",
       "  </thead>\n",
       "  <tbody>\n",
       "    <tr>\n",
       "      <th>28</th>\n",
       "      <td>AutoModerator</td>\n",
       "      <td>NaN</td>\n",
       "      <td>1635242418</td>\n",
       "      <td>Welcome to the Daily Advice Thread for /r/Apple. This thread can be used to ask for technical ad...</td>\n",
       "      <td>apple</td>\n",
       "      <td>Daily Advice Thread</td>\n",
       "    </tr>\n",
       "    <tr>\n",
       "      <th>1053</th>\n",
       "      <td>AutoModerator</td>\n",
       "      <td>NaN</td>\n",
       "      <td>1633406479</td>\n",
       "      <td>Today marks 10 years since the passing of Steve Jobs and we wanted to create a space here for th...</td>\n",
       "      <td>apple</td>\n",
       "      <td>Remembering Steve Jobs</td>\n",
       "    </tr>\n",
       "    <tr>\n",
       "      <th>2536</th>\n",
       "      <td>AutoModerator</td>\n",
       "      <td>NaN</td>\n",
       "      <td>1630674022</td>\n",
       "      <td>Hi r/Apple, welcome to today's megathread to discuss Apple's new CSAM on-device scanning.\\n\\nAs ...</td>\n",
       "      <td>apple</td>\n",
       "      <td>Daily Megathread - On-Device CSAM Scanning</td>\n",
       "    </tr>\n",
       "    <tr>\n",
       "      <th>3461</th>\n",
       "      <td>AutoModerator</td>\n",
       "      <td>NaN</td>\n",
       "      <td>1628859620</td>\n",
       "      <td>Hi r/Apple, welcome to today's megathread to discuss Apple's new CSAM on-device scanning.\\n\\nAs ...</td>\n",
       "      <td>apple</td>\n",
       "      <td>Daily Megathread - On-Device CSAM Scanning</td>\n",
       "    </tr>\n",
       "    <tr>\n",
       "      <th>3537</th>\n",
       "      <td>AutoModerator</td>\n",
       "      <td>NaN</td>\n",
       "      <td>1628686821</td>\n",
       "      <td>Hi r/Apple, welcome to today's megathread to discuss Apple's new CSAM on-device scanning.\\n\\nAs ...</td>\n",
       "      <td>apple</td>\n",
       "      <td>CSAM Daily Megathread</td>\n",
       "    </tr>\n",
       "  </tbody>\n",
       "</table>\n",
       "</div>"
      ],
      "text/plain": [
       "             author author_flair_css_class  created_utc  \\\n",
       "28    AutoModerator                    NaN   1635242418   \n",
       "1053  AutoModerator                    NaN   1633406479   \n",
       "2536  AutoModerator                    NaN   1630674022   \n",
       "3461  AutoModerator                    NaN   1628859620   \n",
       "3537  AutoModerator                    NaN   1628686821   \n",
       "\n",
       "                                                                                                 selftext  \\\n",
       "28    Welcome to the Daily Advice Thread for /r/Apple. This thread can be used to ask for technical ad...   \n",
       "1053  Today marks 10 years since the passing of Steve Jobs and we wanted to create a space here for th...   \n",
       "2536  Hi r/Apple, welcome to today's megathread to discuss Apple's new CSAM on-device scanning.\\n\\nAs ...   \n",
       "3461  Hi r/Apple, welcome to today's megathread to discuss Apple's new CSAM on-device scanning.\\n\\nAs ...   \n",
       "3537  Hi r/Apple, welcome to today's megathread to discuss Apple's new CSAM on-device scanning.\\n\\nAs ...   \n",
       "\n",
       "     subreddit                                       title  \n",
       "28       apple                         Daily Advice Thread  \n",
       "1053     apple                      Remembering Steve Jobs  \n",
       "2536     apple  Daily Megathread - On-Device CSAM Scanning  \n",
       "3461     apple  Daily Megathread - On-Device CSAM Scanning  \n",
       "3537     apple                       CSAM Daily Megathread  "
      ]
     },
     "execution_count": 23,
     "metadata": {},
     "output_type": "execute_result"
    }
   ],
   "source": [
    "ap[ap['author'] == 'AutoModerator'].head()"
   ]
  },
  {
   "cell_type": "markdown",
   "id": "1099bea4",
   "metadata": {},
   "source": [
    "They appear to be moderator posts opening discussion threads and will be filtered out:"
   ]
  },
  {
   "cell_type": "code",
   "execution_count": 24,
   "id": "febf8319",
   "metadata": {},
   "outputs": [],
   "source": [
    "ap = ap[ap['author'] != 'AutoModerator']"
   ]
  },
  {
   "cell_type": "markdown",
   "id": "ee5f6765",
   "metadata": {},
   "source": [
    "There are no more posts by 'AutoModerator'."
   ]
  },
  {
   "cell_type": "code",
   "execution_count": 25,
   "id": "2edb6b52",
   "metadata": {
    "scrolled": true
   },
   "outputs": [
    {
     "data": {
      "text/plain": [
       "False    7334\n",
       "Name: author, dtype: int64"
      ]
     },
     "execution_count": 25,
     "metadata": {},
     "output_type": "execute_result"
    }
   ],
   "source": [
    "(ap['author'] == 'AutoModerator').value_counts()"
   ]
  },
  {
   "cell_type": "markdown",
   "id": "b4a00398",
   "metadata": {},
   "source": [
    "### Removing exjr_'s posts\n",
    "\n",
    "There are a number of posts by 'exjr_'."
   ]
  },
  {
   "cell_type": "code",
   "execution_count": 26,
   "id": "116a1021",
   "metadata": {},
   "outputs": [
    {
     "data": {
      "text/plain": [
       "False    7257\n",
       "True       77\n",
       "Name: author, dtype: int64"
      ]
     },
     "execution_count": 26,
     "metadata": {},
     "output_type": "execute_result"
    }
   ],
   "source": [
    "(ap['author'] == 'exjr_').value_counts()"
   ]
  },
  {
   "cell_type": "markdown",
   "id": "cb877de4",
   "metadata": {},
   "source": [
    "The posts are as follows:"
   ]
  },
  {
   "cell_type": "code",
   "execution_count": 27,
   "id": "b38be991",
   "metadata": {
    "scrolled": true
   },
   "outputs": [
    {
     "data": {
      "text/html": [
       "<div>\n",
       "<style scoped>\n",
       "    .dataframe tbody tr th:only-of-type {\n",
       "        vertical-align: middle;\n",
       "    }\n",
       "\n",
       "    .dataframe tbody tr th {\n",
       "        vertical-align: top;\n",
       "    }\n",
       "\n",
       "    .dataframe thead th {\n",
       "        text-align: right;\n",
       "    }\n",
       "</style>\n",
       "<table border=\"1\" class=\"dataframe\">\n",
       "  <thead>\n",
       "    <tr style=\"text-align: right;\">\n",
       "      <th></th>\n",
       "      <th>author</th>\n",
       "      <th>author_flair_css_class</th>\n",
       "      <th>created_utc</th>\n",
       "      <th>selftext</th>\n",
       "      <th>subreddit</th>\n",
       "      <th>title</th>\n",
       "    </tr>\n",
       "  </thead>\n",
       "  <tbody>\n",
       "    <tr>\n",
       "      <th>76</th>\n",
       "      <td>exjr_</td>\n",
       "      <td>NaN</td>\n",
       "      <td>1635181485</td>\n",
       "      <td>#It's update day! \\n\\nI'll update the post when OTA is out. In the meantime, IPSW files are avai...</td>\n",
       "      <td>apple</td>\n",
       "      <td>Apple releases iOS/iPadOS 15.1, watchOS 8.1, audioOS 15.1, tvOS 15.1!</td>\n",
       "    </tr>\n",
       "    <tr>\n",
       "      <th>78</th>\n",
       "      <td>exjr_</td>\n",
       "      <td>NaN</td>\n",
       "      <td>1635181358</td>\n",
       "      <td>Here's Monterey's landing page: https://www.apple.com/macos/monterey/\\n\\nFull list of features: ...</td>\n",
       "      <td>apple</td>\n",
       "      <td>Apple releases macOS Monterey!</td>\n",
       "    </tr>\n",
       "    <tr>\n",
       "      <th>97</th>\n",
       "      <td>exjr_</td>\n",
       "      <td>NaN</td>\n",
       "      <td>1635167750</td>\n",
       "      <td>Sorry for being late here. Updating as fast as I can.</td>\n",
       "      <td>apple</td>\n",
       "      <td>Unboxing, First Impressions &amp;amp; Review Megathread | MacBook Pro Late 2021 (14-inch, and 16-inch)</td>\n",
       "    </tr>\n",
       "    <tr>\n",
       "      <th>431</th>\n",
       "      <td>exjr_</td>\n",
       "      <td>NaN</td>\n",
       "      <td>1634605416</td>\n",
       "      <td>Hey /r/Apple!\\n\\nIn an attempt to curb the number of threads about pre-order choices/configurati...</td>\n",
       "      <td>apple</td>\n",
       "      <td>Pre-Order and Shipping Megathread | MacBook Pro Late 2021 (14-inch, and 16-inch) &amp;amp; AirPods 3...</td>\n",
       "    </tr>\n",
       "    <tr>\n",
       "      <th>713</th>\n",
       "      <td>exjr_</td>\n",
       "      <td>NaN</td>\n",
       "      <td>1634130061</td>\n",
       "      <td>Embargo has been lifted making this thread to links to the major media outlets unboxing/reviewin...</td>\n",
       "      <td>apple</td>\n",
       "      <td>Unboxing, First Impressions &amp;amp; Review Megathread | Apple Watch Series 7</td>\n",
       "    </tr>\n",
       "  </tbody>\n",
       "</table>\n",
       "</div>"
      ],
      "text/plain": [
       "    author author_flair_css_class  created_utc  \\\n",
       "76   exjr_                    NaN   1635181485   \n",
       "78   exjr_                    NaN   1635181358   \n",
       "97   exjr_                    NaN   1635167750   \n",
       "431  exjr_                    NaN   1634605416   \n",
       "713  exjr_                    NaN   1634130061   \n",
       "\n",
       "                                                                                                selftext  \\\n",
       "76   #It's update day! \\n\\nI'll update the post when OTA is out. In the meantime, IPSW files are avai...   \n",
       "78   Here's Monterey's landing page: https://www.apple.com/macos/monterey/\\n\\nFull list of features: ...   \n",
       "97                                                 Sorry for being late here. Updating as fast as I can.   \n",
       "431  Hey /r/Apple!\\n\\nIn an attempt to curb the number of threads about pre-order choices/configurati...   \n",
       "713  Embargo has been lifted making this thread to links to the major media outlets unboxing/reviewin...   \n",
       "\n",
       "    subreddit  \\\n",
       "76      apple   \n",
       "78      apple   \n",
       "97      apple   \n",
       "431     apple   \n",
       "713     apple   \n",
       "\n",
       "                                                                                                   title  \n",
       "76                                 Apple releases iOS/iPadOS 15.1, watchOS 8.1, audioOS 15.1, tvOS 15.1!  \n",
       "78                                                                        Apple releases macOS Monterey!  \n",
       "97    Unboxing, First Impressions &amp; Review Megathread | MacBook Pro Late 2021 (14-inch, and 16-inch)  \n",
       "431  Pre-Order and Shipping Megathread | MacBook Pro Late 2021 (14-inch, and 16-inch) &amp; AirPods 3...  \n",
       "713                           Unboxing, First Impressions &amp; Review Megathread | Apple Watch Series 7  "
      ]
     },
     "execution_count": 27,
     "metadata": {},
     "output_type": "execute_result"
    }
   ],
   "source": [
    "ap[ap['author'] == 'exjr_'].head()"
   ]
  },
  {
   "cell_type": "markdown",
   "id": "65af2b62",
   "metadata": {},
   "source": [
    "They appear to be moderator posts opening discussion threads and will be filtered out:"
   ]
  },
  {
   "cell_type": "code",
   "execution_count": 28,
   "id": "515a4f7b",
   "metadata": {},
   "outputs": [],
   "source": [
    "ap = ap[ap['author'] != 'exjr_']"
   ]
  },
  {
   "cell_type": "markdown",
   "id": "aae4d596",
   "metadata": {},
   "source": [
    "There are no more posts by 'exjr_'."
   ]
  },
  {
   "cell_type": "code",
   "execution_count": 29,
   "id": "077790f8",
   "metadata": {},
   "outputs": [
    {
     "data": {
      "text/plain": [
       "False    7257\n",
       "Name: author, dtype: int64"
      ]
     },
     "execution_count": 29,
     "metadata": {},
     "output_type": "execute_result"
    }
   ],
   "source": [
    "(ap['author'] == 'exjr_').value_counts()"
   ]
  },
  {
   "cell_type": "markdown",
   "id": "ae671681",
   "metadata": {},
   "source": [
    "### Removing moderator posts \n",
    "\n",
    "Using the `author_flair_css_class` column, we can see that there are more moderator posts."
   ]
  },
  {
   "cell_type": "code",
   "execution_count": 30,
   "id": "1a932564",
   "metadata": {},
   "outputs": [
    {
     "data": {
      "text/plain": [
       "NaN          7208\n",
       "moderator      49\n",
       "Name: author_flair_css_class, dtype: int64"
      ]
     },
     "execution_count": 30,
     "metadata": {},
     "output_type": "execute_result"
    }
   ],
   "source": [
    "ap['author_flair_css_class'].value_counts(dropna=False)"
   ]
  },
  {
   "cell_type": "markdown",
   "id": "de829da3",
   "metadata": {},
   "source": [
    "The posts are as follows:"
   ]
  },
  {
   "cell_type": "code",
   "execution_count": 31,
   "id": "d2db0251",
   "metadata": {},
   "outputs": [
    {
     "data": {
      "text/html": [
       "<div>\n",
       "<style scoped>\n",
       "    .dataframe tbody tr th:only-of-type {\n",
       "        vertical-align: middle;\n",
       "    }\n",
       "\n",
       "    .dataframe tbody tr th {\n",
       "        vertical-align: top;\n",
       "    }\n",
       "\n",
       "    .dataframe thead th {\n",
       "        text-align: right;\n",
       "    }\n",
       "</style>\n",
       "<table border=\"1\" class=\"dataframe\">\n",
       "  <thead>\n",
       "    <tr style=\"text-align: right;\">\n",
       "      <th></th>\n",
       "      <th>title</th>\n",
       "      <th>selftext</th>\n",
       "      <th>author</th>\n",
       "    </tr>\n",
       "  </thead>\n",
       "  <tbody>\n",
       "    <tr>\n",
       "      <th>484</th>\n",
       "      <td>Apple's \"Unleashed\" | Post-Event Megathread</td>\n",
       "      <td>Hello r/Apple and welcome to the post-event megathread for Apple's \"Unleashed\" event\\n\\nLet us k...</td>\n",
       "      <td>aaronp613</td>\n",
       "    </tr>\n",
       "    <tr>\n",
       "      <th>495</th>\n",
       "      <td>Apple's \"Unleashed\" | Event Megathread</td>\n",
       "      <td># GOOD MORNING! GOOD MORNING! GOOOOOOD MORNING!\\n\\n## What to expect:\\n\\n* 14\" MacBook Pro (M1X ...</td>\n",
       "      <td>aaronp613</td>\n",
       "    </tr>\n",
       "    <tr>\n",
       "      <th>509</th>\n",
       "      <td>Apple's \"Unleashed\" | Pre-Event Megathread</td>\n",
       "      <td>## GOOD MORNING, r/Apple!\\n\\n## Welcome to Apple's \"Unleashed\" Pre-Event Megathread!\\n\\n[Only a ...</td>\n",
       "      <td>aaronp613</td>\n",
       "    </tr>\n",
       "    <tr>\n",
       "      <th>531</th>\n",
       "      <td>Will Apple think \"you are going to love it?\"</td>\n",
       "      <td>\\n\\n[View Poll](https://www.reddit.com/poll/qa8ppr)</td>\n",
       "      <td>aaronp613</td>\n",
       "    </tr>\n",
       "    <tr>\n",
       "      <th>543</th>\n",
       "      <td>PSA: How submissions will work tomorrow during the \"Unleashed\" Apple event</td>\n",
       "      <td>Hey [r/Apple](https://old.reddit.com/r/Apple),\\n\\nWe are 1 day away from Apple's \"Unleashed\" eve...</td>\n",
       "      <td>aaronp613</td>\n",
       "    </tr>\n",
       "  </tbody>\n",
       "</table>\n",
       "</div>"
      ],
      "text/plain": [
       "                                                                          title  \\\n",
       "484                                 Apple's \"Unleashed\" | Post-Event Megathread   \n",
       "495                                      Apple's \"Unleashed\" | Event Megathread   \n",
       "509                                  Apple's \"Unleashed\" | Pre-Event Megathread   \n",
       "531                                Will Apple think \"you are going to love it?\"   \n",
       "543  PSA: How submissions will work tomorrow during the \"Unleashed\" Apple event   \n",
       "\n",
       "                                                                                                selftext  \\\n",
       "484  Hello r/Apple and welcome to the post-event megathread for Apple's \"Unleashed\" event\\n\\nLet us k...   \n",
       "495  # GOOD MORNING! GOOD MORNING! GOOOOOOD MORNING!\\n\\n## What to expect:\\n\\n* 14\" MacBook Pro (M1X ...   \n",
       "509  ## GOOD MORNING, r/Apple!\\n\\n## Welcome to Apple's \"Unleashed\" Pre-Event Megathread!\\n\\n[Only a ...   \n",
       "531                                                  \\n\\n[View Poll](https://www.reddit.com/poll/qa8ppr)   \n",
       "543  Hey [r/Apple](https://old.reddit.com/r/Apple),\\n\\nWe are 1 day away from Apple's \"Unleashed\" eve...   \n",
       "\n",
       "        author  \n",
       "484  aaronp613  \n",
       "495  aaronp613  \n",
       "509  aaronp613  \n",
       "531  aaronp613  \n",
       "543  aaronp613  "
      ]
     },
     "execution_count": 31,
     "metadata": {},
     "output_type": "execute_result"
    }
   ],
   "source": [
    "ap[['title', 'selftext', 'author']][ap['author_flair_css_class'] == 'moderator'].head(5)"
   ]
  },
  {
   "cell_type": "markdown",
   "id": "1cbf8916",
   "metadata": {},
   "source": [
    "They appear to be moderator posts opening discussion threads and will be filtered out:"
   ]
  },
  {
   "cell_type": "code",
   "execution_count": 32,
   "id": "92064129",
   "metadata": {},
   "outputs": [],
   "source": [
    "ap = ap[ap['author_flair_css_class'] != 'moderator']"
   ]
  },
  {
   "cell_type": "markdown",
   "id": "6edd214d",
   "metadata": {},
   "source": [
    "There are no more moderator posts."
   ]
  },
  {
   "cell_type": "code",
   "execution_count": 33,
   "id": "6664a2a6",
   "metadata": {
    "scrolled": true
   },
   "outputs": [
    {
     "data": {
      "text/plain": [
       "NaN    7208\n",
       "Name: author_flair_css_class, dtype: int64"
      ]
     },
     "execution_count": 33,
     "metadata": {},
     "output_type": "execute_result"
    }
   ],
   "source": [
    "ap['author_flair_css_class'].value_counts(dropna=False)"
   ]
  },
  {
   "cell_type": "markdown",
   "id": "e84a9c01",
   "metadata": {},
   "source": [
    "### Removing links\n",
    "\n",
    "There are links in the data:"
   ]
  },
  {
   "cell_type": "code",
   "execution_count": 34,
   "id": "bb0859b7",
   "metadata": {},
   "outputs": [
    {
     "data": {
      "text/html": [
       "<div>\n",
       "<style scoped>\n",
       "    .dataframe tbody tr th:only-of-type {\n",
       "        vertical-align: middle;\n",
       "    }\n",
       "\n",
       "    .dataframe tbody tr th {\n",
       "        vertical-align: top;\n",
       "    }\n",
       "\n",
       "    .dataframe thead th {\n",
       "        text-align: right;\n",
       "    }\n",
       "</style>\n",
       "<table border=\"1\" class=\"dataframe\">\n",
       "  <thead>\n",
       "    <tr style=\"text-align: right;\">\n",
       "      <th></th>\n",
       "      <th>author</th>\n",
       "      <th>author_flair_css_class</th>\n",
       "      <th>created_utc</th>\n",
       "      <th>selftext</th>\n",
       "      <th>subreddit</th>\n",
       "      <th>title</th>\n",
       "    </tr>\n",
       "  </thead>\n",
       "  <tbody>\n",
       "    <tr>\n",
       "      <th>8231</th>\n",
       "      <td>chestdrop</td>\n",
       "      <td>NaN</td>\n",
       "      <td>1618748178</td>\n",
       "      <td>After 1 year of hard work, we’ve launched our first beta of Moonshot, social network RPG, where ...</td>\n",
       "      <td>apple</td>\n",
       "      <td>BETA: Moonshot is not your average social network: it has only original, sincere content and it'...</td>\n",
       "    </tr>\n",
       "    <tr>\n",
       "      <th>8802</th>\n",
       "      <td>DrSteveBrule_</td>\n",
       "      <td>NaN</td>\n",
       "      <td>1616979959</td>\n",
       "      <td>[Demo Video](https://youtu.be/qjbHOk4Bl0A)\\n\\nFor the last 3 years, we have been developing an a...</td>\n",
       "      <td>apple</td>\n",
       "      <td>[Self-promotion] I made an AI powered pill identification app after almost dying from an incorre...</td>\n",
       "    </tr>\n",
       "    <tr>\n",
       "      <th>12232</th>\n",
       "      <td>chufucious</td>\n",
       "      <td>NaN</td>\n",
       "      <td>1607892663</td>\n",
       "      <td>Hi all!\\n\\nCaptioning videos can be time consuming.\\n\\nI created Tap Tap Cap to make the quickes...</td>\n",
       "      <td>apple</td>\n",
       "      <td>Tap Tap Cap - The easiest way to time text on videos!</td>\n",
       "    </tr>\n",
       "    <tr>\n",
       "      <th>15442</th>\n",
       "      <td>rkstk</td>\n",
       "      <td>NaN</td>\n",
       "      <td>1602434397</td>\n",
       "      <td>Hi all, developer here. Based on your feedback from 3 months ago I added quite a few things to t...</td>\n",
       "      <td>apple</td>\n",
       "      <td>Life Notes: personal notes and knowledge base app (beta)</td>\n",
       "    </tr>\n",
       "    <tr>\n",
       "      <th>15456</th>\n",
       "      <td>rkstk</td>\n",
       "      <td>NaN</td>\n",
       "      <td>1602423531</td>\n",
       "      <td>Hi all, developer here. Based on your feedback from 3 months ago I added quite a few things to t...</td>\n",
       "      <td>apple</td>\n",
       "      <td>3 months later: update for Life Notes writing app now with support for reminders</td>\n",
       "    </tr>\n",
       "  </tbody>\n",
       "</table>\n",
       "</div>"
      ],
      "text/plain": [
       "              author author_flair_css_class  created_utc  \\\n",
       "8231       chestdrop                    NaN   1618748178   \n",
       "8802   DrSteveBrule_                    NaN   1616979959   \n",
       "12232     chufucious                    NaN   1607892663   \n",
       "15442          rkstk                    NaN   1602434397   \n",
       "15456          rkstk                    NaN   1602423531   \n",
       "\n",
       "                                                                                                  selftext  \\\n",
       "8231   After 1 year of hard work, we’ve launched our first beta of Moonshot, social network RPG, where ...   \n",
       "8802   [Demo Video](https://youtu.be/qjbHOk4Bl0A)\\n\\nFor the last 3 years, we have been developing an a...   \n",
       "12232  Hi all!\\n\\nCaptioning videos can be time consuming.\\n\\nI created Tap Tap Cap to make the quickes...   \n",
       "15442  Hi all, developer here. Based on your feedback from 3 months ago I added quite a few things to t...   \n",
       "15456  Hi all, developer here. Based on your feedback from 3 months ago I added quite a few things to t...   \n",
       "\n",
       "      subreddit  \\\n",
       "8231      apple   \n",
       "8802      apple   \n",
       "12232     apple   \n",
       "15442     apple   \n",
       "15456     apple   \n",
       "\n",
       "                                                                                                     title  \n",
       "8231   BETA: Moonshot is not your average social network: it has only original, sincere content and it'...  \n",
       "8802   [Self-promotion] I made an AI powered pill identification app after almost dying from an incorre...  \n",
       "12232                                                Tap Tap Cap - The easiest way to time text on videos!  \n",
       "15442                                             Life Notes: personal notes and knowledge base app (beta)  \n",
       "15456                     3 months later: update for Life Notes writing app now with support for reminders  "
      ]
     },
     "execution_count": 34,
     "metadata": {},
     "output_type": "execute_result"
    }
   ],
   "source": [
    "ap[ap['selftext'].str.contains('http://', regex=False)].head()"
   ]
  },
  {
   "cell_type": "code",
   "execution_count": 35,
   "id": "3e01bc15",
   "metadata": {},
   "outputs": [
    {
     "data": {
      "text/html": [
       "<div>\n",
       "<style scoped>\n",
       "    .dataframe tbody tr th:only-of-type {\n",
       "        vertical-align: middle;\n",
       "    }\n",
       "\n",
       "    .dataframe tbody tr th {\n",
       "        vertical-align: top;\n",
       "    }\n",
       "\n",
       "    .dataframe thead th {\n",
       "        text-align: right;\n",
       "    }\n",
       "</style>\n",
       "<table border=\"1\" class=\"dataframe\">\n",
       "  <thead>\n",
       "    <tr style=\"text-align: right;\">\n",
       "      <th></th>\n",
       "      <th>author</th>\n",
       "      <th>author_flair_css_class</th>\n",
       "      <th>created_utc</th>\n",
       "      <th>selftext</th>\n",
       "      <th>subreddit</th>\n",
       "      <th>title</th>\n",
       "    </tr>\n",
       "  </thead>\n",
       "  <tbody>\n",
       "    <tr>\n",
       "      <th>139</th>\n",
       "      <td>_dave_maxwell_</td>\n",
       "      <td>NaN</td>\n",
       "      <td>1635077210</td>\n",
       "      <td>[TextPhoto](https://apps.apple.com/app/id1581624527) is the mobile app that you can use to conve...</td>\n",
       "      <td>apple</td>\n",
       "      <td>I made the app to convert pictures into word artworks (typography effect)</td>\n",
       "    </tr>\n",
       "    <tr>\n",
       "      <th>144</th>\n",
       "      <td>stefanvd</td>\n",
       "      <td>NaN</td>\n",
       "      <td>1635069223</td>\n",
       "      <td>Hello Apple fans,\\n\\nHope you have a great autumn Sunday.\\n\\nI love to tell you about my new Saf...</td>\n",
       "      <td>apple</td>\n",
       "      <td>New Safari extension that customizable your Safari new tab page (with video background, image, a...</td>\n",
       "    </tr>\n",
       "    <tr>\n",
       "      <th>153</th>\n",
       "      <td>happybuy</td>\n",
       "      <td>NaN</td>\n",
       "      <td>1635049003</td>\n",
       "      <td>Hey redditors, after a long time in development (and lots of requests!!) we’ve released an updat...</td>\n",
       "      <td>apple</td>\n",
       "      <td>Block YouTube ads in Safari with Magic Lasso Adblock v3.1</td>\n",
       "    </tr>\n",
       "    <tr>\n",
       "      <th>534</th>\n",
       "      <td>stefanvd</td>\n",
       "      <td>NaN</td>\n",
       "      <td>1634502602</td>\n",
       "      <td>Hello Apple fans,\\n\\nHope you have a great autumn Sunday.\\n\\nI love to tell you about my new Saf...</td>\n",
       "      <td>apple</td>\n",
       "      <td>New Safari extension that customizable your Safari new tab page for iOS 15 and macOS 12 Monterey</td>\n",
       "    </tr>\n",
       "    <tr>\n",
       "      <th>542</th>\n",
       "      <td>TimBurbanks1970</td>\n",
       "      <td>NaN</td>\n",
       "      <td>1634490563</td>\n",
       "      <td>Some mobile games developers are already on the move after the Epic / Apple lawsuit… several gam...</td>\n",
       "      <td>apple</td>\n",
       "      <td>Apple &amp;lt;&amp;gt; Epic lawsuit - Developers already on the move, how will Apple react?</td>\n",
       "    </tr>\n",
       "  </tbody>\n",
       "</table>\n",
       "</div>"
      ],
      "text/plain": [
       "              author author_flair_css_class  created_utc  \\\n",
       "139   _dave_maxwell_                    NaN   1635077210   \n",
       "144         stefanvd                    NaN   1635069223   \n",
       "153         happybuy                    NaN   1635049003   \n",
       "534         stefanvd                    NaN   1634502602   \n",
       "542  TimBurbanks1970                    NaN   1634490563   \n",
       "\n",
       "                                                                                                selftext  \\\n",
       "139  [TextPhoto](https://apps.apple.com/app/id1581624527) is the mobile app that you can use to conve...   \n",
       "144  Hello Apple fans,\\n\\nHope you have a great autumn Sunday.\\n\\nI love to tell you about my new Saf...   \n",
       "153  Hey redditors, after a long time in development (and lots of requests!!) we’ve released an updat...   \n",
       "534  Hello Apple fans,\\n\\nHope you have a great autumn Sunday.\\n\\nI love to tell you about my new Saf...   \n",
       "542  Some mobile games developers are already on the move after the Epic / Apple lawsuit… several gam...   \n",
       "\n",
       "    subreddit  \\\n",
       "139     apple   \n",
       "144     apple   \n",
       "153     apple   \n",
       "534     apple   \n",
       "542     apple   \n",
       "\n",
       "                                                                                                   title  \n",
       "139                            I made the app to convert pictures into word artworks (typography effect)  \n",
       "144  New Safari extension that customizable your Safari new tab page (with video background, image, a...  \n",
       "153                                            Block YouTube ads in Safari with Magic Lasso Adblock v3.1  \n",
       "534     New Safari extension that customizable your Safari new tab page for iOS 15 and macOS 12 Monterey  \n",
       "542                  Apple &lt;&gt; Epic lawsuit - Developers already on the move, how will Apple react?  "
      ]
     },
     "execution_count": 35,
     "metadata": {},
     "output_type": "execute_result"
    }
   ],
   "source": [
    "ap[ap['selftext'].str.contains('www.', regex=False)].head()"
   ]
  },
  {
   "cell_type": "markdown",
   "id": "df870a75",
   "metadata": {},
   "source": [
    "Links in the title and selftext will be removed using the following code:"
   ]
  },
  {
   "cell_type": "code",
   "execution_count": 36,
   "id": "7623d2e8",
   "metadata": {},
   "outputs": [],
   "source": [
    "# Using a Regex expression to match a string with the following format: \n",
    "# www.example(rest of link) (or starting with http:// or https://). Case insensitive. \n",
    "# Replaces the string with a space. Does not target links not starting with http or www.  \n",
    "ap['selftext'] = ap['selftext'].str.replace(r'(http|www[.])[\\S]*', \n",
    "                                            ' ', \n",
    "                                            regex=True, \n",
    "                                            case=False)\n",
    "ap['title'] = ap['title'].str.replace(r'(http|www[.])[\\S]*', \n",
    "                                      ' ', \n",
    "                                      regex=True, \n",
    "                                      case=False)\n",
    "\n",
    "# Using a Regex expression to match a string with the following format:\n",
    "# example.com (or ending with .net or .org). Case insensitive. \n",
    "# Replaces the string with a space. Only targets these 3 common domain names. \n",
    "ap['selftext'] = ap['selftext'].str.replace(r'(\\S(?=.*(\\.com|\\.net|\\.org))\\S*)', \n",
    "                                            ' ', \n",
    "                                            regex=True, \n",
    "                                            case=False)\n",
    "ap['title'] = ap['title'].str.replace(r'(\\S(?=.*(\\.com|\\.net|\\.org))\\S*)', \n",
    "                                      ' ', \n",
    "                                      regex=True, \n",
    "                                      case=False)"
   ]
  },
  {
   "cell_type": "markdown",
   "id": "800e9432",
   "metadata": {},
   "source": [
    "The links have been removed:"
   ]
  },
  {
   "cell_type": "code",
   "execution_count": 37,
   "id": "d19acf6b",
   "metadata": {},
   "outputs": [
    {
     "data": {
      "text/html": [
       "<div>\n",
       "<style scoped>\n",
       "    .dataframe tbody tr th:only-of-type {\n",
       "        vertical-align: middle;\n",
       "    }\n",
       "\n",
       "    .dataframe tbody tr th {\n",
       "        vertical-align: top;\n",
       "    }\n",
       "\n",
       "    .dataframe thead th {\n",
       "        text-align: right;\n",
       "    }\n",
       "</style>\n",
       "<table border=\"1\" class=\"dataframe\">\n",
       "  <thead>\n",
       "    <tr style=\"text-align: right;\">\n",
       "      <th></th>\n",
       "      <th>author</th>\n",
       "      <th>author_flair_css_class</th>\n",
       "      <th>created_utc</th>\n",
       "      <th>selftext</th>\n",
       "      <th>subreddit</th>\n",
       "      <th>title</th>\n",
       "    </tr>\n",
       "  </thead>\n",
       "  <tbody>\n",
       "  </tbody>\n",
       "</table>\n",
       "</div>"
      ],
      "text/plain": [
       "Empty DataFrame\n",
       "Columns: [author, author_flair_css_class, created_utc, selftext, subreddit, title]\n",
       "Index: []"
      ]
     },
     "execution_count": 37,
     "metadata": {},
     "output_type": "execute_result"
    }
   ],
   "source": [
    "ap[ap['selftext'].str.contains('http://', regex=False)].head()"
   ]
  },
  {
   "cell_type": "code",
   "execution_count": 38,
   "id": "f3e3e0c9",
   "metadata": {},
   "outputs": [
    {
     "data": {
      "text/html": [
       "<div>\n",
       "<style scoped>\n",
       "    .dataframe tbody tr th:only-of-type {\n",
       "        vertical-align: middle;\n",
       "    }\n",
       "\n",
       "    .dataframe tbody tr th {\n",
       "        vertical-align: top;\n",
       "    }\n",
       "\n",
       "    .dataframe thead th {\n",
       "        text-align: right;\n",
       "    }\n",
       "</style>\n",
       "<table border=\"1\" class=\"dataframe\">\n",
       "  <thead>\n",
       "    <tr style=\"text-align: right;\">\n",
       "      <th></th>\n",
       "      <th>author</th>\n",
       "      <th>author_flair_css_class</th>\n",
       "      <th>created_utc</th>\n",
       "      <th>selftext</th>\n",
       "      <th>subreddit</th>\n",
       "      <th>title</th>\n",
       "    </tr>\n",
       "  </thead>\n",
       "  <tbody>\n",
       "  </tbody>\n",
       "</table>\n",
       "</div>"
      ],
      "text/plain": [
       "Empty DataFrame\n",
       "Columns: [author, author_flair_css_class, created_utc, selftext, subreddit, title]\n",
       "Index: []"
      ]
     },
     "execution_count": 38,
     "metadata": {},
     "output_type": "execute_result"
    }
   ],
   "source": [
    "ap[ap['selftext'].str.contains('www.', regex=False)].head()"
   ]
  },
  {
   "cell_type": "markdown",
   "id": "0306e6da",
   "metadata": {},
   "source": [
    "### Removing new line characters\n",
    "\n",
    "Some new line characters were spotted:"
   ]
  },
  {
   "cell_type": "code",
   "execution_count": 39,
   "id": "2fc86bea",
   "metadata": {},
   "outputs": [
    {
     "data": {
      "text/html": [
       "<div>\n",
       "<style scoped>\n",
       "    .dataframe tbody tr th:only-of-type {\n",
       "        vertical-align: middle;\n",
       "    }\n",
       "\n",
       "    .dataframe tbody tr th {\n",
       "        vertical-align: top;\n",
       "    }\n",
       "\n",
       "    .dataframe thead th {\n",
       "        text-align: right;\n",
       "    }\n",
       "</style>\n",
       "<table border=\"1\" class=\"dataframe\">\n",
       "  <thead>\n",
       "    <tr style=\"text-align: right;\">\n",
       "      <th></th>\n",
       "      <th>author</th>\n",
       "      <th>author_flair_css_class</th>\n",
       "      <th>created_utc</th>\n",
       "      <th>selftext</th>\n",
       "      <th>subreddit</th>\n",
       "      <th>title</th>\n",
       "    </tr>\n",
       "  </thead>\n",
       "  <tbody>\n",
       "    <tr>\n",
       "      <th>3</th>\n",
       "      <td>Gingerstrands</td>\n",
       "      <td>NaN</td>\n",
       "      <td>1635283070</td>\n",
       "      <td>I went to the Apple Store today to look at the pros in person. To be honest, I’m even more uncer...</td>\n",
       "      <td>apple</td>\n",
       "      <td>To anyone like me who was wondering: yes, you can fit two apps side by side on the 14” comfortab...</td>\n",
       "    </tr>\n",
       "    <tr>\n",
       "      <th>15</th>\n",
       "      <td>SnooJokes102</td>\n",
       "      <td>NaN</td>\n",
       "      <td>1635269119</td>\n",
       "      <td>I bought some airpods pro about a year  bought the full cover for it including accidents however...</td>\n",
       "      <td>apple</td>\n",
       "      <td>Question: is it better to ship airpods to apple or take them to the apple store?</td>\n",
       "    </tr>\n",
       "    <tr>\n",
       "      <th>54</th>\n",
       "      <td>Furstman</td>\n",
       "      <td>NaN</td>\n",
       "      <td>1635203770</td>\n",
       "      <td>I did download some Apple Desktop Background pictures and I saw an iCloud Icon and download it b...</td>\n",
       "      <td>apple</td>\n",
       "      <td>I installed Monterey and I can't delete the Apple Background Pictures.</td>\n",
       "    </tr>\n",
       "    <tr>\n",
       "      <th>55</th>\n",
       "      <td>binarysmurf</td>\n",
       "      <td>NaN</td>\n",
       "      <td>1635201204</td>\n",
       "      <td>i have an iMac 13,2 which EOL'ed at Catalina. I used OpenCore Legacy Patcher to install Big Sur,...</td>\n",
       "      <td>apple</td>\n",
       "      <td>OpenCore Legacy Patcher Big Sur -&amp;gt; OpenCore Legacy Patcher Monterey?</td>\n",
       "    </tr>\n",
       "    <tr>\n",
       "      <th>59</th>\n",
       "      <td>KatnUSSblack</td>\n",
       "      <td>NaN</td>\n",
       "      <td>1635197242</td>\n",
       "      <td>What are your likes, dislikes, things you wanna try? \\n\\nHow is it going to enhance your product...</td>\n",
       "      <td>apple</td>\n",
       "      <td>iOS 15.1 - how are we feeling about it??</td>\n",
       "    </tr>\n",
       "  </tbody>\n",
       "</table>\n",
       "</div>"
      ],
      "text/plain": [
       "           author author_flair_css_class  created_utc  \\\n",
       "3   Gingerstrands                    NaN   1635283070   \n",
       "15   SnooJokes102                    NaN   1635269119   \n",
       "54       Furstman                    NaN   1635203770   \n",
       "55    binarysmurf                    NaN   1635201204   \n",
       "59   KatnUSSblack                    NaN   1635197242   \n",
       "\n",
       "                                                                                               selftext  \\\n",
       "3   I went to the Apple Store today to look at the pros in person. To be honest, I’m even more uncer...   \n",
       "15  I bought some airpods pro about a year  bought the full cover for it including accidents however...   \n",
       "54  I did download some Apple Desktop Background pictures and I saw an iCloud Icon and download it b...   \n",
       "55  i have an iMac 13,2 which EOL'ed at Catalina. I used OpenCore Legacy Patcher to install Big Sur,...   \n",
       "59  What are your likes, dislikes, things you wanna try? \\n\\nHow is it going to enhance your product...   \n",
       "\n",
       "   subreddit  \\\n",
       "3      apple   \n",
       "15     apple   \n",
       "54     apple   \n",
       "55     apple   \n",
       "59     apple   \n",
       "\n",
       "                                                                                                  title  \n",
       "3   To anyone like me who was wondering: yes, you can fit two apps side by side on the 14” comfortab...  \n",
       "15                     Question: is it better to ship airpods to apple or take them to the apple store?  \n",
       "54                               I installed Monterey and I can't delete the Apple Background Pictures.  \n",
       "55                              OpenCore Legacy Patcher Big Sur -&gt; OpenCore Legacy Patcher Monterey?  \n",
       "59                                                             iOS 15.1 - how are we feeling about it??  "
      ]
     },
     "execution_count": 39,
     "metadata": {},
     "output_type": "execute_result"
    }
   ],
   "source": [
    "ap[ap['selftext'].str.contains('\\n', regex=False)].head()"
   ]
  },
  {
   "cell_type": "markdown",
   "id": "fd47648d",
   "metadata": {},
   "source": [
    "They will be removed from the `title` and `selftext` and replaced with spaces:"
   ]
  },
  {
   "cell_type": "code",
   "execution_count": 40,
   "id": "f664d7cf",
   "metadata": {},
   "outputs": [],
   "source": [
    "ap['selftext'] = ap['selftext'].str.replace('\\n', ' ', regex=False)\n",
    "ap['title'] = ap['title'].str.replace('\\n', ' ', regex=False)"
   ]
  },
  {
   "cell_type": "markdown",
   "id": "fb17cc64",
   "metadata": {},
   "source": [
    "The characters have been removed."
   ]
  },
  {
   "cell_type": "code",
   "execution_count": 41,
   "id": "c087eeaa",
   "metadata": {},
   "outputs": [
    {
     "data": {
      "text/html": [
       "<div>\n",
       "<style scoped>\n",
       "    .dataframe tbody tr th:only-of-type {\n",
       "        vertical-align: middle;\n",
       "    }\n",
       "\n",
       "    .dataframe tbody tr th {\n",
       "        vertical-align: top;\n",
       "    }\n",
       "\n",
       "    .dataframe thead th {\n",
       "        text-align: right;\n",
       "    }\n",
       "</style>\n",
       "<table border=\"1\" class=\"dataframe\">\n",
       "  <thead>\n",
       "    <tr style=\"text-align: right;\">\n",
       "      <th></th>\n",
       "      <th>author</th>\n",
       "      <th>author_flair_css_class</th>\n",
       "      <th>created_utc</th>\n",
       "      <th>selftext</th>\n",
       "      <th>subreddit</th>\n",
       "      <th>title</th>\n",
       "    </tr>\n",
       "  </thead>\n",
       "  <tbody>\n",
       "  </tbody>\n",
       "</table>\n",
       "</div>"
      ],
      "text/plain": [
       "Empty DataFrame\n",
       "Columns: [author, author_flair_css_class, created_utc, selftext, subreddit, title]\n",
       "Index: []"
      ]
     },
     "execution_count": 41,
     "metadata": {},
     "output_type": "execute_result"
    }
   ],
   "source": [
    "ap[ap['selftext'].str.contains('\\n', regex=False)].head()"
   ]
  },
  {
   "cell_type": "code",
   "execution_count": 42,
   "id": "cb40fa69",
   "metadata": {},
   "outputs": [
    {
     "data": {
      "text/html": [
       "<div>\n",
       "<style scoped>\n",
       "    .dataframe tbody tr th:only-of-type {\n",
       "        vertical-align: middle;\n",
       "    }\n",
       "\n",
       "    .dataframe tbody tr th {\n",
       "        vertical-align: top;\n",
       "    }\n",
       "\n",
       "    .dataframe thead th {\n",
       "        text-align: right;\n",
       "    }\n",
       "</style>\n",
       "<table border=\"1\" class=\"dataframe\">\n",
       "  <thead>\n",
       "    <tr style=\"text-align: right;\">\n",
       "      <th></th>\n",
       "      <th>author</th>\n",
       "      <th>author_flair_css_class</th>\n",
       "      <th>created_utc</th>\n",
       "      <th>selftext</th>\n",
       "      <th>subreddit</th>\n",
       "      <th>title</th>\n",
       "    </tr>\n",
       "  </thead>\n",
       "  <tbody>\n",
       "  </tbody>\n",
       "</table>\n",
       "</div>"
      ],
      "text/plain": [
       "Empty DataFrame\n",
       "Columns: [author, author_flair_css_class, created_utc, selftext, subreddit, title]\n",
       "Index: []"
      ]
     },
     "execution_count": 42,
     "metadata": {},
     "output_type": "execute_result"
    }
   ],
   "source": [
    "ap[ap['title'].str.contains('\\n', regex=False)].head()"
   ]
  },
  {
   "cell_type": "markdown",
   "id": "b5a5ada2",
   "metadata": {},
   "source": [
    "### Removing '[View Poll]('\n",
    "\n",
    "Some instances of '[View Poll](' were spotted:"
   ]
  },
  {
   "cell_type": "code",
   "execution_count": 43,
   "id": "8431352d",
   "metadata": {},
   "outputs": [
    {
     "data": {
      "text/html": [
       "<div>\n",
       "<style scoped>\n",
       "    .dataframe tbody tr th:only-of-type {\n",
       "        vertical-align: middle;\n",
       "    }\n",
       "\n",
       "    .dataframe tbody tr th {\n",
       "        vertical-align: top;\n",
       "    }\n",
       "\n",
       "    .dataframe thead th {\n",
       "        text-align: right;\n",
       "    }\n",
       "</style>\n",
       "<table border=\"1\" class=\"dataframe\">\n",
       "  <thead>\n",
       "    <tr style=\"text-align: right;\">\n",
       "      <th></th>\n",
       "      <th>author</th>\n",
       "      <th>author_flair_css_class</th>\n",
       "      <th>created_utc</th>\n",
       "      <th>selftext</th>\n",
       "      <th>subreddit</th>\n",
       "      <th>title</th>\n",
       "    </tr>\n",
       "  </thead>\n",
       "  <tbody>\n",
       "    <tr>\n",
       "      <th>559</th>\n",
       "      <td>clemenslucas</td>\n",
       "      <td>NaN</td>\n",
       "      <td>1634472586</td>\n",
       "      <td>[View Poll](</td>\n",
       "      <td>apple</td>\n",
       "      <td>Will a new MacBook Pro be announced at Apple's \"Unleashed\" Event?</td>\n",
       "    </tr>\n",
       "    <tr>\n",
       "      <th>560</th>\n",
       "      <td>clemenslucas</td>\n",
       "      <td>NaN</td>\n",
       "      <td>1634472362</td>\n",
       "      <td>[View Poll](</td>\n",
       "      <td>apple</td>\n",
       "      <td>Will new AirPods be announced at Apple's \"Unleashed\" Event?</td>\n",
       "    </tr>\n",
       "    <tr>\n",
       "      <th>562</th>\n",
       "      <td>clemenslucas</td>\n",
       "      <td>NaN</td>\n",
       "      <td>1634472231</td>\n",
       "      <td>[View Poll](</td>\n",
       "      <td>apple</td>\n",
       "      <td>What greeting will Tim Cook open Apple's \"Unleashed\" Keynote with?</td>\n",
       "    </tr>\n",
       "    <tr>\n",
       "      <th>563</th>\n",
       "      <td>clemenslucas</td>\n",
       "      <td>NaN</td>\n",
       "      <td>1634471943</td>\n",
       "      <td>[View Poll](</td>\n",
       "      <td>apple</td>\n",
       "      <td>Will a new Mac mini be announced at Apple's \"Unleashed\" Event?</td>\n",
       "    </tr>\n",
       "    <tr>\n",
       "      <th>564</th>\n",
       "      <td>clemenslucas</td>\n",
       "      <td>NaN</td>\n",
       "      <td>1634471561</td>\n",
       "      <td>[View Poll](</td>\n",
       "      <td>apple</td>\n",
       "      <td>What greeting will Tim Cook open Apple's \"Unleashed\" Keynote with?</td>\n",
       "    </tr>\n",
       "  </tbody>\n",
       "</table>\n",
       "</div>"
      ],
      "text/plain": [
       "           author author_flair_css_class  created_utc         selftext  \\\n",
       "559  clemenslucas                    NaN   1634472586    [View Poll](    \n",
       "560  clemenslucas                    NaN   1634472362    [View Poll](    \n",
       "562  clemenslucas                    NaN   1634472231    [View Poll](    \n",
       "563  clemenslucas                    NaN   1634471943    [View Poll](    \n",
       "564  clemenslucas                    NaN   1634471561    [View Poll](    \n",
       "\n",
       "    subreddit  \\\n",
       "559     apple   \n",
       "560     apple   \n",
       "562     apple   \n",
       "563     apple   \n",
       "564     apple   \n",
       "\n",
       "                                                                  title  \n",
       "559   Will a new MacBook Pro be announced at Apple's \"Unleashed\" Event?  \n",
       "560         Will new AirPods be announced at Apple's \"Unleashed\" Event?  \n",
       "562  What greeting will Tim Cook open Apple's \"Unleashed\" Keynote with?  \n",
       "563      Will a new Mac mini be announced at Apple's \"Unleashed\" Event?  \n",
       "564  What greeting will Tim Cook open Apple's \"Unleashed\" Keynote with?  "
      ]
     },
     "execution_count": 43,
     "metadata": {},
     "output_type": "execute_result"
    }
   ],
   "source": [
    "ap[ap['selftext'].str.contains('[View Poll](', regex=False)].head()"
   ]
  },
  {
   "cell_type": "markdown",
   "id": "82127688",
   "metadata": {},
   "source": [
    "They will be removed from the `title` and `selftext` and replaced with spaces:"
   ]
  },
  {
   "cell_type": "code",
   "execution_count": 44,
   "id": "6204bfa1",
   "metadata": {},
   "outputs": [],
   "source": [
    "ap['selftext'] = ap['selftext'].str.replace('[View Poll](', ' ', regex=False)\n",
    "ap['title'] = ap['title'].str.replace('[View Poll](', ' ', regex=False)"
   ]
  },
  {
   "cell_type": "markdown",
   "id": "42d09406",
   "metadata": {},
   "source": [
    "The characters have been removed."
   ]
  },
  {
   "cell_type": "code",
   "execution_count": 45,
   "id": "fdf3e74a",
   "metadata": {},
   "outputs": [
    {
     "data": {
      "text/html": [
       "<div>\n",
       "<style scoped>\n",
       "    .dataframe tbody tr th:only-of-type {\n",
       "        vertical-align: middle;\n",
       "    }\n",
       "\n",
       "    .dataframe tbody tr th {\n",
       "        vertical-align: top;\n",
       "    }\n",
       "\n",
       "    .dataframe thead th {\n",
       "        text-align: right;\n",
       "    }\n",
       "</style>\n",
       "<table border=\"1\" class=\"dataframe\">\n",
       "  <thead>\n",
       "    <tr style=\"text-align: right;\">\n",
       "      <th></th>\n",
       "      <th>author</th>\n",
       "      <th>author_flair_css_class</th>\n",
       "      <th>created_utc</th>\n",
       "      <th>selftext</th>\n",
       "      <th>subreddit</th>\n",
       "      <th>title</th>\n",
       "    </tr>\n",
       "  </thead>\n",
       "  <tbody>\n",
       "  </tbody>\n",
       "</table>\n",
       "</div>"
      ],
      "text/plain": [
       "Empty DataFrame\n",
       "Columns: [author, author_flair_css_class, created_utc, selftext, subreddit, title]\n",
       "Index: []"
      ]
     },
     "execution_count": 45,
     "metadata": {},
     "output_type": "execute_result"
    }
   ],
   "source": [
    "ap[ap['selftext'].str.contains('[View Poll](', regex=False)].head()"
   ]
  },
  {
   "cell_type": "code",
   "execution_count": 46,
   "id": "d96b77af",
   "metadata": {},
   "outputs": [
    {
     "data": {
      "text/html": [
       "<div>\n",
       "<style scoped>\n",
       "    .dataframe tbody tr th:only-of-type {\n",
       "        vertical-align: middle;\n",
       "    }\n",
       "\n",
       "    .dataframe tbody tr th {\n",
       "        vertical-align: top;\n",
       "    }\n",
       "\n",
       "    .dataframe thead th {\n",
       "        text-align: right;\n",
       "    }\n",
       "</style>\n",
       "<table border=\"1\" class=\"dataframe\">\n",
       "  <thead>\n",
       "    <tr style=\"text-align: right;\">\n",
       "      <th></th>\n",
       "      <th>author</th>\n",
       "      <th>author_flair_css_class</th>\n",
       "      <th>created_utc</th>\n",
       "      <th>selftext</th>\n",
       "      <th>subreddit</th>\n",
       "      <th>title</th>\n",
       "    </tr>\n",
       "  </thead>\n",
       "  <tbody>\n",
       "  </tbody>\n",
       "</table>\n",
       "</div>"
      ],
      "text/plain": [
       "Empty DataFrame\n",
       "Columns: [author, author_flair_css_class, created_utc, selftext, subreddit, title]\n",
       "Index: []"
      ]
     },
     "execution_count": 46,
     "metadata": {},
     "output_type": "execute_result"
    }
   ],
   "source": [
    "ap[ap['title'].str.contains('[View Poll](', regex=False)].head()"
   ]
  },
  {
   "cell_type": "markdown",
   "id": "6013f3f4",
   "metadata": {},
   "source": [
    "### Removing duplicates between `selftext` and `title` \n",
    "\n",
    "Some rows have the same `selftext` and `title`."
   ]
  },
  {
   "cell_type": "code",
   "execution_count": 47,
   "id": "77b1c539",
   "metadata": {
    "scrolled": true
   },
   "outputs": [
    {
     "data": {
      "text/plain": [
       "18"
      ]
     },
     "execution_count": 47,
     "metadata": {},
     "output_type": "execute_result"
    }
   ],
   "source": [
    "len(ap[ap['selftext'] == ap['title']])"
   ]
  },
  {
   "cell_type": "markdown",
   "id": "7ffb2f88",
   "metadata": {},
   "source": [
    "The `selftext` will be removed in those cases."
   ]
  },
  {
   "cell_type": "code",
   "execution_count": 48,
   "id": "d7039982",
   "metadata": {
    "scrolled": true
   },
   "outputs": [],
   "source": [
    "ap.loc[(ap['selftext'] == ap['title']), 'selftext'] = ''"
   ]
  },
  {
   "cell_type": "markdown",
   "id": "97b11969",
   "metadata": {},
   "source": [
    "There are no more rows with the same `selftext` and `title`."
   ]
  },
  {
   "cell_type": "code",
   "execution_count": 49,
   "id": "671e619e",
   "metadata": {},
   "outputs": [
    {
     "data": {
      "text/plain": [
       "0"
      ]
     },
     "execution_count": 49,
     "metadata": {},
     "output_type": "execute_result"
    }
   ],
   "source": [
    "len(ap[ap['selftext'] == ap['title']])"
   ]
  },
  {
   "cell_type": "markdown",
   "id": "0ee56b6c",
   "metadata": {},
   "source": [
    "### Dropping the `author_flair_css_class` column \n",
    "\n",
    "We do not need the `author_flair_css_class` column any more. Thus, we will drop it. "
   ]
  },
  {
   "cell_type": "code",
   "execution_count": 50,
   "id": "aeb0f8e6",
   "metadata": {},
   "outputs": [],
   "source": [
    "ap.drop(columns=['author_flair_css_class'], inplace=True)"
   ]
  },
  {
   "cell_type": "markdown",
   "id": "8c992f57",
   "metadata": {},
   "source": [
    "The column has been dropped. "
   ]
  },
  {
   "cell_type": "code",
   "execution_count": 51,
   "id": "f67dbb8d",
   "metadata": {},
   "outputs": [
    {
     "data": {
      "text/html": [
       "<div>\n",
       "<style scoped>\n",
       "    .dataframe tbody tr th:only-of-type {\n",
       "        vertical-align: middle;\n",
       "    }\n",
       "\n",
       "    .dataframe tbody tr th {\n",
       "        vertical-align: top;\n",
       "    }\n",
       "\n",
       "    .dataframe thead th {\n",
       "        text-align: right;\n",
       "    }\n",
       "</style>\n",
       "<table border=\"1\" class=\"dataframe\">\n",
       "  <thead>\n",
       "    <tr style=\"text-align: right;\">\n",
       "      <th></th>\n",
       "      <th>author</th>\n",
       "      <th>created_utc</th>\n",
       "      <th>selftext</th>\n",
       "      <th>subreddit</th>\n",
       "      <th>title</th>\n",
       "    </tr>\n",
       "  </thead>\n",
       "  <tbody>\n",
       "    <tr>\n",
       "      <th>3</th>\n",
       "      <td>Gingerstrands</td>\n",
       "      <td>1635283070</td>\n",
       "      <td>I went to the Apple Store today to look at the pros in person. To be honest, I’m even more uncer...</td>\n",
       "      <td>apple</td>\n",
       "      <td>To anyone like me who was wondering: yes, you can fit two apps side by side on the 14” comfortab...</td>\n",
       "    </tr>\n",
       "  </tbody>\n",
       "</table>\n",
       "</div>"
      ],
      "text/plain": [
       "          author  created_utc  \\\n",
       "3  Gingerstrands   1635283070   \n",
       "\n",
       "                                                                                              selftext  \\\n",
       "3  I went to the Apple Store today to look at the pros in person. To be honest, I’m even more uncer...   \n",
       "\n",
       "  subreddit  \\\n",
       "3     apple   \n",
       "\n",
       "                                                                                                 title  \n",
       "3  To anyone like me who was wondering: yes, you can fit two apps side by side on the 14” comfortab...  "
      ]
     },
     "execution_count": 51,
     "metadata": {},
     "output_type": "execute_result"
    }
   ],
   "source": [
    "ap.head(1)"
   ]
  },
  {
   "cell_type": "markdown",
   "id": "9b1164aa",
   "metadata": {},
   "source": [
    "### Previewing the results"
   ]
  },
  {
   "cell_type": "code",
   "execution_count": 52,
   "id": "d6c92b32",
   "metadata": {
    "scrolled": true
   },
   "outputs": [
    {
     "data": {
      "text/html": [
       "<div>\n",
       "<style scoped>\n",
       "    .dataframe tbody tr th:only-of-type {\n",
       "        vertical-align: middle;\n",
       "    }\n",
       "\n",
       "    .dataframe tbody tr th {\n",
       "        vertical-align: top;\n",
       "    }\n",
       "\n",
       "    .dataframe thead th {\n",
       "        text-align: right;\n",
       "    }\n",
       "</style>\n",
       "<table border=\"1\" class=\"dataframe\">\n",
       "  <thead>\n",
       "    <tr style=\"text-align: right;\">\n",
       "      <th></th>\n",
       "      <th>author</th>\n",
       "      <th>created_utc</th>\n",
       "      <th>selftext</th>\n",
       "      <th>subreddit</th>\n",
       "      <th>title</th>\n",
       "    </tr>\n",
       "  </thead>\n",
       "  <tbody>\n",
       "    <tr>\n",
       "      <th>3</th>\n",
       "      <td>Gingerstrands</td>\n",
       "      <td>1635283070</td>\n",
       "      <td>I went to the Apple Store today to look at the pros in person. To be honest, I’m even more uncer...</td>\n",
       "      <td>apple</td>\n",
       "      <td>To anyone like me who was wondering: yes, you can fit two apps side by side on the 14” comfortab...</td>\n",
       "    </tr>\n",
       "    <tr>\n",
       "      <th>4</th>\n",
       "      <td>BiovelaBoomer</td>\n",
       "      <td>1635282964</td>\n",
       "      <td>What is the correct way to use the battery pack, would it be plugging in the cable into the ipho...</td>\n",
       "      <td>apple</td>\n",
       "      <td>Correct way to use battery pack?</td>\n",
       "    </tr>\n",
       "    <tr>\n",
       "      <th>10</th>\n",
       "      <td>gambler__</td>\n",
       "      <td>1635278050</td>\n",
       "      <td>As the title says, I am curious why Siri can't recognize the proper pronunciation of hard to pro...</td>\n",
       "      <td>apple</td>\n",
       "      <td>Will Siri ever be able to recognize the proper pronunciation of hard-to-pronounce names?</td>\n",
       "    </tr>\n",
       "    <tr>\n",
       "      <th>15</th>\n",
       "      <td>SnooJokes102</td>\n",
       "      <td>1635269119</td>\n",
       "      <td>I bought some airpods pro about a year  bought the full cover for it including accidents however...</td>\n",
       "      <td>apple</td>\n",
       "      <td>Question: is it better to ship airpods to apple or take them to the apple store?</td>\n",
       "    </tr>\n",
       "    <tr>\n",
       "      <th>21</th>\n",
       "      <td>DentistSea2573</td>\n",
       "      <td>1635257400</td>\n",
       "      <td>I’m a student and I want to get an iPad for note taking, and maybe for drawing also. But I don’t...</td>\n",
       "      <td>apple</td>\n",
       "      <td>Should I get the 2021 12.9” iPad Pro or wait till next year?</td>\n",
       "    </tr>\n",
       "    <tr>\n",
       "      <th>49</th>\n",
       "      <td>Expensive_Age3018</td>\n",
       "      <td>1635209054</td>\n",
       "      <td>So I block someone on my iphone but suddenly I get a text from them on iMessage on my Desktop. W...</td>\n",
       "      <td>apple</td>\n",
       "      <td>iMessage</td>\n",
       "    </tr>\n",
       "    <tr>\n",
       "      <th>50</th>\n",
       "      <td>candlesVI</td>\n",
       "      <td>1635207133</td>\n",
       "      <td>So the iphone 11 on the apple store says Nov 16 - Nov 23. Does that mean it will arrive at my do...</td>\n",
       "      <td>apple</td>\n",
       "      <td>Iphone 11</td>\n",
       "    </tr>\n",
       "    <tr>\n",
       "      <th>53</th>\n",
       "      <td>CenZen</td>\n",
       "      <td>1635204014</td>\n",
       "      <td>It’s like the title said, I just received confirmation that I’m getting a job and that I will be...</td>\n",
       "      <td>apple</td>\n",
       "      <td>I just got a job as a tier 1 tech support agent. I have questions about the iMac they’re sending...</td>\n",
       "    </tr>\n",
       "    <tr>\n",
       "      <th>54</th>\n",
       "      <td>Furstman</td>\n",
       "      <td>1635203770</td>\n",
       "      <td>I did download some Apple Desktop Background pictures and I saw an iCloud Icon and download it b...</td>\n",
       "      <td>apple</td>\n",
       "      <td>I installed Monterey and I can't delete the Apple Background Pictures.</td>\n",
       "    </tr>\n",
       "    <tr>\n",
       "      <th>55</th>\n",
       "      <td>binarysmurf</td>\n",
       "      <td>1635201204</td>\n",
       "      <td>i have an iMac 13,2 which EOL'ed at Catalina. I used OpenCore Legacy Patcher to install Big Sur,...</td>\n",
       "      <td>apple</td>\n",
       "      <td>OpenCore Legacy Patcher Big Sur -&amp;gt; OpenCore Legacy Patcher Monterey?</td>\n",
       "    </tr>\n",
       "    <tr>\n",
       "      <th>59</th>\n",
       "      <td>KatnUSSblack</td>\n",
       "      <td>1635197242</td>\n",
       "      <td>What are your likes, dislikes, things you wanna try?   How is it going to enhance your productiv...</td>\n",
       "      <td>apple</td>\n",
       "      <td>iOS 15.1 - how are we feeling about it??</td>\n",
       "    </tr>\n",
       "    <tr>\n",
       "      <th>62</th>\n",
       "      <td>walktall</td>\n",
       "      <td>1635196530</td>\n",
       "      <td>For most Macs, Apple Stores stock \"better\" \"best\" and \"ultimate\" configurations, though they oft...</td>\n",
       "      <td>apple</td>\n",
       "      <td>PSA: Apple Stores will be stocking hidden \"ultimate\" configurations for the MacBook Pros tomorrow</td>\n",
       "    </tr>\n",
       "    <tr>\n",
       "      <th>63</th>\n",
       "      <td>YellowMaverick</td>\n",
       "      <td>1635194507</td>\n",
       "      <td>The animation for opening mission control is so much smoother at 144hz!</td>\n",
       "      <td>apple</td>\n",
       "      <td>System animations finally update at the proper refresh rate in macOS 12!</td>\n",
       "    </tr>\n",
       "    <tr>\n",
       "      <th>65</th>\n",
       "      <td>benbenk</td>\n",
       "      <td>1635190729</td>\n",
       "      <td>Neither iOS 15.1 nor macOS 12.0.1 Reminders apps detect anything (time, \"tomorrow\", \"Wednesday\")...</td>\n",
       "      <td>apple</td>\n",
       "      <td>Where is the natural language input in Reminders apps</td>\n",
       "    </tr>\n",
       "    <tr>\n",
       "      <th>87</th>\n",
       "      <td>amgplug</td>\n",
       "      <td>1635175525</td>\n",
       "      <td>Hey guys I’m looking to buy a new Mac laptop. I’m a student on a tight budget and want to buy it...</td>\n",
       "      <td>apple</td>\n",
       "      <td>Looking to a new Mac laptop!</td>\n",
       "    </tr>\n",
       "    <tr>\n",
       "      <th>98</th>\n",
       "      <td>nang18</td>\n",
       "      <td>1635167601</td>\n",
       "      <td>woohoo</td>\n",
       "      <td>apple</td>\n",
       "      <td>EMBARGO IS LIFTED 🎉🕺🤝</td>\n",
       "    </tr>\n",
       "    <tr>\n",
       "      <th>107</th>\n",
       "      <td>iaretushar</td>\n",
       "      <td>1635165096</td>\n",
       "      <td>My computer shipped (yay!) but I notice that the shipment config breakdown includes internal com...</td>\n",
       "      <td>apple</td>\n",
       "      <td>MacBook shipment breakdown includes internal components?</td>\n",
       "    </tr>\n",
       "    <tr>\n",
       "      <th>108</th>\n",
       "      <td>dantracht</td>\n",
       "      <td>1635161966</td>\n",
       "      <td>Sorry for lacking any originality on this.    Speaking of lacking originality, I also asked this...</td>\n",
       "      <td>apple</td>\n",
       "      <td>Another \"should I upgrade or wait\" post!</td>\n",
       "    </tr>\n",
       "    <tr>\n",
       "      <th>132</th>\n",
       "      <td>chestdrop</td>\n",
       "      <td>1635084724</td>\n",
       "      <td>We got bored of other social networks where every post has an ad. We want a place where you ever...</td>\n",
       "      <td>apple</td>\n",
       "      <td>Finally our new social is on the App Store! We created Moonshot because we wanted a place where ...</td>\n",
       "    </tr>\n",
       "    <tr>\n",
       "      <th>135</th>\n",
       "      <td>mrdatalife</td>\n",
       "      <td>1635082773</td>\n",
       "      <td>Hey all, if you're a cyclist and want to start creating and finding rides in your local geograph...</td>\n",
       "      <td>apple</td>\n",
       "      <td>Cyclists - updated iOS app Chasing Watts - create &amp;amp; find rides easy</td>\n",
       "    </tr>\n",
       "    <tr>\n",
       "      <th>136</th>\n",
       "      <td>scadgrad06</td>\n",
       "      <td>1635082429</td>\n",
       "      <td>For the last five years I have been working on a new Vector and Raster design tool that I call E...</td>\n",
       "      <td>apple</td>\n",
       "      <td>Exothermic - A new Vector &amp;amp; Raster Design Suite for macOS and it's free for personal use</td>\n",
       "    </tr>\n",
       "    <tr>\n",
       "      <th>137</th>\n",
       "      <td>ineedlesssleep</td>\n",
       "      <td>1635081257</td>\n",
       "      <td>I made a little app for all the Notch haters out there, Forehead!  It allows you to make the men...</td>\n",
       "      <td>apple</td>\n",
       "      <td>I made an app to hide the Notch on the new MacBook Pro, called Forehead. It also allows you to r...</td>\n",
       "    </tr>\n",
       "    <tr>\n",
       "      <th>139</th>\n",
       "      <td>_dave_maxwell_</td>\n",
       "      <td>1635077210</td>\n",
       "      <td>[TextPhoto](  is the mobile app that you can use to convert pictures into text art. You can choo...</td>\n",
       "      <td>apple</td>\n",
       "      <td>I made the app to convert pictures into word artworks (typography effect)</td>\n",
       "    </tr>\n",
       "    <tr>\n",
       "      <th>141</th>\n",
       "      <td>dynamicappdesign</td>\n",
       "      <td>1635073965</td>\n",
       "      <td>Sneak peak of the app here- really happy with how it turned out...  [YouTube App Preview(unfinis...</td>\n",
       "      <td>apple</td>\n",
       "      <td>My checklist app has been massively redesigned and with a whole new look and tons of new feature...</td>\n",
       "    </tr>\n",
       "    <tr>\n",
       "      <th>142</th>\n",
       "      <td>jadfls</td>\n",
       "      <td>1635069724</td>\n",
       "      <td>Thanks to all you constructive feedback, I have released a major update to my Safari extension M...</td>\n",
       "      <td>apple</td>\n",
       "      <td>Updated my Safari extension Map Redirect to redirect all map links on every website to the app o...</td>\n",
       "    </tr>\n",
       "    <tr>\n",
       "      <th>144</th>\n",
       "      <td>stefanvd</td>\n",
       "      <td>1635069223</td>\n",
       "      <td>Hello Apple fans,  Hope you have a great autumn Sunday.  I love to tell you about my new Safari ...</td>\n",
       "      <td>apple</td>\n",
       "      <td>New Safari extension that customizable your Safari new tab page (with video background, image, a...</td>\n",
       "    </tr>\n",
       "    <tr>\n",
       "      <th>145</th>\n",
       "      <td>whiplashoo21</td>\n",
       "      <td>1635068992</td>\n",
       "      <td>Hey everyone!  [Shortcut Keeper](  is a simple app that lets you easily **keep all the shortcuts...</td>\n",
       "      <td>apple</td>\n",
       "      <td>Shortcut Keeper: Save the keyboard shortcuts you want to remember</td>\n",
       "    </tr>\n",
       "    <tr>\n",
       "      <th>152</th>\n",
       "      <td>edfilo</td>\n",
       "      <td>1635052934</td>\n",
       "      <td>Backpack Studio allows podcasters to create studio-quality recordings entirely from iOS. The 2.0...</td>\n",
       "      <td>apple</td>\n",
       "      <td>Backpack Studio for podcasters 2.0 update is free in the app store this weekend</td>\n",
       "    </tr>\n",
       "    <tr>\n",
       "      <th>153</th>\n",
       "      <td>happybuy</td>\n",
       "      <td>1635049003</td>\n",
       "      <td>Hey redditors, after a long time in development (and lots of requests!!) we’ve released an updat...</td>\n",
       "      <td>apple</td>\n",
       "      <td>Block YouTube ads in Safari with Magic Lasso Adblock v3.1</td>\n",
       "    </tr>\n",
       "    <tr>\n",
       "      <th>162</th>\n",
       "      <td>RickNBacker4003</td>\n",
       "      <td>1635026209</td>\n",
       "      <td>How does create a circular path, to have an object travel a circular path, in Keynote?  Was this...</td>\n",
       "      <td>apple</td>\n",
       "      <td>Circular Path in Keynote?</td>\n",
       "    </tr>\n",
       "    <tr>\n",
       "      <th>179</th>\n",
       "      <td>Launche18</td>\n",
       "      <td>1635000560</td>\n",
       "      <td>Does the Apple Watch Series 7 have the ability to monitor blood glucose levels whether that be t...</td>\n",
       "      <td>apple</td>\n",
       "      <td>Apple Watch Series 7 glucose</td>\n",
       "    </tr>\n",
       "    <tr>\n",
       "      <th>183</th>\n",
       "      <td>Morilec_ITA</td>\n",
       "      <td>1634994682</td>\n",
       "      <td>Hi everyone, I have an editing problem. I wanted to do this on my iPad, bought LumaFusion and th...</td>\n",
       "      <td>apple</td>\n",
       "      <td>Edit files on external SSD with LumaFusion on an iPad with lightning</td>\n",
       "    </tr>\n",
       "    <tr>\n",
       "      <th>201</th>\n",
       "      <td>walktall</td>\n",
       "      <td>1634940548</td>\n",
       "      <td>Just got this email from Apple:  &amp;gt; You may have noticed that a recent Apple purchase was elig...</td>\n",
       "      <td>apple</td>\n",
       "      <td>PSA: Apple plans to honor the Apple Card 6% cash back on all transactions that erroneously showe...</td>\n",
       "    </tr>\n",
       "    <tr>\n",
       "      <th>219</th>\n",
       "      <td>coltks2004</td>\n",
       "      <td>1634918923</td>\n",
       "      <td>SimplyMac has the new 14\" and 16\" MacBook Pros on sale for $200 off this weekend. I was able to ...</td>\n",
       "      <td>apple</td>\n",
       "      <td>New 14\" and 16\" MacBook Pros $200 off this weekend</td>\n",
       "    </tr>\n",
       "    <tr>\n",
       "      <th>234</th>\n",
       "      <td>Nazi-Turtles</td>\n",
       "      <td>1634892615</td>\n",
       "      <td>when calling on my phone using the phone app, i could often hear phone background static, and i ...</td>\n",
       "      <td>apple</td>\n",
       "      <td>i think i might be being spied on when i call people</td>\n",
       "    </tr>\n",
       "    <tr>\n",
       "      <th>241</th>\n",
       "      <td>Woopwoopwop</td>\n",
       "      <td>1634862595</td>\n",
       "      <td>Or is the camera good enough on its own? I’m thinking anamorphic lenses and the like.</td>\n",
       "      <td>apple</td>\n",
       "      <td>Would I still need camera lenses if I wanted to make films on the iPhone 13 Pro?</td>\n",
       "    </tr>\n",
       "    <tr>\n",
       "      <th>246</th>\n",
       "      <td>Alternative-Spray675</td>\n",
       "      <td>1634854997</td>\n",
       "      <td>I’m really interested in it! Is it an iOS 15 only app? I’m Still on 14. Could that be why I can’...</td>\n",
       "      <td>apple</td>\n",
       "      <td>Is Mountain Climber a Real App? I Can’t Find It.</td>\n",
       "    </tr>\n",
       "    <tr>\n",
       "      <th>276</th>\n",
       "      <td>fl_angela</td>\n",
       "      <td>1634808395</td>\n",
       "      <td>Could anyone tell me about the firm?</td>\n",
       "      <td>apple</td>\n",
       "      <td>I am new to everything</td>\n",
       "    </tr>\n",
       "    <tr>\n",
       "      <th>295</th>\n",
       "      <td>LivinMyAuthenticLife</td>\n",
       "      <td>1634764672</td>\n",
       "      <td>If this is possible how do I do it because I can’t find the option on my phone but I see it when...</td>\n",
       "      <td>apple</td>\n",
       "      <td>So on mac you’re able to change the font color of text in the Notes app. But is this not possibl...</td>\n",
       "    </tr>\n",
       "    <tr>\n",
       "      <th>296</th>\n",
       "      <td>IBruxyIv</td>\n",
       "      <td>1634764523</td>\n",
       "      <td>if you click wrong you could send the photo to your top contacts // trying to hide trans outfits...</td>\n",
       "      <td>apple</td>\n",
       "      <td>Getting to the Hide photos option is never racking</td>\n",
       "    </tr>\n",
       "    <tr>\n",
       "      <th>298</th>\n",
       "      <td>Leryud</td>\n",
       "      <td>1634762788</td>\n",
       "      <td>It may sound like a silly question, as apple's quality check must be very efficient, but seeing ...</td>\n",
       "      <td>apple</td>\n",
       "      <td>Does more core leaves more value for error in manufacturing ?</td>\n",
       "    </tr>\n",
       "    <tr>\n",
       "      <th>300</th>\n",
       "      <td>YungBoss212</td>\n",
       "      <td>1634757598</td>\n",
       "      <td>Will a 10 core CPU upgrade for the 14inch base 8core CPU be necessary for music production? I pl...</td>\n",
       "      <td>apple</td>\n",
       "      <td>New MacBook Pro and music production</td>\n",
       "    </tr>\n",
       "    <tr>\n",
       "      <th>306</th>\n",
       "      <td>shyn_tbr</td>\n",
       "      <td>1634751492</td>\n",
       "      <td>So I decided to start using my dads iPhone 11 and he started using his iPhone 7. Everything work...</td>\n",
       "      <td>apple</td>\n",
       "      <td>Need help. Phones are bugging out</td>\n",
       "    </tr>\n",
       "    <tr>\n",
       "      <th>314</th>\n",
       "      <td>itsjusttooswaggy</td>\n",
       "      <td>1634745865</td>\n",
       "      <td>I'm thinking of making the switch to iPhone, and I heard that iPhones can now write NFC tags. I'...</td>\n",
       "      <td>apple</td>\n",
       "      <td>NFC tags &amp;amp; alarms</td>\n",
       "    </tr>\n",
       "    <tr>\n",
       "      <th>315</th>\n",
       "      <td>Myrag</td>\n",
       "      <td>1634745735</td>\n",
       "      <td>As per title.  We all know that Apple said that you can connect 3x 6k apple XDR displays and 1x ...</td>\n",
       "      <td>apple</td>\n",
       "      <td>Do we know if new macbook pros support daisy chaining to connect multiple screens via one cable?</td>\n",
       "    </tr>\n",
       "    <tr>\n",
       "      <th>339</th>\n",
       "      <td>PMdigiTech</td>\n",
       "      <td>1634718768</td>\n",
       "      <td>The Apple iPhone 13 seasoned and the **iPhone 13 Pro Max** are the primary iPhones with Huge-...</td>\n",
       "      <td>apple</td>\n",
       "      <td>iPhone 13 Pro max|iPhone 13 Pro max: Review 2021 |Best iPhone in 2021</td>\n",
       "    </tr>\n",
       "    <tr>\n",
       "      <th>348</th>\n",
       "      <td>Tony___________</td>\n",
       "      <td>1634701098</td>\n",
       "      <td>One of the usb c ports charges right away, and the other one takes about 1 minute before it star...</td>\n",
       "      <td>apple</td>\n",
       "      <td>m1 Macbook charging delay</td>\n",
       "    </tr>\n",
       "    <tr>\n",
       "      <th>355</th>\n",
       "      <td>emtywrld999</td>\n",
       "      <td>1634687968</td>\n",
       "      <td>There is no “mark all” button for me - its greyed out.</td>\n",
       "      <td>apple</td>\n",
       "      <td>Age old question - how the heck do I mark all my emails as “read” in Apple Mail?</td>\n",
       "    </tr>\n",
       "    <tr>\n",
       "      <th>356</th>\n",
       "      <td>RZCJ2002</td>\n",
       "      <td>1634687887</td>\n",
       "      <td>It has been more than a day since I ordered my 14'' Macbook Pro (yesterday before noon Pacific t...</td>\n",
       "      <td>apple</td>\n",
       "      <td>How long does it take for an order to be processed?</td>\n",
       "    </tr>\n",
       "    <tr>\n",
       "      <th>357</th>\n",
       "      <td>ViolenceJoe</td>\n",
       "      <td>1634687668</td>\n",
       "      <td>Hi all, I know nothing new relating to a possible Mac mini model was announced but has there bee...</td>\n",
       "      <td>apple</td>\n",
       "      <td>Mac mini?</td>\n",
       "    </tr>\n",
       "  </tbody>\n",
       "</table>\n",
       "</div>"
      ],
      "text/plain": [
       "                   author  created_utc  \\\n",
       "3           Gingerstrands   1635283070   \n",
       "4           BiovelaBoomer   1635282964   \n",
       "10              gambler__   1635278050   \n",
       "15           SnooJokes102   1635269119   \n",
       "21         DentistSea2573   1635257400   \n",
       "49      Expensive_Age3018   1635209054   \n",
       "50              candlesVI   1635207133   \n",
       "53                 CenZen   1635204014   \n",
       "54               Furstman   1635203770   \n",
       "55            binarysmurf   1635201204   \n",
       "59           KatnUSSblack   1635197242   \n",
       "62               walktall   1635196530   \n",
       "63         YellowMaverick   1635194507   \n",
       "65                benbenk   1635190729   \n",
       "87                amgplug   1635175525   \n",
       "98                 nang18   1635167601   \n",
       "107            iaretushar   1635165096   \n",
       "108             dantracht   1635161966   \n",
       "132             chestdrop   1635084724   \n",
       "135            mrdatalife   1635082773   \n",
       "136            scadgrad06   1635082429   \n",
       "137        ineedlesssleep   1635081257   \n",
       "139        _dave_maxwell_   1635077210   \n",
       "141      dynamicappdesign   1635073965   \n",
       "142                jadfls   1635069724   \n",
       "144              stefanvd   1635069223   \n",
       "145          whiplashoo21   1635068992   \n",
       "152                edfilo   1635052934   \n",
       "153              happybuy   1635049003   \n",
       "162       RickNBacker4003   1635026209   \n",
       "179             Launche18   1635000560   \n",
       "183           Morilec_ITA   1634994682   \n",
       "201              walktall   1634940548   \n",
       "219            coltks2004   1634918923   \n",
       "234          Nazi-Turtles   1634892615   \n",
       "241           Woopwoopwop   1634862595   \n",
       "246  Alternative-Spray675   1634854997   \n",
       "276             fl_angela   1634808395   \n",
       "295  LivinMyAuthenticLife   1634764672   \n",
       "296              IBruxyIv   1634764523   \n",
       "298                Leryud   1634762788   \n",
       "300           YungBoss212   1634757598   \n",
       "306              shyn_tbr   1634751492   \n",
       "314      itsjusttooswaggy   1634745865   \n",
       "315                 Myrag   1634745735   \n",
       "339            PMdigiTech   1634718768   \n",
       "348       Tony___________   1634701098   \n",
       "355           emtywrld999   1634687968   \n",
       "356              RZCJ2002   1634687887   \n",
       "357           ViolenceJoe   1634687668   \n",
       "\n",
       "                                                                                                selftext  \\\n",
       "3    I went to the Apple Store today to look at the pros in person. To be honest, I’m even more uncer...   \n",
       "4    What is the correct way to use the battery pack, would it be plugging in the cable into the ipho...   \n",
       "10   As the title says, I am curious why Siri can't recognize the proper pronunciation of hard to pro...   \n",
       "15   I bought some airpods pro about a year  bought the full cover for it including accidents however...   \n",
       "21   I’m a student and I want to get an iPad for note taking, and maybe for drawing also. But I don’t...   \n",
       "49   So I block someone on my iphone but suddenly I get a text from them on iMessage on my Desktop. W...   \n",
       "50   So the iphone 11 on the apple store says Nov 16 - Nov 23. Does that mean it will arrive at my do...   \n",
       "53   It’s like the title said, I just received confirmation that I’m getting a job and that I will be...   \n",
       "54   I did download some Apple Desktop Background pictures and I saw an iCloud Icon and download it b...   \n",
       "55   i have an iMac 13,2 which EOL'ed at Catalina. I used OpenCore Legacy Patcher to install Big Sur,...   \n",
       "59   What are your likes, dislikes, things you wanna try?   How is it going to enhance your productiv...   \n",
       "62   For most Macs, Apple Stores stock \"better\" \"best\" and \"ultimate\" configurations, though they oft...   \n",
       "63                               The animation for opening mission control is so much smoother at 144hz!   \n",
       "65   Neither iOS 15.1 nor macOS 12.0.1 Reminders apps detect anything (time, \"tomorrow\", \"Wednesday\")...   \n",
       "87   Hey guys I’m looking to buy a new Mac laptop. I’m a student on a tight budget and want to buy it...   \n",
       "98                                                                                                woohoo   \n",
       "107  My computer shipped (yay!) but I notice that the shipment config breakdown includes internal com...   \n",
       "108  Sorry for lacking any originality on this.    Speaking of lacking originality, I also asked this...   \n",
       "132  We got bored of other social networks where every post has an ad. We want a place where you ever...   \n",
       "135  Hey all, if you're a cyclist and want to start creating and finding rides in your local geograph...   \n",
       "136  For the last five years I have been working on a new Vector and Raster design tool that I call E...   \n",
       "137  I made a little app for all the Notch haters out there, Forehead!  It allows you to make the men...   \n",
       "139  [TextPhoto](  is the mobile app that you can use to convert pictures into text art. You can choo...   \n",
       "141  Sneak peak of the app here- really happy with how it turned out...  [YouTube App Preview(unfinis...   \n",
       "142  Thanks to all you constructive feedback, I have released a major update to my Safari extension M...   \n",
       "144  Hello Apple fans,  Hope you have a great autumn Sunday.  I love to tell you about my new Safari ...   \n",
       "145  Hey everyone!  [Shortcut Keeper](  is a simple app that lets you easily **keep all the shortcuts...   \n",
       "152  Backpack Studio allows podcasters to create studio-quality recordings entirely from iOS. The 2.0...   \n",
       "153  Hey redditors, after a long time in development (and lots of requests!!) we’ve released an updat...   \n",
       "162  How does create a circular path, to have an object travel a circular path, in Keynote?  Was this...   \n",
       "179  Does the Apple Watch Series 7 have the ability to monitor blood glucose levels whether that be t...   \n",
       "183  Hi everyone, I have an editing problem. I wanted to do this on my iPad, bought LumaFusion and th...   \n",
       "201  Just got this email from Apple:  &gt; You may have noticed that a recent Apple purchase was elig...   \n",
       "219  SimplyMac has the new 14\" and 16\" MacBook Pros on sale for $200 off this weekend. I was able to ...   \n",
       "234  when calling on my phone using the phone app, i could often hear phone background static, and i ...   \n",
       "241                Or is the camera good enough on its own? I’m thinking anamorphic lenses and the like.   \n",
       "246  I’m really interested in it! Is it an iOS 15 only app? I’m Still on 14. Could that be why I can’...   \n",
       "276                                                                 Could anyone tell me about the firm?   \n",
       "295  If this is possible how do I do it because I can’t find the option on my phone but I see it when...   \n",
       "296  if you click wrong you could send the photo to your top contacts // trying to hide trans outfits...   \n",
       "298  It may sound like a silly question, as apple's quality check must be very efficient, but seeing ...   \n",
       "300  Will a 10 core CPU upgrade for the 14inch base 8core CPU be necessary for music production? I pl...   \n",
       "306  So I decided to start using my dads iPhone 11 and he started using his iPhone 7. Everything work...   \n",
       "314  I'm thinking of making the switch to iPhone, and I heard that iPhones can now write NFC tags. I'...   \n",
       "315  As per title.  We all know that Apple said that you can connect 3x 6k apple XDR displays and 1x ...   \n",
       "339     The Apple iPhone 13 seasoned and the **iPhone 13 Pro Max** are the primary iPhones with Huge-...   \n",
       "348  One of the usb c ports charges right away, and the other one takes about 1 minute before it star...   \n",
       "355                                               There is no “mark all” button for me - its greyed out.   \n",
       "356  It has been more than a day since I ordered my 14'' Macbook Pro (yesterday before noon Pacific t...   \n",
       "357  Hi all, I know nothing new relating to a possible Mac mini model was announced but has there bee...   \n",
       "\n",
       "    subreddit  \\\n",
       "3       apple   \n",
       "4       apple   \n",
       "10      apple   \n",
       "15      apple   \n",
       "21      apple   \n",
       "49      apple   \n",
       "50      apple   \n",
       "53      apple   \n",
       "54      apple   \n",
       "55      apple   \n",
       "59      apple   \n",
       "62      apple   \n",
       "63      apple   \n",
       "65      apple   \n",
       "87      apple   \n",
       "98      apple   \n",
       "107     apple   \n",
       "108     apple   \n",
       "132     apple   \n",
       "135     apple   \n",
       "136     apple   \n",
       "137     apple   \n",
       "139     apple   \n",
       "141     apple   \n",
       "142     apple   \n",
       "144     apple   \n",
       "145     apple   \n",
       "152     apple   \n",
       "153     apple   \n",
       "162     apple   \n",
       "179     apple   \n",
       "183     apple   \n",
       "201     apple   \n",
       "219     apple   \n",
       "234     apple   \n",
       "241     apple   \n",
       "246     apple   \n",
       "276     apple   \n",
       "295     apple   \n",
       "296     apple   \n",
       "298     apple   \n",
       "300     apple   \n",
       "306     apple   \n",
       "314     apple   \n",
       "315     apple   \n",
       "339     apple   \n",
       "348     apple   \n",
       "355     apple   \n",
       "356     apple   \n",
       "357     apple   \n",
       "\n",
       "                                                                                                   title  \n",
       "3    To anyone like me who was wondering: yes, you can fit two apps side by side on the 14” comfortab...  \n",
       "4                                                                       Correct way to use battery pack?  \n",
       "10              Will Siri ever be able to recognize the proper pronunciation of hard-to-pronounce names?  \n",
       "15                      Question: is it better to ship airpods to apple or take them to the apple store?  \n",
       "21                                          Should I get the 2021 12.9” iPad Pro or wait till next year?  \n",
       "49                                                                                              iMessage  \n",
       "50                                                                                             Iphone 11  \n",
       "53   I just got a job as a tier 1 tech support agent. I have questions about the iMac they’re sending...  \n",
       "54                                I installed Monterey and I can't delete the Apple Background Pictures.  \n",
       "55                               OpenCore Legacy Patcher Big Sur -&gt; OpenCore Legacy Patcher Monterey?  \n",
       "59                                                              iOS 15.1 - how are we feeling about it??  \n",
       "62     PSA: Apple Stores will be stocking hidden \"ultimate\" configurations for the MacBook Pros tomorrow  \n",
       "63                              System animations finally update at the proper refresh rate in macOS 12!  \n",
       "65                                                 Where is the natural language input in Reminders apps  \n",
       "87                                                                          Looking to a new Mac laptop!  \n",
       "98                                                                                 EMBARGO IS LIFTED 🎉🕺🤝  \n",
       "107                                             MacBook shipment breakdown includes internal components?  \n",
       "108                                                             Another \"should I upgrade or wait\" post!  \n",
       "132  Finally our new social is on the App Store! We created Moonshot because we wanted a place where ...  \n",
       "135                              Cyclists - updated iOS app Chasing Watts - create &amp; find rides easy  \n",
       "136         Exothermic - A new Vector &amp; Raster Design Suite for macOS and it's free for personal use  \n",
       "137  I made an app to hide the Notch on the new MacBook Pro, called Forehead. It also allows you to r...  \n",
       "139                            I made the app to convert pictures into word artworks (typography effect)  \n",
       "141  My checklist app has been massively redesigned and with a whole new look and tons of new feature...  \n",
       "142  Updated my Safari extension Map Redirect to redirect all map links on every website to the app o...  \n",
       "144  New Safari extension that customizable your Safari new tab page (with video background, image, a...  \n",
       "145                                    Shortcut Keeper: Save the keyboard shortcuts you want to remember  \n",
       "152                      Backpack Studio for podcasters 2.0 update is free in the app store this weekend  \n",
       "153                                            Block YouTube ads in Safari with Magic Lasso Adblock v3.1  \n",
       "162                                                                            Circular Path in Keynote?  \n",
       "179                                                                         Apple Watch Series 7 glucose  \n",
       "183                                 Edit files on external SSD with LumaFusion on an iPad with lightning  \n",
       "201  PSA: Apple plans to honor the Apple Card 6% cash back on all transactions that erroneously showe...  \n",
       "219                                                   New 14\" and 16\" MacBook Pros $200 off this weekend  \n",
       "234                                                 i think i might be being spied on when i call people  \n",
       "241                     Would I still need camera lenses if I wanted to make films on the iPhone 13 Pro?  \n",
       "246                                                     Is Mountain Climber a Real App? I Can’t Find It.  \n",
       "276                                                                               I am new to everything  \n",
       "295  So on mac you’re able to change the font color of text in the Notes app. But is this not possibl...  \n",
       "296                                                   Getting to the Hide photos option is never racking  \n",
       "298                                        Does more core leaves more value for error in manufacturing ?  \n",
       "300                                                                 New MacBook Pro and music production  \n",
       "306                                                                    Need help. Phones are bugging out  \n",
       "314                                                                                NFC tags &amp; alarms  \n",
       "315     Do we know if new macbook pros support daisy chaining to connect multiple screens via one cable?  \n",
       "339                                iPhone 13 Pro max|iPhone 13 Pro max: Review 2021 |Best iPhone in 2021  \n",
       "348                                                                            m1 Macbook charging delay  \n",
       "355                     Age old question - how the heck do I mark all my emails as “read” in Apple Mail?  \n",
       "356                                                  How long does it take for an order to be processed?  \n",
       "357                                                                                            Mac mini?  "
      ]
     },
     "execution_count": 52,
     "metadata": {},
     "output_type": "execute_result"
    }
   ],
   "source": [
    "ap.head(50)"
   ]
  },
  {
   "cell_type": "markdown",
   "id": "f7b76478",
   "metadata": {},
   "source": [
    "The number of rows and columns in the data is as follows:"
   ]
  },
  {
   "cell_type": "code",
   "execution_count": 53,
   "id": "06f4c5b3",
   "metadata": {},
   "outputs": [
    {
     "data": {
      "text/plain": [
       "(7208, 5)"
      ]
     },
     "execution_count": 53,
     "metadata": {},
     "output_type": "execute_result"
    }
   ],
   "source": [
    "ap.shape"
   ]
  },
  {
   "cell_type": "markdown",
   "id": "469d2acf",
   "metadata": {},
   "source": [
    "## Saving the DataFrame to CSV"
   ]
  },
  {
   "cell_type": "code",
   "execution_count": 54,
   "id": "7230fb95",
   "metadata": {},
   "outputs": [],
   "source": [
    "ap.to_csv('../data/ap.csv', index=False)"
   ]
  },
  {
   "cell_type": "markdown",
   "id": "362ba49e",
   "metadata": {},
   "source": [
    "# Data Filtering (Samsung)\n",
    "\n",
    "## Loading the data \n",
    "\n",
    "The dataset from the Samsung subreddit will be loaded. We will only select certain columns."
   ]
  },
  {
   "cell_type": "code",
   "execution_count": 55,
   "id": "f570c969",
   "metadata": {},
   "outputs": [],
   "source": [
    "ss = pd.read_csv('../data/df_samsung.csv', usecols=['subreddit',\n",
    "                                                    'author',\n",
    "                                                    'created_utc',\n",
    "                                                    'selftext',\n",
    "                                                    'title',\n",
    "                                                    'author_flair_css_class'])"
   ]
  },
  {
   "cell_type": "code",
   "execution_count": 56,
   "id": "d6ba0252",
   "metadata": {},
   "outputs": [
    {
     "data": {
      "text/html": [
       "<div>\n",
       "<style scoped>\n",
       "    .dataframe tbody tr th:only-of-type {\n",
       "        vertical-align: middle;\n",
       "    }\n",
       "\n",
       "    .dataframe tbody tr th {\n",
       "        vertical-align: top;\n",
       "    }\n",
       "\n",
       "    .dataframe thead th {\n",
       "        text-align: right;\n",
       "    }\n",
       "</style>\n",
       "<table border=\"1\" class=\"dataframe\">\n",
       "  <thead>\n",
       "    <tr style=\"text-align: right;\">\n",
       "      <th></th>\n",
       "      <th>author</th>\n",
       "      <th>author_flair_css_class</th>\n",
       "      <th>created_utc</th>\n",
       "      <th>selftext</th>\n",
       "      <th>subreddit</th>\n",
       "      <th>title</th>\n",
       "    </tr>\n",
       "  </thead>\n",
       "  <tbody>\n",
       "    <tr>\n",
       "      <th>0</th>\n",
       "      <td>llThat1Guyll</td>\n",
       "      <td>NaN</td>\n",
       "      <td>1635291756</td>\n",
       "      <td>I think it mightve Changed with the latest update. I swear it looks like longer or something. It...</td>\n",
       "      <td>samsung</td>\n",
       "      <td>Did the Devil emojii change for Android? At least Samsung, because I swear it Does, but I can't ...</td>\n",
       "    </tr>\n",
       "    <tr>\n",
       "      <th>1</th>\n",
       "      <td>Gold_Enigma</td>\n",
       "      <td>NaN</td>\n",
       "      <td>1635289011</td>\n",
       "      <td>I bought a pair of galaxy buds+ a little under a year ago in the US and thought they worked very...</td>\n",
       "      <td>samsung</td>\n",
       "      <td>Samsung is really pissing me off today?</td>\n",
       "    </tr>\n",
       "    <tr>\n",
       "      <th>2</th>\n",
       "      <td>noobmistermuffin</td>\n",
       "      <td>NaN</td>\n",
       "      <td>1635287113</td>\n",
       "      <td>I work in a phone repair store I don't speak for the brand or any company I speak with what I've...</td>\n",
       "      <td>samsung</td>\n",
       "      <td>DONT UPDATE YOUR A21 PHONE</td>\n",
       "    </tr>\n",
       "    <tr>\n",
       "      <th>3</th>\n",
       "      <td>UnusualMedico</td>\n",
       "      <td>NaN</td>\n",
       "      <td>1635287012</td>\n",
       "      <td>NaN</td>\n",
       "      <td>samsung</td>\n",
       "      <td>Help with trade in</td>\n",
       "    </tr>\n",
       "    <tr>\n",
       "      <th>4</th>\n",
       "      <td>Jorycle</td>\n",
       "      <td>NaN</td>\n",
       "      <td>1635285986</td>\n",
       "      <td>Rant mode.\\n\\nSo we bought some appliances like 6 months back. It took them so long to come in s...</td>\n",
       "      <td>samsung</td>\n",
       "      <td>Samsung delivery policies: Stupid, or the stupidest?</td>\n",
       "    </tr>\n",
       "  </tbody>\n",
       "</table>\n",
       "</div>"
      ],
      "text/plain": [
       "             author author_flair_css_class  created_utc  \\\n",
       "0      llThat1Guyll                    NaN   1635291756   \n",
       "1       Gold_Enigma                    NaN   1635289011   \n",
       "2  noobmistermuffin                    NaN   1635287113   \n",
       "3     UnusualMedico                    NaN   1635287012   \n",
       "4           Jorycle                    NaN   1635285986   \n",
       "\n",
       "                                                                                              selftext  \\\n",
       "0  I think it mightve Changed with the latest update. I swear it looks like longer or something. It...   \n",
       "1  I bought a pair of galaxy buds+ a little under a year ago in the US and thought they worked very...   \n",
       "2  I work in a phone repair store I don't speak for the brand or any company I speak with what I've...   \n",
       "3                                                                                                  NaN   \n",
       "4  Rant mode.\\n\\nSo we bought some appliances like 6 months back. It took them so long to come in s...   \n",
       "\n",
       "  subreddit  \\\n",
       "0   samsung   \n",
       "1   samsung   \n",
       "2   samsung   \n",
       "3   samsung   \n",
       "4   samsung   \n",
       "\n",
       "                                                                                                 title  \n",
       "0  Did the Devil emojii change for Android? At least Samsung, because I swear it Does, but I can't ...  \n",
       "1                                                              Samsung is really pissing me off today?  \n",
       "2                                                                           DONT UPDATE YOUR A21 PHONE  \n",
       "3                                                                                   Help with trade in  \n",
       "4                                                 Samsung delivery policies: Stupid, or the stupidest?  "
      ]
     },
     "execution_count": 56,
     "metadata": {},
     "output_type": "execute_result"
    }
   ],
   "source": [
    "ss.head(5)"
   ]
  },
  {
   "cell_type": "markdown",
   "id": "b3e0815a",
   "metadata": {},
   "source": [
    "## Filtering the data "
   ]
  },
  {
   "cell_type": "markdown",
   "id": "44e65d29",
   "metadata": {},
   "source": [
    "### Removing rows with null values in the `selftext` column"
   ]
  },
  {
   "cell_type": "code",
   "execution_count": 57,
   "id": "a65e96df",
   "metadata": {
    "scrolled": true
   },
   "outputs": [
    {
     "data": {
      "text/plain": [
       "False    7383\n",
       "True     2612\n",
       "Name: selftext, dtype: int64"
      ]
     },
     "execution_count": 57,
     "metadata": {},
     "output_type": "execute_result"
    }
   ],
   "source": [
    "ss['selftext'].isna().value_counts()"
   ]
  },
  {
   "cell_type": "markdown",
   "id": "ac010866",
   "metadata": {},
   "source": [
    "There are rows with null values in the `selftext` column. We will drop the rows:"
   ]
  },
  {
   "cell_type": "code",
   "execution_count": 58,
   "id": "3f058473",
   "metadata": {},
   "outputs": [],
   "source": [
    "ss.dropna(subset=['selftext'], inplace=True)"
   ]
  },
  {
   "cell_type": "markdown",
   "id": "bd58c253",
   "metadata": {},
   "source": [
    "There are no more null values in the `selftext` column:"
   ]
  },
  {
   "cell_type": "code",
   "execution_count": 59,
   "id": "d8cbb2bb",
   "metadata": {
    "scrolled": true
   },
   "outputs": [
    {
     "data": {
      "text/plain": [
       "False    7383\n",
       "Name: selftext, dtype: int64"
      ]
     },
     "execution_count": 59,
     "metadata": {},
     "output_type": "execute_result"
    }
   ],
   "source": [
    "ss['selftext'].isna().value_counts()"
   ]
  },
  {
   "cell_type": "markdown",
   "id": "79a9ad23",
   "metadata": {},
   "source": [
    "### Removing rows with null values in the `title` column\n",
    "\n",
    "There are no rows with null values in the `title` column."
   ]
  },
  {
   "cell_type": "code",
   "execution_count": 60,
   "id": "8366a3f9",
   "metadata": {},
   "outputs": [
    {
     "data": {
      "text/plain": [
       "False    7383\n",
       "Name: title, dtype: int64"
      ]
     },
     "execution_count": 60,
     "metadata": {},
     "output_type": "execute_result"
    }
   ],
   "source": [
    "ss['title'].isna().value_counts()"
   ]
  },
  {
   "cell_type": "markdown",
   "id": "566cf54d",
   "metadata": {},
   "source": [
    "### Dropping duplicates (according to `title` and `selftext`)"
   ]
  },
  {
   "cell_type": "code",
   "execution_count": 61,
   "id": "e8eaa07b",
   "metadata": {},
   "outputs": [
    {
     "data": {
      "text/plain": [
       "(7383, 6)"
      ]
     },
     "execution_count": 61,
     "metadata": {},
     "output_type": "execute_result"
    }
   ],
   "source": [
    "ss.shape"
   ]
  },
  {
   "cell_type": "markdown",
   "id": "8c1a4896",
   "metadata": {},
   "source": [
    "There are 7383 rows in the DataFrame."
   ]
  },
  {
   "cell_type": "code",
   "execution_count": 62,
   "id": "6aa18d3a",
   "metadata": {},
   "outputs": [],
   "source": [
    "ss.drop_duplicates(subset=['title', 'selftext'], inplace=True)"
   ]
  },
  {
   "cell_type": "markdown",
   "id": "7582766c",
   "metadata": {},
   "source": [
    "The number is now different as some duplicate rows were dropped:"
   ]
  },
  {
   "cell_type": "code",
   "execution_count": 63,
   "id": "6867ba71",
   "metadata": {},
   "outputs": [
    {
     "data": {
      "text/plain": [
       "(7207, 6)"
      ]
     },
     "execution_count": 63,
     "metadata": {},
     "output_type": "execute_result"
    }
   ],
   "source": [
    "ss.shape"
   ]
  },
  {
   "cell_type": "markdown",
   "id": "51b8e78f",
   "metadata": {},
   "source": [
    "### Removing posts with [removed] as the `selftext`\n",
    "\n",
    "There are no posts with '[removed]' as the `selftext` as we have already filtered them out at the webscraping stage."
   ]
  },
  {
   "cell_type": "code",
   "execution_count": 64,
   "id": "ea4a0b35",
   "metadata": {
    "scrolled": true
   },
   "outputs": [
    {
     "data": {
      "text/plain": [
       "False    7207\n",
       "Name: selftext, dtype: int64"
      ]
     },
     "execution_count": 64,
     "metadata": {},
     "output_type": "execute_result"
    }
   ],
   "source": [
    "(ss['selftext'] == '[removed]').value_counts()"
   ]
  },
  {
   "cell_type": "markdown",
   "id": "abb048fa",
   "metadata": {},
   "source": [
    "### Removing posts with [deleted] as the `selftext`\n",
    "\n",
    "There are a number of posts with '[deleted]' as the `selftext`:"
   ]
  },
  {
   "cell_type": "code",
   "execution_count": 65,
   "id": "6ffc2bb5",
   "metadata": {
    "scrolled": true
   },
   "outputs": [
    {
     "data": {
      "text/plain": [
       "False    7097\n",
       "True      110\n",
       "Name: selftext, dtype: int64"
      ]
     },
     "execution_count": 65,
     "metadata": {},
     "output_type": "execute_result"
    }
   ],
   "source": [
    "(ss['selftext'] == '[deleted]').value_counts()"
   ]
  },
  {
   "cell_type": "markdown",
   "id": "66df877b",
   "metadata": {},
   "source": [
    "Removing the rows:"
   ]
  },
  {
   "cell_type": "code",
   "execution_count": 66,
   "id": "8e932be7",
   "metadata": {},
   "outputs": [],
   "source": [
    "ss = ss[ss['selftext'] != '[deleted]']"
   ]
  },
  {
   "cell_type": "markdown",
   "id": "195afbd0",
   "metadata": {},
   "source": [
    "There are no more rows with '[deleted]' as the `selftext`."
   ]
  },
  {
   "cell_type": "code",
   "execution_count": 67,
   "id": "749ea3d8",
   "metadata": {},
   "outputs": [
    {
     "data": {
      "text/plain": [
       "False    7097\n",
       "Name: selftext, dtype: int64"
      ]
     },
     "execution_count": 67,
     "metadata": {},
     "output_type": "execute_result"
    }
   ],
   "source": [
    "(ss['selftext'] == '[deleted]').value_counts()"
   ]
  },
  {
   "cell_type": "markdown",
   "id": "a914a1cd",
   "metadata": {},
   "source": [
    "### Removing completely empty posts\n",
    "\n",
    "There are no posts that have an empty string as the `selftext`:"
   ]
  },
  {
   "cell_type": "code",
   "execution_count": 68,
   "id": "63f10491",
   "metadata": {
    "scrolled": true
   },
   "outputs": [
    {
     "data": {
      "text/plain": [
       "False    7097\n",
       "Name: selftext, dtype: int64"
      ]
     },
     "execution_count": 68,
     "metadata": {},
     "output_type": "execute_result"
    }
   ],
   "source": [
    "(ss['selftext'] == '').value_counts()"
   ]
  },
  {
   "cell_type": "markdown",
   "id": "40b5ae6c",
   "metadata": {},
   "source": [
    "### Removing AutoModerator posts\n",
    "\n",
    "There are a number of posts by 'AutoModerator'."
   ]
  },
  {
   "cell_type": "code",
   "execution_count": 69,
   "id": "95452d21",
   "metadata": {
    "scrolled": true
   },
   "outputs": [
    {
     "data": {
      "text/plain": [
       "False    7091\n",
       "True        6\n",
       "Name: author, dtype: int64"
      ]
     },
     "execution_count": 69,
     "metadata": {},
     "output_type": "execute_result"
    }
   ],
   "source": [
    "(ss['author'] == 'AutoModerator').value_counts()"
   ]
  },
  {
   "cell_type": "markdown",
   "id": "c0b7e29b",
   "metadata": {},
   "source": [
    "The posts are as follows:"
   ]
  },
  {
   "cell_type": "code",
   "execution_count": 70,
   "id": "c1f42716",
   "metadata": {},
   "outputs": [
    {
     "data": {
      "text/html": [
       "<div>\n",
       "<style scoped>\n",
       "    .dataframe tbody tr th:only-of-type {\n",
       "        vertical-align: middle;\n",
       "    }\n",
       "\n",
       "    .dataframe tbody tr th {\n",
       "        vertical-align: top;\n",
       "    }\n",
       "\n",
       "    .dataframe thead th {\n",
       "        text-align: right;\n",
       "    }\n",
       "</style>\n",
       "<table border=\"1\" class=\"dataframe\">\n",
       "  <thead>\n",
       "    <tr style=\"text-align: right;\">\n",
       "      <th></th>\n",
       "      <th>author</th>\n",
       "      <th>author_flair_css_class</th>\n",
       "      <th>created_utc</th>\n",
       "      <th>selftext</th>\n",
       "      <th>subreddit</th>\n",
       "      <th>title</th>\n",
       "    </tr>\n",
       "  </thead>\n",
       "  <tbody>\n",
       "    <tr>\n",
       "      <th>32</th>\n",
       "      <td>AutoModerator</td>\n",
       "      <td>NaN</td>\n",
       "      <td>1635242418</td>\n",
       "      <td>Welcome to the Daily Support thread for [r/Samsung](https://www.reddit.com/r/samsung/). You can ...</td>\n",
       "      <td>samsung</td>\n",
       "      <td>Daily Support Thread</td>\n",
       "    </tr>\n",
       "    <tr>\n",
       "      <th>2508</th>\n",
       "      <td>AutoModerator</td>\n",
       "      <td>NaN</td>\n",
       "      <td>1625445012</td>\n",
       "      <td># Join our discord for awesome tech support, great chat, and future giveaways! [https://discord....</td>\n",
       "      <td>samsung</td>\n",
       "      <td>*** HEY YOU! YA YOU! ***</td>\n",
       "    </tr>\n",
       "    <tr>\n",
       "      <th>2547</th>\n",
       "      <td>AutoModerator</td>\n",
       "      <td>NaN</td>\n",
       "      <td>1625392814</td>\n",
       "      <td>Welcome to the Daily (Tech) Support thread for [r/Samsung](https://www.reddit.com/r/samsung/). Y...</td>\n",
       "      <td>samsung</td>\n",
       "      <td>Daily Tech Support Thread</td>\n",
       "    </tr>\n",
       "    <tr>\n",
       "      <th>4226</th>\n",
       "      <td>AutoModerator</td>\n",
       "      <td>NaN</td>\n",
       "      <td>1622839994</td>\n",
       "      <td>#  If you have ANY questions, please join our official discord and we'll be happy to answer them...</td>\n",
       "      <td>samsung</td>\n",
       "      <td>We're looking for new moderators!</td>\n",
       "    </tr>\n",
       "    <tr>\n",
       "      <th>4229</th>\n",
       "      <td>AutoModerator</td>\n",
       "      <td>NaN</td>\n",
       "      <td>1622838616</td>\n",
       "      <td># If you have ANY questions, please join our official discord and we'll be happy to answer them....</td>\n",
       "      <td>samsung</td>\n",
       "      <td>We're looking for new moderators!</td>\n",
       "    </tr>\n",
       "  </tbody>\n",
       "</table>\n",
       "</div>"
      ],
      "text/plain": [
       "             author author_flair_css_class  created_utc  \\\n",
       "32    AutoModerator                    NaN   1635242418   \n",
       "2508  AutoModerator                    NaN   1625445012   \n",
       "2547  AutoModerator                    NaN   1625392814   \n",
       "4226  AutoModerator                    NaN   1622839994   \n",
       "4229  AutoModerator                    NaN   1622838616   \n",
       "\n",
       "                                                                                                 selftext  \\\n",
       "32    Welcome to the Daily Support thread for [r/Samsung](https://www.reddit.com/r/samsung/). You can ...   \n",
       "2508  # Join our discord for awesome tech support, great chat, and future giveaways! [https://discord....   \n",
       "2547  Welcome to the Daily (Tech) Support thread for [r/Samsung](https://www.reddit.com/r/samsung/). Y...   \n",
       "4226  #  If you have ANY questions, please join our official discord and we'll be happy to answer them...   \n",
       "4229  # If you have ANY questions, please join our official discord and we'll be happy to answer them....   \n",
       "\n",
       "     subreddit                              title  \n",
       "32     samsung               Daily Support Thread  \n",
       "2508   samsung           *** HEY YOU! YA YOU! ***  \n",
       "2547   samsung          Daily Tech Support Thread  \n",
       "4226   samsung  We're looking for new moderators!  \n",
       "4229   samsung  We're looking for new moderators!  "
      ]
     },
     "execution_count": 70,
     "metadata": {},
     "output_type": "execute_result"
    }
   ],
   "source": [
    "ss[ss['author'] == 'AutoModerator'].head()"
   ]
  },
  {
   "cell_type": "markdown",
   "id": "0355a78f",
   "metadata": {},
   "source": [
    "They appear to be moderator posts opening discussion threads and will be filtered out:"
   ]
  },
  {
   "cell_type": "code",
   "execution_count": 71,
   "id": "18661980",
   "metadata": {},
   "outputs": [],
   "source": [
    "ss = ss[ss['author'] != 'AutoModerator']"
   ]
  },
  {
   "cell_type": "markdown",
   "id": "e52c7056",
   "metadata": {},
   "source": [
    "There are no more posts by 'AutoModerator'."
   ]
  },
  {
   "cell_type": "code",
   "execution_count": 72,
   "id": "29bcee31",
   "metadata": {
    "scrolled": true
   },
   "outputs": [
    {
     "data": {
      "text/plain": [
       "False    7091\n",
       "Name: author, dtype: int64"
      ]
     },
     "execution_count": 72,
     "metadata": {},
     "output_type": "execute_result"
    }
   ],
   "source": [
    "(ss['author'] == 'AutoModerator').value_counts()"
   ]
  },
  {
   "cell_type": "markdown",
   "id": "fccf18c0",
   "metadata": {},
   "source": [
    "### Removing moderator posts \n",
    "\n",
    "Using the `author_flair_css_class` column, we can see that there is no category for moderator posts, unlike in the Apple data."
   ]
  },
  {
   "cell_type": "code",
   "execution_count": 73,
   "id": "42f24737",
   "metadata": {},
   "outputs": [
    {
     "data": {
      "text/plain": [
       "NaN             6548\n",
       "custom           108\n",
       "Note 10 Plus      47\n",
       "S20 Ultra         41\n",
       "S20 Plus          39\n",
       "Note9             37\n",
       "S10 Plus          35\n",
       "S20               34\n",
       "S9 Plus           26\n",
       "S10 e             25\n",
       "S10               20\n",
       "Fold              19\n",
       "S8                16\n",
       "Note8             11\n",
       "S9                11\n",
       "iphone            10\n",
       "S1                 8\n",
       "S8 Plus            8\n",
       "a30                7\n",
       "S2                 7\n",
       "s21 series         7\n",
       "S10 5G             7\n",
       "S7                 5\n",
       "a20                4\n",
       "Note 10            4\n",
       "Note3              2\n",
       "Note2              2\n",
       "J7 2015            1\n",
       "S6                 1\n",
       "Note5              1\n",
       "Name: author_flair_css_class, dtype: int64"
      ]
     },
     "execution_count": 73,
     "metadata": {},
     "output_type": "execute_result"
    }
   ],
   "source": [
    "ss['author_flair_css_class'].value_counts(dropna=False)"
   ]
  },
  {
   "cell_type": "markdown",
   "id": "a27d0106",
   "metadata": {},
   "source": [
    "### Removing links\n",
    "\n",
    "There are links in the data:"
   ]
  },
  {
   "cell_type": "code",
   "execution_count": 74,
   "id": "bd189448",
   "metadata": {},
   "outputs": [
    {
     "data": {
      "text/html": [
       "<div>\n",
       "<style scoped>\n",
       "    .dataframe tbody tr th:only-of-type {\n",
       "        vertical-align: middle;\n",
       "    }\n",
       "\n",
       "    .dataframe tbody tr th {\n",
       "        vertical-align: top;\n",
       "    }\n",
       "\n",
       "    .dataframe thead th {\n",
       "        text-align: right;\n",
       "    }\n",
       "</style>\n",
       "<table border=\"1\" class=\"dataframe\">\n",
       "  <thead>\n",
       "    <tr style=\"text-align: right;\">\n",
       "      <th></th>\n",
       "      <th>author</th>\n",
       "      <th>author_flair_css_class</th>\n",
       "      <th>created_utc</th>\n",
       "      <th>selftext</th>\n",
       "      <th>subreddit</th>\n",
       "      <th>title</th>\n",
       "    </tr>\n",
       "  </thead>\n",
       "  <tbody>\n",
       "    <tr>\n",
       "      <th>270</th>\n",
       "      <td>justarandomaccname</td>\n",
       "      <td>NaN</td>\n",
       "      <td>1634372088</td>\n",
       "      <td>So today I went to the Samsung US site to check if there were any new offers for the Galaxy Tab ...</td>\n",
       "      <td>samsung</td>\n",
       "      <td>Samsung Galaxy Unpacked Part 2?</td>\n",
       "    </tr>\n",
       "    <tr>\n",
       "      <th>525</th>\n",
       "      <td>yashwanthms</td>\n",
       "      <td>NaN</td>\n",
       "      <td>1633453689</td>\n",
       "      <td>I'm not able to change any notification settings for WhatsApp messages, since they're not being ...</td>\n",
       "      <td>samsung</td>\n",
       "      <td>Whatsapp message notifications being categorised as \"Silent Notifications\" by default.</td>\n",
       "    </tr>\n",
       "    <tr>\n",
       "      <th>1160</th>\n",
       "      <td>AussieP1E</td>\n",
       "      <td>NaN</td>\n",
       "      <td>1631482362</td>\n",
       "      <td>Anyone else's Galaxy watch 4 shedding on the watch band?\\nSeems like the coating on top is comin...</td>\n",
       "      <td>samsung</td>\n",
       "      <td>Galaxy Watch4 band shedding?</td>\n",
       "    </tr>\n",
       "    <tr>\n",
       "      <th>1271</th>\n",
       "      <td>kb389</td>\n",
       "      <td>Fold</td>\n",
       "      <td>1631130738</td>\n",
       "      <td>How do i turn it off?\\n\\nhttp://imgur.com/gallery/kg2aHhu\\n\\nVery annoying, I somehow enabled it...</td>\n",
       "      <td>samsung</td>\n",
       "      <td>Game booster priority mode?</td>\n",
       "    </tr>\n",
       "    <tr>\n",
       "      <th>1459</th>\n",
       "      <td>ronjon2018</td>\n",
       "      <td>NaN</td>\n",
       "      <td>1630424907</td>\n",
       "      <td>Since I got my Z Fold3 (from Note20 Ultra) I decided to start using One UI cuz Nova doesn't rlly...</td>\n",
       "      <td>samsung</td>\n",
       "      <td>Play store icons in One UI!</td>\n",
       "    </tr>\n",
       "  </tbody>\n",
       "</table>\n",
       "</div>"
      ],
      "text/plain": [
       "                  author author_flair_css_class  created_utc  \\\n",
       "270   justarandomaccname                    NaN   1634372088   \n",
       "525          yashwanthms                    NaN   1633453689   \n",
       "1160           AussieP1E                    NaN   1631482362   \n",
       "1271               kb389                   Fold   1631130738   \n",
       "1459          ronjon2018                    NaN   1630424907   \n",
       "\n",
       "                                                                                                 selftext  \\\n",
       "270   So today I went to the Samsung US site to check if there were any new offers for the Galaxy Tab ...   \n",
       "525   I'm not able to change any notification settings for WhatsApp messages, since they're not being ...   \n",
       "1160  Anyone else's Galaxy watch 4 shedding on the watch band?\\nSeems like the coating on top is comin...   \n",
       "1271  How do i turn it off?\\n\\nhttp://imgur.com/gallery/kg2aHhu\\n\\nVery annoying, I somehow enabled it...   \n",
       "1459  Since I got my Z Fold3 (from Note20 Ultra) I decided to start using One UI cuz Nova doesn't rlly...   \n",
       "\n",
       "     subreddit  \\\n",
       "270    samsung   \n",
       "525    samsung   \n",
       "1160   samsung   \n",
       "1271   samsung   \n",
       "1459   samsung   \n",
       "\n",
       "                                                                                       title  \n",
       "270                                                          Samsung Galaxy Unpacked Part 2?  \n",
       "525   Whatsapp message notifications being categorised as \"Silent Notifications\" by default.  \n",
       "1160                                                            Galaxy Watch4 band shedding?  \n",
       "1271                                                             Game booster priority mode?  \n",
       "1459                                                             Play store icons in One UI!  "
      ]
     },
     "execution_count": 74,
     "metadata": {},
     "output_type": "execute_result"
    }
   ],
   "source": [
    "ss[ss['selftext'].str.contains('http://', regex=False)].head()"
   ]
  },
  {
   "cell_type": "code",
   "execution_count": 75,
   "id": "84874798",
   "metadata": {},
   "outputs": [
    {
     "data": {
      "text/html": [
       "<div>\n",
       "<style scoped>\n",
       "    .dataframe tbody tr th:only-of-type {\n",
       "        vertical-align: middle;\n",
       "    }\n",
       "\n",
       "    .dataframe tbody tr th {\n",
       "        vertical-align: top;\n",
       "    }\n",
       "\n",
       "    .dataframe thead th {\n",
       "        text-align: right;\n",
       "    }\n",
       "</style>\n",
       "<table border=\"1\" class=\"dataframe\">\n",
       "  <thead>\n",
       "    <tr style=\"text-align: right;\">\n",
       "      <th></th>\n",
       "      <th>author</th>\n",
       "      <th>author_flair_css_class</th>\n",
       "      <th>created_utc</th>\n",
       "      <th>selftext</th>\n",
       "      <th>subreddit</th>\n",
       "      <th>title</th>\n",
       "    </tr>\n",
       "  </thead>\n",
       "  <tbody>\n",
       "    <tr>\n",
       "      <th>8</th>\n",
       "      <td>Shadeslayur</td>\n",
       "      <td>custom</td>\n",
       "      <td>1635281486</td>\n",
       "      <td>I've had a S21 Ultra since launch. I've tried a number of screen protectors for this device, not...</td>\n",
       "      <td>samsung</td>\n",
       "      <td>The Whitestone Dome screen protector for the S21 Ultra is hands down the best option for the dev...</td>\n",
       "    </tr>\n",
       "    <tr>\n",
       "      <th>9</th>\n",
       "      <td>Jackasaurusrex31</td>\n",
       "      <td>NaN</td>\n",
       "      <td>1635281353</td>\n",
       "      <td>I've had a S21 Ultra since launch. I've tried a number of screen protectors for this device, not...</td>\n",
       "      <td>samsung</td>\n",
       "      <td>The Whitestone Dome Glass screen protector for the Galaxy S21 Ultra is hands down the best scree...</td>\n",
       "    </tr>\n",
       "    <tr>\n",
       "      <th>53</th>\n",
       "      <td>Trimm0311</td>\n",
       "      <td>NaN</td>\n",
       "      <td>1635181806</td>\n",
       "      <td>Is better Iphone 8 plus or Samsung S10e or other phone 200-250€ also refurbished. I need more fo...</td>\n",
       "      <td>samsung</td>\n",
       "      <td>which better</td>\n",
       "    </tr>\n",
       "    <tr>\n",
       "      <th>81</th>\n",
       "      <td>syresynth</td>\n",
       "      <td>custom</td>\n",
       "      <td>1635085526</td>\n",
       "      <td>My previous [post](https://www.reddit.com/r/GalaxyFold/comments/qemr52/lcd_very_bright_glitching...</td>\n",
       "      <td>samsung</td>\n",
       "      <td>Screen of Z fold 2 very bright glitching (in video) initially . 1 year and 2 weeks of ownership....</td>\n",
       "    </tr>\n",
       "    <tr>\n",
       "      <th>88</th>\n",
       "      <td>UMZ747</td>\n",
       "      <td>NaN</td>\n",
       "      <td>1635062130</td>\n",
       "      <td>I have heard about a lot of issues about s20 series regarding camera and screen reliability. Wha...</td>\n",
       "      <td>samsung</td>\n",
       "      <td>S10 plus used or S20/20+ used?</td>\n",
       "    </tr>\n",
       "  </tbody>\n",
       "</table>\n",
       "</div>"
      ],
      "text/plain": [
       "              author author_flair_css_class  created_utc  \\\n",
       "8        Shadeslayur                 custom   1635281486   \n",
       "9   Jackasaurusrex31                    NaN   1635281353   \n",
       "53         Trimm0311                    NaN   1635181806   \n",
       "81         syresynth                 custom   1635085526   \n",
       "88            UMZ747                    NaN   1635062130   \n",
       "\n",
       "                                                                                               selftext  \\\n",
       "8   I've had a S21 Ultra since launch. I've tried a number of screen protectors for this device, not...   \n",
       "9   I've had a S21 Ultra since launch. I've tried a number of screen protectors for this device, not...   \n",
       "53  Is better Iphone 8 plus or Samsung S10e or other phone 200-250€ also refurbished. I need more fo...   \n",
       "81  My previous [post](https://www.reddit.com/r/GalaxyFold/comments/qemr52/lcd_very_bright_glitching...   \n",
       "88  I have heard about a lot of issues about s20 series regarding camera and screen reliability. Wha...   \n",
       "\n",
       "   subreddit  \\\n",
       "8    samsung   \n",
       "9    samsung   \n",
       "53   samsung   \n",
       "81   samsung   \n",
       "88   samsung   \n",
       "\n",
       "                                                                                                  title  \n",
       "8   The Whitestone Dome screen protector for the S21 Ultra is hands down the best option for the dev...  \n",
       "9   The Whitestone Dome Glass screen protector for the Galaxy S21 Ultra is hands down the best scree...  \n",
       "53                                                                                         which better  \n",
       "81  Screen of Z fold 2 very bright glitching (in video) initially . 1 year and 2 weeks of ownership....  \n",
       "88                                                                       S10 plus used or S20/20+ used?  "
      ]
     },
     "execution_count": 75,
     "metadata": {},
     "output_type": "execute_result"
    }
   ],
   "source": [
    "ss[ss['selftext'].str.contains('www.', regex=False)].head()"
   ]
  },
  {
   "cell_type": "markdown",
   "id": "c120f5e9",
   "metadata": {},
   "source": [
    "Links in the title and selftext will be removed using the following code:"
   ]
  },
  {
   "cell_type": "code",
   "execution_count": 76,
   "id": "6820c2be",
   "metadata": {},
   "outputs": [],
   "source": [
    "# Using a Regex expression to match a string with the following format: \n",
    "# www.example(rest of link) (or starting with http or https). Case insensitive. \n",
    "# Replaces the string with a space. Does not target links not starting with http or www.  \n",
    "ss['selftext'] = ss['selftext'].str.replace(r'(http|www[.])[\\S]*', \n",
    "                                            ' ', \n",
    "                                            regex=True, \n",
    "                                            case=False)\n",
    "ss['title'] = ss['title'].str.replace(r'(http|www[.])[\\S]*', \n",
    "                                      ' ', \n",
    "                                      regex=True, \n",
    "                                      case=False)\n",
    "\n",
    "# Using a Regex expression to match a string with the following format:\n",
    "# example.com (or ending with .net or .org). Case insensitive. \n",
    "# Replaces the string with a space. Only targets these 3 common domain names. \n",
    "ss['selftext'] = ss['selftext'].str.replace(r'(\\S(?=.*(\\.com|\\.net|\\.org))\\S*)', \n",
    "                                            ' ', \n",
    "                                            regex=True, \n",
    "                                            case=False)\n",
    "ss['title'] = ss['title'].str.replace(r'(\\S(?=.*(\\.com|\\.net|\\.org))\\S*)', \n",
    "                                      ' ', \n",
    "                                      regex=True, \n",
    "                                      case=False)"
   ]
  },
  {
   "cell_type": "markdown",
   "id": "00759ede",
   "metadata": {},
   "source": [
    "The links have been removed:"
   ]
  },
  {
   "cell_type": "code",
   "execution_count": 77,
   "id": "8dea0128",
   "metadata": {},
   "outputs": [
    {
     "data": {
      "text/html": [
       "<div>\n",
       "<style scoped>\n",
       "    .dataframe tbody tr th:only-of-type {\n",
       "        vertical-align: middle;\n",
       "    }\n",
       "\n",
       "    .dataframe tbody tr th {\n",
       "        vertical-align: top;\n",
       "    }\n",
       "\n",
       "    .dataframe thead th {\n",
       "        text-align: right;\n",
       "    }\n",
       "</style>\n",
       "<table border=\"1\" class=\"dataframe\">\n",
       "  <thead>\n",
       "    <tr style=\"text-align: right;\">\n",
       "      <th></th>\n",
       "      <th>author</th>\n",
       "      <th>author_flair_css_class</th>\n",
       "      <th>created_utc</th>\n",
       "      <th>selftext</th>\n",
       "      <th>subreddit</th>\n",
       "      <th>title</th>\n",
       "    </tr>\n",
       "  </thead>\n",
       "  <tbody>\n",
       "  </tbody>\n",
       "</table>\n",
       "</div>"
      ],
      "text/plain": [
       "Empty DataFrame\n",
       "Columns: [author, author_flair_css_class, created_utc, selftext, subreddit, title]\n",
       "Index: []"
      ]
     },
     "execution_count": 77,
     "metadata": {},
     "output_type": "execute_result"
    }
   ],
   "source": [
    "ss[ss['selftext'].str.contains('http://', regex=False)].head()"
   ]
  },
  {
   "cell_type": "code",
   "execution_count": 78,
   "id": "82713f54",
   "metadata": {},
   "outputs": [
    {
     "data": {
      "text/html": [
       "<div>\n",
       "<style scoped>\n",
       "    .dataframe tbody tr th:only-of-type {\n",
       "        vertical-align: middle;\n",
       "    }\n",
       "\n",
       "    .dataframe tbody tr th {\n",
       "        vertical-align: top;\n",
       "    }\n",
       "\n",
       "    .dataframe thead th {\n",
       "        text-align: right;\n",
       "    }\n",
       "</style>\n",
       "<table border=\"1\" class=\"dataframe\">\n",
       "  <thead>\n",
       "    <tr style=\"text-align: right;\">\n",
       "      <th></th>\n",
       "      <th>author</th>\n",
       "      <th>author_flair_css_class</th>\n",
       "      <th>created_utc</th>\n",
       "      <th>selftext</th>\n",
       "      <th>subreddit</th>\n",
       "      <th>title</th>\n",
       "    </tr>\n",
       "  </thead>\n",
       "  <tbody>\n",
       "  </tbody>\n",
       "</table>\n",
       "</div>"
      ],
      "text/plain": [
       "Empty DataFrame\n",
       "Columns: [author, author_flair_css_class, created_utc, selftext, subreddit, title]\n",
       "Index: []"
      ]
     },
     "execution_count": 78,
     "metadata": {},
     "output_type": "execute_result"
    }
   ],
   "source": [
    "ss[ss['selftext'].str.contains('www.', regex=False)].head()"
   ]
  },
  {
   "cell_type": "markdown",
   "id": "81f158a0",
   "metadata": {},
   "source": [
    "### Removing new line character\n",
    "\n",
    "Some new line characters were spotted:"
   ]
  },
  {
   "cell_type": "code",
   "execution_count": 79,
   "id": "d1c4c468",
   "metadata": {},
   "outputs": [
    {
     "data": {
      "text/html": [
       "<div>\n",
       "<style scoped>\n",
       "    .dataframe tbody tr th:only-of-type {\n",
       "        vertical-align: middle;\n",
       "    }\n",
       "\n",
       "    .dataframe tbody tr th {\n",
       "        vertical-align: top;\n",
       "    }\n",
       "\n",
       "    .dataframe thead th {\n",
       "        text-align: right;\n",
       "    }\n",
       "</style>\n",
       "<table border=\"1\" class=\"dataframe\">\n",
       "  <thead>\n",
       "    <tr style=\"text-align: right;\">\n",
       "      <th></th>\n",
       "      <th>author</th>\n",
       "      <th>author_flair_css_class</th>\n",
       "      <th>created_utc</th>\n",
       "      <th>selftext</th>\n",
       "      <th>subreddit</th>\n",
       "      <th>title</th>\n",
       "    </tr>\n",
       "  </thead>\n",
       "  <tbody>\n",
       "    <tr>\n",
       "      <th>1</th>\n",
       "      <td>Gold_Enigma</td>\n",
       "      <td>NaN</td>\n",
       "      <td>1635289011</td>\n",
       "      <td>I bought a pair of galaxy buds+ a little under a year ago in the US and thought they worked very...</td>\n",
       "      <td>samsung</td>\n",
       "      <td>Samsung is really pissing me off today?</td>\n",
       "    </tr>\n",
       "    <tr>\n",
       "      <th>2</th>\n",
       "      <td>noobmistermuffin</td>\n",
       "      <td>NaN</td>\n",
       "      <td>1635287113</td>\n",
       "      <td>I work in a phone repair store I don't speak for the brand or any company I speak with what I've...</td>\n",
       "      <td>samsung</td>\n",
       "      <td>DONT UPDATE YOUR A21 PHONE</td>\n",
       "    </tr>\n",
       "    <tr>\n",
       "      <th>4</th>\n",
       "      <td>Jorycle</td>\n",
       "      <td>NaN</td>\n",
       "      <td>1635285986</td>\n",
       "      <td>Rant mode.\\n\\nSo we bought some appliances like 6 months back. It took them so long to come in s...</td>\n",
       "      <td>samsung</td>\n",
       "      <td>Samsung delivery policies: Stupid, or the stupidest?</td>\n",
       "    </tr>\n",
       "    <tr>\n",
       "      <th>7</th>\n",
       "      <td>ryang4415</td>\n",
       "      <td>NaN</td>\n",
       "      <td>1635283668</td>\n",
       "      <td>AT&amp;amp;T has a promotion right now where if you buy the Z Flip3 on an installment, you get the b...</td>\n",
       "      <td>samsung</td>\n",
       "      <td>Is the Z Flip3 worth it? If you have one, do you regret it?</td>\n",
       "    </tr>\n",
       "    <tr>\n",
       "      <th>8</th>\n",
       "      <td>Shadeslayur</td>\n",
       "      <td>custom</td>\n",
       "      <td>1635281486</td>\n",
       "      <td>I've had a S21 Ultra since launch. I've tried a number of screen protectors for this device, not...</td>\n",
       "      <td>samsung</td>\n",
       "      <td>The Whitestone Dome screen protector for the S21 Ultra is hands down the best option for the dev...</td>\n",
       "    </tr>\n",
       "  </tbody>\n",
       "</table>\n",
       "</div>"
      ],
      "text/plain": [
       "             author author_flair_css_class  created_utc  \\\n",
       "1       Gold_Enigma                    NaN   1635289011   \n",
       "2  noobmistermuffin                    NaN   1635287113   \n",
       "4           Jorycle                    NaN   1635285986   \n",
       "7         ryang4415                    NaN   1635283668   \n",
       "8       Shadeslayur                 custom   1635281486   \n",
       "\n",
       "                                                                                              selftext  \\\n",
       "1  I bought a pair of galaxy buds+ a little under a year ago in the US and thought they worked very...   \n",
       "2  I work in a phone repair store I don't speak for the brand or any company I speak with what I've...   \n",
       "4  Rant mode.\\n\\nSo we bought some appliances like 6 months back. It took them so long to come in s...   \n",
       "7  AT&amp;T has a promotion right now where if you buy the Z Flip3 on an installment, you get the b...   \n",
       "8  I've had a S21 Ultra since launch. I've tried a number of screen protectors for this device, not...   \n",
       "\n",
       "  subreddit  \\\n",
       "1   samsung   \n",
       "2   samsung   \n",
       "4   samsung   \n",
       "7   samsung   \n",
       "8   samsung   \n",
       "\n",
       "                                                                                                 title  \n",
       "1                                                              Samsung is really pissing me off today?  \n",
       "2                                                                           DONT UPDATE YOUR A21 PHONE  \n",
       "4                                                 Samsung delivery policies: Stupid, or the stupidest?  \n",
       "7                                          Is the Z Flip3 worth it? If you have one, do you regret it?  \n",
       "8  The Whitestone Dome screen protector for the S21 Ultra is hands down the best option for the dev...  "
      ]
     },
     "execution_count": 79,
     "metadata": {},
     "output_type": "execute_result"
    }
   ],
   "source": [
    "ss[ss['selftext'].str.contains('\\n', regex=False)].head()"
   ]
  },
  {
   "cell_type": "markdown",
   "id": "96491576",
   "metadata": {},
   "source": [
    "They will be removed from the `title` and `selftext` and replaced with spaces:"
   ]
  },
  {
   "cell_type": "code",
   "execution_count": 80,
   "id": "80aa2d8e",
   "metadata": {},
   "outputs": [],
   "source": [
    "ss['selftext'] = ss['selftext'].str.replace('\\n', ' ', regex=False)\n",
    "ss['title'] = ss['title'].str.replace('\\n', ' ', regex=False)"
   ]
  },
  {
   "cell_type": "markdown",
   "id": "46457a8b",
   "metadata": {},
   "source": [
    "The characters have been removed."
   ]
  },
  {
   "cell_type": "code",
   "execution_count": 81,
   "id": "64ab7f27",
   "metadata": {},
   "outputs": [
    {
     "data": {
      "text/html": [
       "<div>\n",
       "<style scoped>\n",
       "    .dataframe tbody tr th:only-of-type {\n",
       "        vertical-align: middle;\n",
       "    }\n",
       "\n",
       "    .dataframe tbody tr th {\n",
       "        vertical-align: top;\n",
       "    }\n",
       "\n",
       "    .dataframe thead th {\n",
       "        text-align: right;\n",
       "    }\n",
       "</style>\n",
       "<table border=\"1\" class=\"dataframe\">\n",
       "  <thead>\n",
       "    <tr style=\"text-align: right;\">\n",
       "      <th></th>\n",
       "      <th>author</th>\n",
       "      <th>author_flair_css_class</th>\n",
       "      <th>created_utc</th>\n",
       "      <th>selftext</th>\n",
       "      <th>subreddit</th>\n",
       "      <th>title</th>\n",
       "    </tr>\n",
       "  </thead>\n",
       "  <tbody>\n",
       "  </tbody>\n",
       "</table>\n",
       "</div>"
      ],
      "text/plain": [
       "Empty DataFrame\n",
       "Columns: [author, author_flair_css_class, created_utc, selftext, subreddit, title]\n",
       "Index: []"
      ]
     },
     "execution_count": 81,
     "metadata": {},
     "output_type": "execute_result"
    }
   ],
   "source": [
    "ss[ss['selftext'].str.contains('\\n', regex=False)].head()"
   ]
  },
  {
   "cell_type": "code",
   "execution_count": 82,
   "id": "acda8bd1",
   "metadata": {},
   "outputs": [
    {
     "data": {
      "text/html": [
       "<div>\n",
       "<style scoped>\n",
       "    .dataframe tbody tr th:only-of-type {\n",
       "        vertical-align: middle;\n",
       "    }\n",
       "\n",
       "    .dataframe tbody tr th {\n",
       "        vertical-align: top;\n",
       "    }\n",
       "\n",
       "    .dataframe thead th {\n",
       "        text-align: right;\n",
       "    }\n",
       "</style>\n",
       "<table border=\"1\" class=\"dataframe\">\n",
       "  <thead>\n",
       "    <tr style=\"text-align: right;\">\n",
       "      <th></th>\n",
       "      <th>author</th>\n",
       "      <th>author_flair_css_class</th>\n",
       "      <th>created_utc</th>\n",
       "      <th>selftext</th>\n",
       "      <th>subreddit</th>\n",
       "      <th>title</th>\n",
       "    </tr>\n",
       "  </thead>\n",
       "  <tbody>\n",
       "  </tbody>\n",
       "</table>\n",
       "</div>"
      ],
      "text/plain": [
       "Empty DataFrame\n",
       "Columns: [author, author_flair_css_class, created_utc, selftext, subreddit, title]\n",
       "Index: []"
      ]
     },
     "execution_count": 82,
     "metadata": {},
     "output_type": "execute_result"
    }
   ],
   "source": [
    "ss[ss['title'].str.contains('\\n', regex=False)].head()"
   ]
  },
  {
   "cell_type": "markdown",
   "id": "206f8abf",
   "metadata": {},
   "source": [
    "### Removing '[View Poll]('\n",
    "\n",
    "Some instances of '[View Poll](' were spotted:"
   ]
  },
  {
   "cell_type": "code",
   "execution_count": 83,
   "id": "f324b627",
   "metadata": {},
   "outputs": [
    {
     "data": {
      "text/html": [
       "<div>\n",
       "<style scoped>\n",
       "    .dataframe tbody tr th:only-of-type {\n",
       "        vertical-align: middle;\n",
       "    }\n",
       "\n",
       "    .dataframe tbody tr th {\n",
       "        vertical-align: top;\n",
       "    }\n",
       "\n",
       "    .dataframe thead th {\n",
       "        text-align: right;\n",
       "    }\n",
       "</style>\n",
       "<table border=\"1\" class=\"dataframe\">\n",
       "  <thead>\n",
       "    <tr style=\"text-align: right;\">\n",
       "      <th></th>\n",
       "      <th>author</th>\n",
       "      <th>author_flair_css_class</th>\n",
       "      <th>created_utc</th>\n",
       "      <th>selftext</th>\n",
       "      <th>subreddit</th>\n",
       "      <th>title</th>\n",
       "    </tr>\n",
       "  </thead>\n",
       "  <tbody>\n",
       "    <tr>\n",
       "      <th>53</th>\n",
       "      <td>Trimm0311</td>\n",
       "      <td>NaN</td>\n",
       "      <td>1635181806</td>\n",
       "      <td>Is better Iphone 8 plus or Samsung S10e or other phone 200-250€ also refurbished. I need more fo...</td>\n",
       "      <td>samsung</td>\n",
       "      <td>which better</td>\n",
       "    </tr>\n",
       "    <tr>\n",
       "      <th>88</th>\n",
       "      <td>UMZ747</td>\n",
       "      <td>NaN</td>\n",
       "      <td>1635062130</td>\n",
       "      <td>I have heard about a lot of issues about s20 series regarding camera and screen reliability. Wha...</td>\n",
       "      <td>samsung</td>\n",
       "      <td>S10 plus used or S20/20+ used?</td>\n",
       "    </tr>\n",
       "    <tr>\n",
       "      <th>164</th>\n",
       "      <td>ScholarImaginary9280</td>\n",
       "      <td>NaN</td>\n",
       "      <td>1634788541</td>\n",
       "      <td>Should I upgrade to Samsung Galaxy zflip 5G or wait for samsung 2022 flagship phones? I have a s...</td>\n",
       "      <td>samsung</td>\n",
       "      <td>Zflip 3 5G or 2022 samsung 2022 flagship phones.</td>\n",
       "    </tr>\n",
       "    <tr>\n",
       "      <th>224</th>\n",
       "      <td>Sovereign108</td>\n",
       "      <td>NaN</td>\n",
       "      <td>1634560762</td>\n",
       "      <td>Just curious what the trend is :) also needing to decide somewhat soon. Jus comparing two manufa...</td>\n",
       "      <td>samsung</td>\n",
       "      <td>Where is the hype trend? Galaxy S22 or Pixel 6</td>\n",
       "    </tr>\n",
       "    <tr>\n",
       "      <th>241</th>\n",
       "      <td>GamerBeast954</td>\n",
       "      <td>s21 series</td>\n",
       "      <td>1634467949</td>\n",
       "      <td>Was it a good upgrade or you wished you didn’t upgrade?  [View Poll](</td>\n",
       "      <td>samsung</td>\n",
       "      <td>Which Samsung phone did you purchased this year?</td>\n",
       "    </tr>\n",
       "  </tbody>\n",
       "</table>\n",
       "</div>"
      ],
      "text/plain": [
       "                   author author_flair_css_class  created_utc  \\\n",
       "53              Trimm0311                    NaN   1635181806   \n",
       "88                 UMZ747                    NaN   1635062130   \n",
       "164  ScholarImaginary9280                    NaN   1634788541   \n",
       "224          Sovereign108                    NaN   1634560762   \n",
       "241         GamerBeast954             s21 series   1634467949   \n",
       "\n",
       "                                                                                                selftext  \\\n",
       "53   Is better Iphone 8 plus or Samsung S10e or other phone 200-250€ also refurbished. I need more fo...   \n",
       "88   I have heard about a lot of issues about s20 series regarding camera and screen reliability. Wha...   \n",
       "164  Should I upgrade to Samsung Galaxy zflip 5G or wait for samsung 2022 flagship phones? I have a s...   \n",
       "224  Just curious what the trend is :) also needing to decide somewhat soon. Jus comparing two manufa...   \n",
       "241                               Was it a good upgrade or you wished you didn’t upgrade?  [View Poll](    \n",
       "\n",
       "    subreddit                                             title  \n",
       "53    samsung                                      which better  \n",
       "88    samsung                    S10 plus used or S20/20+ used?  \n",
       "164   samsung  Zflip 3 5G or 2022 samsung 2022 flagship phones.  \n",
       "224   samsung    Where is the hype trend? Galaxy S22 or Pixel 6  \n",
       "241   samsung  Which Samsung phone did you purchased this year?  "
      ]
     },
     "execution_count": 83,
     "metadata": {},
     "output_type": "execute_result"
    }
   ],
   "source": [
    "ss[ss['selftext'].str.contains('[View Poll](', regex=False)].head()"
   ]
  },
  {
   "cell_type": "markdown",
   "id": "6a65244c",
   "metadata": {},
   "source": [
    "They will be removed from the `title` and `selftext` and replaced with spaces:"
   ]
  },
  {
   "cell_type": "code",
   "execution_count": 84,
   "id": "3dc73a54",
   "metadata": {},
   "outputs": [],
   "source": [
    "ss['selftext'] = ss['selftext'].str.replace('[View Poll](', ' ', regex=False)\n",
    "ss['title'] = ss['title'].str.replace('[View Poll](', ' ', regex=False)"
   ]
  },
  {
   "cell_type": "markdown",
   "id": "bb8cea03",
   "metadata": {},
   "source": [
    "The characters have been removed."
   ]
  },
  {
   "cell_type": "code",
   "execution_count": 85,
   "id": "888e7196",
   "metadata": {},
   "outputs": [
    {
     "data": {
      "text/html": [
       "<div>\n",
       "<style scoped>\n",
       "    .dataframe tbody tr th:only-of-type {\n",
       "        vertical-align: middle;\n",
       "    }\n",
       "\n",
       "    .dataframe tbody tr th {\n",
       "        vertical-align: top;\n",
       "    }\n",
       "\n",
       "    .dataframe thead th {\n",
       "        text-align: right;\n",
       "    }\n",
       "</style>\n",
       "<table border=\"1\" class=\"dataframe\">\n",
       "  <thead>\n",
       "    <tr style=\"text-align: right;\">\n",
       "      <th></th>\n",
       "      <th>author</th>\n",
       "      <th>author_flair_css_class</th>\n",
       "      <th>created_utc</th>\n",
       "      <th>selftext</th>\n",
       "      <th>subreddit</th>\n",
       "      <th>title</th>\n",
       "    </tr>\n",
       "  </thead>\n",
       "  <tbody>\n",
       "  </tbody>\n",
       "</table>\n",
       "</div>"
      ],
      "text/plain": [
       "Empty DataFrame\n",
       "Columns: [author, author_flair_css_class, created_utc, selftext, subreddit, title]\n",
       "Index: []"
      ]
     },
     "execution_count": 85,
     "metadata": {},
     "output_type": "execute_result"
    }
   ],
   "source": [
    "ss[ss['selftext'].str.contains('[View Poll](', regex=False)].head()"
   ]
  },
  {
   "cell_type": "code",
   "execution_count": 86,
   "id": "34c4d04f",
   "metadata": {},
   "outputs": [
    {
     "data": {
      "text/html": [
       "<div>\n",
       "<style scoped>\n",
       "    .dataframe tbody tr th:only-of-type {\n",
       "        vertical-align: middle;\n",
       "    }\n",
       "\n",
       "    .dataframe tbody tr th {\n",
       "        vertical-align: top;\n",
       "    }\n",
       "\n",
       "    .dataframe thead th {\n",
       "        text-align: right;\n",
       "    }\n",
       "</style>\n",
       "<table border=\"1\" class=\"dataframe\">\n",
       "  <thead>\n",
       "    <tr style=\"text-align: right;\">\n",
       "      <th></th>\n",
       "      <th>author</th>\n",
       "      <th>author_flair_css_class</th>\n",
       "      <th>created_utc</th>\n",
       "      <th>selftext</th>\n",
       "      <th>subreddit</th>\n",
       "      <th>title</th>\n",
       "    </tr>\n",
       "  </thead>\n",
       "  <tbody>\n",
       "  </tbody>\n",
       "</table>\n",
       "</div>"
      ],
      "text/plain": [
       "Empty DataFrame\n",
       "Columns: [author, author_flair_css_class, created_utc, selftext, subreddit, title]\n",
       "Index: []"
      ]
     },
     "execution_count": 86,
     "metadata": {},
     "output_type": "execute_result"
    }
   ],
   "source": [
    "ss[ss['title'].str.contains('[View Poll](', regex=False)].head()"
   ]
  },
  {
   "cell_type": "markdown",
   "id": "b8248544",
   "metadata": {},
   "source": [
    "### Removing duplicates between `selftext` and `title` \n",
    "\n",
    "Some rows have the same `selftext` and `title`."
   ]
  },
  {
   "cell_type": "code",
   "execution_count": 87,
   "id": "14718a37",
   "metadata": {
    "scrolled": false
   },
   "outputs": [
    {
     "data": {
      "text/plain": [
       "30"
      ]
     },
     "execution_count": 87,
     "metadata": {},
     "output_type": "execute_result"
    }
   ],
   "source": [
    "len(ss[ss['selftext'] == ss['title']])"
   ]
  },
  {
   "cell_type": "markdown",
   "id": "862924af",
   "metadata": {},
   "source": [
    "The `selftext` will be removed in those cases."
   ]
  },
  {
   "cell_type": "code",
   "execution_count": 88,
   "id": "0f1bde53",
   "metadata": {
    "scrolled": true
   },
   "outputs": [],
   "source": [
    "ss.loc[(ss['selftext'] == ss['title']), 'selftext'] = ''"
   ]
  },
  {
   "cell_type": "markdown",
   "id": "56ebbf8f",
   "metadata": {},
   "source": [
    "There are no more rows with the same `selftext` and `title`."
   ]
  },
  {
   "cell_type": "code",
   "execution_count": 89,
   "id": "09931fbf",
   "metadata": {},
   "outputs": [
    {
     "data": {
      "text/plain": [
       "0"
      ]
     },
     "execution_count": 89,
     "metadata": {},
     "output_type": "execute_result"
    }
   ],
   "source": [
    "len(ss[ss['selftext'] == ss['title']])"
   ]
  },
  {
   "cell_type": "markdown",
   "id": "4162d07e",
   "metadata": {},
   "source": [
    "### Dropping the `author_flair_css_class` column \n",
    "\n",
    "We do not need the `author_flair_css_class` column any more. Thus, we will drop it. "
   ]
  },
  {
   "cell_type": "code",
   "execution_count": 90,
   "id": "43b9ed39",
   "metadata": {},
   "outputs": [],
   "source": [
    "ss.drop(columns=['author_flair_css_class'], inplace=True)"
   ]
  },
  {
   "cell_type": "markdown",
   "id": "63a20f4e",
   "metadata": {},
   "source": [
    "The column has been dropped. "
   ]
  },
  {
   "cell_type": "code",
   "execution_count": 91,
   "id": "095b2485",
   "metadata": {},
   "outputs": [
    {
     "data": {
      "text/html": [
       "<div>\n",
       "<style scoped>\n",
       "    .dataframe tbody tr th:only-of-type {\n",
       "        vertical-align: middle;\n",
       "    }\n",
       "\n",
       "    .dataframe tbody tr th {\n",
       "        vertical-align: top;\n",
       "    }\n",
       "\n",
       "    .dataframe thead th {\n",
       "        text-align: right;\n",
       "    }\n",
       "</style>\n",
       "<table border=\"1\" class=\"dataframe\">\n",
       "  <thead>\n",
       "    <tr style=\"text-align: right;\">\n",
       "      <th></th>\n",
       "      <th>author</th>\n",
       "      <th>created_utc</th>\n",
       "      <th>selftext</th>\n",
       "      <th>subreddit</th>\n",
       "      <th>title</th>\n",
       "    </tr>\n",
       "  </thead>\n",
       "  <tbody>\n",
       "    <tr>\n",
       "      <th>0</th>\n",
       "      <td>llThat1Guyll</td>\n",
       "      <td>1635291756</td>\n",
       "      <td>I think it mightve Changed with the latest update. I swear it looks like longer or something. It...</td>\n",
       "      <td>samsung</td>\n",
       "      <td>Did the Devil emojii change for Android? At least Samsung, because I swear it Does, but I can't ...</td>\n",
       "    </tr>\n",
       "  </tbody>\n",
       "</table>\n",
       "</div>"
      ],
      "text/plain": [
       "         author  created_utc  \\\n",
       "0  llThat1Guyll   1635291756   \n",
       "\n",
       "                                                                                              selftext  \\\n",
       "0  I think it mightve Changed with the latest update. I swear it looks like longer or something. It...   \n",
       "\n",
       "  subreddit  \\\n",
       "0   samsung   \n",
       "\n",
       "                                                                                                 title  \n",
       "0  Did the Devil emojii change for Android? At least Samsung, because I swear it Does, but I can't ...  "
      ]
     },
     "execution_count": 91,
     "metadata": {},
     "output_type": "execute_result"
    }
   ],
   "source": [
    "ss.head(1)"
   ]
  },
  {
   "cell_type": "markdown",
   "id": "82c46b67",
   "metadata": {},
   "source": [
    "### Previewing the results"
   ]
  },
  {
   "cell_type": "code",
   "execution_count": 92,
   "id": "989e55d9",
   "metadata": {
    "scrolled": true
   },
   "outputs": [
    {
     "data": {
      "text/html": [
       "<div>\n",
       "<style scoped>\n",
       "    .dataframe tbody tr th:only-of-type {\n",
       "        vertical-align: middle;\n",
       "    }\n",
       "\n",
       "    .dataframe tbody tr th {\n",
       "        vertical-align: top;\n",
       "    }\n",
       "\n",
       "    .dataframe thead th {\n",
       "        text-align: right;\n",
       "    }\n",
       "</style>\n",
       "<table border=\"1\" class=\"dataframe\">\n",
       "  <thead>\n",
       "    <tr style=\"text-align: right;\">\n",
       "      <th></th>\n",
       "      <th>author</th>\n",
       "      <th>created_utc</th>\n",
       "      <th>selftext</th>\n",
       "      <th>subreddit</th>\n",
       "      <th>title</th>\n",
       "    </tr>\n",
       "  </thead>\n",
       "  <tbody>\n",
       "    <tr>\n",
       "      <th>0</th>\n",
       "      <td>llThat1Guyll</td>\n",
       "      <td>1635291756</td>\n",
       "      <td>I think it mightve Changed with the latest update. I swear it looks like longer or something. It...</td>\n",
       "      <td>samsung</td>\n",
       "      <td>Did the Devil emojii change for Android? At least Samsung, because I swear it Does, but I can't ...</td>\n",
       "    </tr>\n",
       "    <tr>\n",
       "      <th>1</th>\n",
       "      <td>Gold_Enigma</td>\n",
       "      <td>1635289011</td>\n",
       "      <td>I bought a pair of galaxy buds+ a little under a year ago in the US and thought they worked very...</td>\n",
       "      <td>samsung</td>\n",
       "      <td>Samsung is really pissing me off today?</td>\n",
       "    </tr>\n",
       "    <tr>\n",
       "      <th>2</th>\n",
       "      <td>noobmistermuffin</td>\n",
       "      <td>1635287113</td>\n",
       "      <td>I work in a phone repair store I don't speak for the brand or any company I speak with what I've...</td>\n",
       "      <td>samsung</td>\n",
       "      <td>DONT UPDATE YOUR A21 PHONE</td>\n",
       "    </tr>\n",
       "    <tr>\n",
       "      <th>4</th>\n",
       "      <td>Jorycle</td>\n",
       "      <td>1635285986</td>\n",
       "      <td>Rant mode.  So we bought some appliances like 6 months back. It took them so long to come in sto...</td>\n",
       "      <td>samsung</td>\n",
       "      <td>Samsung delivery policies: Stupid, or the stupidest?</td>\n",
       "    </tr>\n",
       "    <tr>\n",
       "      <th>6</th>\n",
       "      <td>ryang4415</td>\n",
       "      <td>1635284195</td>\n",
       "      <td>I can probably upgrade to a better Samsung up to $1000 for free. What should I get? It's been a ...</td>\n",
       "      <td>samsung</td>\n",
       "      <td>What phone should I upgrade to?</td>\n",
       "    </tr>\n",
       "    <tr>\n",
       "      <th>7</th>\n",
       "      <td>ryang4415</td>\n",
       "      <td>1635283668</td>\n",
       "      <td>AT&amp;amp;T has a promotion right now where if you buy the Z Flip3 on an installment, you get the b...</td>\n",
       "      <td>samsung</td>\n",
       "      <td>Is the Z Flip3 worth it? If you have one, do you regret it?</td>\n",
       "    </tr>\n",
       "    <tr>\n",
       "      <th>8</th>\n",
       "      <td>Shadeslayur</td>\n",
       "      <td>1635281486</td>\n",
       "      <td>I've had a S21 Ultra since launch. I've tried a number of screen protectors for this device, not...</td>\n",
       "      <td>samsung</td>\n",
       "      <td>The Whitestone Dome screen protector for the S21 Ultra is hands down the best option for the dev...</td>\n",
       "    </tr>\n",
       "    <tr>\n",
       "      <th>9</th>\n",
       "      <td>Jackasaurusrex31</td>\n",
       "      <td>1635281353</td>\n",
       "      <td>I've had a S21 Ultra since launch. I've tried a number of screen protectors for this device, not...</td>\n",
       "      <td>samsung</td>\n",
       "      <td>The Whitestone Dome Glass screen protector for the Galaxy S21 Ultra is hands down the best scree...</td>\n",
       "    </tr>\n",
       "    <tr>\n",
       "      <th>10</th>\n",
       "      <td>jking1676</td>\n",
       "      <td>1635280239</td>\n",
       "      <td>When using certain apps (Amazon, Teams, Instagram), pretty much anything with messaging capabili...</td>\n",
       "      <td>samsung</td>\n",
       "      <td>S21 keyboard issue</td>\n",
       "    </tr>\n",
       "    <tr>\n",
       "      <th>12</th>\n",
       "      <td>rohitvarma1986</td>\n",
       "      <td>1635276551</td>\n",
       "      <td>Basically the title . Currently the only way to add apps from finder search to home screen is vi...</td>\n",
       "      <td>samsung</td>\n",
       "      <td>Any way to add app directly from drawer search to home screen.</td>\n",
       "    </tr>\n",
       "    <tr>\n",
       "      <th>13</th>\n",
       "      <td>rohitvarma1986</td>\n",
       "      <td>1635275137</td>\n",
       "      <td>So i have the brighten setting enabled on face unlock ( s21 ultra )but it barely brightens the s...</td>\n",
       "      <td>samsung</td>\n",
       "      <td>Increase brightness of face unlock screen using bixby routines.</td>\n",
       "    </tr>\n",
       "    <tr>\n",
       "      <th>14</th>\n",
       "      <td>OldFatMantx</td>\n",
       "      <td>1635271511</td>\n",
       "      <td>I am the ultimate Samnsung Fanboy. I got Galaxy Tab 7FE, Tab 6, Tab S7 lite, Note 10+ and Z fold...</td>\n",
       "      <td>samsung</td>\n",
       "      <td>We all need to complain to Samsung and let our voices be heard for the features we want.</td>\n",
       "    </tr>\n",
       "    <tr>\n",
       "      <th>15</th>\n",
       "      <td>YeetarusRex</td>\n",
       "      <td>1635271106</td>\n",
       "      <td>I want to switch from my Oneplus 7t to a Samsung. I've done my research and Im choosing between ...</td>\n",
       "      <td>samsung</td>\n",
       "      <td>Switching to Samsung</td>\n",
       "    </tr>\n",
       "    <tr>\n",
       "      <th>16</th>\n",
       "      <td>prettyborrring</td>\n",
       "      <td>1635270547</td>\n",
       "      <td>If you can go somewhere else for service, do it. Don't use samsung repair if at all possible. I ...</td>\n",
       "      <td>samsung</td>\n",
       "      <td>Avoid Samsung service at all costs</td>\n",
       "    </tr>\n",
       "    <tr>\n",
       "      <th>18</th>\n",
       "      <td>mikthinker</td>\n",
       "      <td>1635267578</td>\n",
       "      <td>After ordering an S21 for my wife on October 15th with an initial delivery date of October 26th,...</td>\n",
       "      <td>samsung</td>\n",
       "      <td>The LOOONNNGGGG Wait</td>\n",
       "    </tr>\n",
       "    <tr>\n",
       "      <th>19</th>\n",
       "      <td>Annsharlene</td>\n",
       "      <td>1635266401</td>\n",
       "      <td>I would like to know how to access notes from Samsung notes app after moving out from secure fol...</td>\n",
       "      <td>samsung</td>\n",
       "      <td>Samsung notes</td>\n",
       "    </tr>\n",
       "    <tr>\n",
       "      <th>20</th>\n",
       "      <td>Beneficial_Maximum96</td>\n",
       "      <td>1635265578</td>\n",
       "      <td>I saw something about apps from Samsung phones having some kind of connectivity with Windows 11....</td>\n",
       "      <td>samsung</td>\n",
       "      <td>Samsung devices with Windows 11?</td>\n",
       "    </tr>\n",
       "    <tr>\n",
       "      <th>21</th>\n",
       "      <td>OrdinaryAsk1</td>\n",
       "      <td>1635265045</td>\n",
       "      <td>When does the s20 fe get one ui 4.0 android 12?</td>\n",
       "      <td>samsung</td>\n",
       "      <td>When will the s20 fe get one ui 4.0 android 12?</td>\n",
       "    </tr>\n",
       "    <tr>\n",
       "      <th>22</th>\n",
       "      <td>Portymcportface</td>\n",
       "      <td>1635264215</td>\n",
       "      <td>Hi All,  I'm on the upgrade programme and ordered my fold 3 about a week and a half ago. It's st...</td>\n",
       "      <td>samsung</td>\n",
       "      <td>Samsung week free gift</td>\n",
       "    </tr>\n",
       "    <tr>\n",
       "      <th>23</th>\n",
       "      <td>NoShftShck16</td>\n",
       "      <td>1635263522</td>\n",
       "      <td>Pixel 5 owner. I currently use Google Fit for aggregation of Sleep data from Sleep for Android, ...</td>\n",
       "      <td>samsung</td>\n",
       "      <td>Galaxy Watch arrives today, first Samsung device. First thing to do?</td>\n",
       "    </tr>\n",
       "    <tr>\n",
       "      <th>24</th>\n",
       "      <td>draplon</td>\n",
       "      <td>1635260958</td>\n",
       "      <td>When I watch normal 24 fps movies frame stucks or teleports for mili seconds which does not feel...</td>\n",
       "      <td>samsung</td>\n",
       "      <td>Facing frame buffer and backlight flickering on samsung qled.</td>\n",
       "    </tr>\n",
       "    <tr>\n",
       "      <th>25</th>\n",
       "      <td>onomatopoetix</td>\n",
       "      <td>1635256105</td>\n",
       "      <td>Samsung keeps throwing 8K in our faces, only at 24/30fps or hide the 8K and instead use that pow...</td>\n",
       "      <td>samsung</td>\n",
       "      <td>Would you rather...</td>\n",
       "    </tr>\n",
       "    <tr>\n",
       "      <th>26</th>\n",
       "      <td>gorzaporp</td>\n",
       "      <td>1635255101</td>\n",
       "      <td>My left bud just died... This appears to be a common issue. All the YouTube videos and posts I'v...</td>\n",
       "      <td>samsung</td>\n",
       "      <td>You have to be kidding me with this buds issue...</td>\n",
       "    </tr>\n",
       "    <tr>\n",
       "      <th>27</th>\n",
       "      <td>narutoninjakid</td>\n",
       "      <td>1635251741</td>\n",
       "      <td>Was activating a device admin app and noticed KLMSAgent was activated already in device admin se...</td>\n",
       "      <td>samsung</td>\n",
       "      <td>KLMSAgent Device admin activated in Settings. Uses?</td>\n",
       "    </tr>\n",
       "    <tr>\n",
       "      <th>28</th>\n",
       "      <td>fincurious</td>\n",
       "      <td>1635246475</td>\n",
       "      <td>Has anyone spray painted the attachable bezels available for the Samsung Frame TV? I'd (well, my...</td>\n",
       "      <td>samsung</td>\n",
       "      <td>Spray Paint Frame TV Bezel</td>\n",
       "    </tr>\n",
       "    <tr>\n",
       "      <th>29</th>\n",
       "      <td>Skate0700</td>\n",
       "      <td>1635245279</td>\n",
       "      <td>Im about to pull the trigger on it over the A80j Oled. The reason is that I like a brighter tv (...</td>\n",
       "      <td>samsung</td>\n",
       "      <td>Who has the QN900a?</td>\n",
       "    </tr>\n",
       "    <tr>\n",
       "      <th>30</th>\n",
       "      <td>Nat_Libertarian</td>\n",
       "      <td>1635242865</td>\n",
       "      <td>This thing feels a thousand times faster and smoother than my old S8 edge, the camera makes my o...</td>\n",
       "      <td>samsung</td>\n",
       "      <td>The other day I convinced myself to bite the bullet and get a payment plan for a zfold3. My mind...</td>\n",
       "    </tr>\n",
       "    <tr>\n",
       "      <th>31</th>\n",
       "      <td>Bawnse</td>\n",
       "      <td>1635242863</td>\n",
       "      <td>I have been rocking my s10+ since two years and always been curious about the newest features bu...</td>\n",
       "      <td>samsung</td>\n",
       "      <td>No reason to upgrade from s10+</td>\n",
       "    </tr>\n",
       "    <tr>\n",
       "      <th>33</th>\n",
       "      <td>sighofwinter</td>\n",
       "      <td>1635239867</td>\n",
       "      <td>Hi all, I have a Sony Xperia 5ii but a few things turn me off... I'm sick of this phone. I can't...</td>\n",
       "      <td>samsung</td>\n",
       "      <td>Needing new phone advice please!</td>\n",
       "    </tr>\n",
       "    <tr>\n",
       "      <th>34</th>\n",
       "      <td>weirdrasputin</td>\n",
       "      <td>1635232686</td>\n",
       "      <td>USA, mint mobile - moved from physical sim to eSim and its working great!!!</td>\n",
       "      <td>samsung</td>\n",
       "      <td>e-sim works fine on one ui 4.0 beta!!!</td>\n",
       "    </tr>\n",
       "    <tr>\n",
       "      <th>35</th>\n",
       "      <td>swordfi2</td>\n",
       "      <td>1635222131</td>\n",
       "      <td>Hello, recently saw an offer in my country which is that whit any s21 or foldable phone you buy ...</td>\n",
       "      <td>samsung</td>\n",
       "      <td>Worth getting the s21 Ultra with free Galaxy buds2 and a wireless charger ?</td>\n",
       "    </tr>\n",
       "    <tr>\n",
       "      <th>36</th>\n",
       "      <td>ppyrgic</td>\n",
       "      <td>1635220254</td>\n",
       "      <td>I'm so sick of Samsungs complete lack of integration between countries.  I have a Samsung hk not...</td>\n",
       "      <td>samsung</td>\n",
       "      <td>Samsung China and Hong Kong complete incompatibility</td>\n",
       "    </tr>\n",
       "    <tr>\n",
       "      <th>38</th>\n",
       "      <td>ashienoelle</td>\n",
       "      <td>1635216368</td>\n",
       "      <td>I love this phone but geez it is so fragile it’s not even worth it. It’s awkward already to hold...</td>\n",
       "      <td>samsung</td>\n",
       "      <td>Dropped my flip z one time and now the screen is completely green</td>\n",
       "    </tr>\n",
       "    <tr>\n",
       "      <th>39</th>\n",
       "      <td>neworderarmy00</td>\n",
       "      <td>1635211331</td>\n",
       "      <td>Hey guys,  I have a few scuff marks around the edges of my Note10 which is I believe the 'midnig...</td>\n",
       "      <td>samsung</td>\n",
       "      <td>How to paint my phone to patch it up? Note10</td>\n",
       "    </tr>\n",
       "    <tr>\n",
       "      <th>40</th>\n",
       "      <td>AndrewOfRivia</td>\n",
       "      <td>1635203492</td>\n",
       "      <td>I had a S21+ for 2 months now and it works great with no problems with it , but when the pixel g...</td>\n",
       "      <td>samsung</td>\n",
       "      <td>Should i switch S21+ for Pixel 6 Pro ?</td>\n",
       "    </tr>\n",
       "    <tr>\n",
       "      <th>42</th>\n",
       "      <td>RS_Games</td>\n",
       "      <td>1635201430</td>\n",
       "      <td>I am happy that samsung has kept the case dressings to their buds line consistent,  but it is an...</td>\n",
       "      <td>samsung</td>\n",
       "      <td>It's been 3 iterations of the galaxy buds with the same case design, and protector case/skin/wra...</td>\n",
       "    </tr>\n",
       "    <tr>\n",
       "      <th>43</th>\n",
       "      <td>theMEMEfather42069</td>\n",
       "      <td>1635196166</td>\n",
       "      <td>I just dropped my phone (samsung galaxy A52) about 6 inches onto a coffe table and theres 2 dece...</td>\n",
       "      <td>samsung</td>\n",
       "      <td>Why are newer phones as soft as a pillow</td>\n",
       "    </tr>\n",
       "    <tr>\n",
       "      <th>44</th>\n",
       "      <td>JonasTheExplorer</td>\n",
       "      <td>1635195521</td>\n",
       "      <td>I started a tradition where I dm Samsung the word potato until they respond.</td>\n",
       "      <td>samsung</td>\n",
       "      <td>Does Samsung have a phone number for people to text?</td>\n",
       "    </tr>\n",
       "    <tr>\n",
       "      <th>46</th>\n",
       "      <td>xAzurePandax</td>\n",
       "      <td>1635195316</td>\n",
       "      <td>Well at least I have a watch band....</td>\n",
       "      <td>samsung</td>\n",
       "      <td>Got a notification my watch 4 was gonna be delivered only the watch band I ordered came. Just go...</td>\n",
       "    </tr>\n",
       "    <tr>\n",
       "      <th>47</th>\n",
       "      <td>GrozaTheChronicler</td>\n",
       "      <td>1635194716</td>\n",
       "      <td>Hello good people of reddit, I've come here for advice.   I'm looking to buy a new phone, and I'...</td>\n",
       "      <td>samsung</td>\n",
       "      <td>Note 20 or S21?</td>\n",
       "    </tr>\n",
       "    <tr>\n",
       "      <th>48</th>\n",
       "      <td>mercenary_58</td>\n",
       "      <td>1635194400</td>\n",
       "      <td>i’m planning on buying an s21 or s20fe. what sales will i be expecting for these? £100 off? £150...</td>\n",
       "      <td>samsung</td>\n",
       "      <td>samsung week UK - what phones sales should i expect?</td>\n",
       "    </tr>\n",
       "    <tr>\n",
       "      <th>49</th>\n",
       "      <td>barbajorj</td>\n",
       "      <td>1635191458</td>\n",
       "      <td>Hello everyone! So I want to buy a new phone, and I was 100% going for the S21 Ultra, but now im...</td>\n",
       "      <td>samsung</td>\n",
       "      <td>S21+ vs Ultra</td>\n",
       "    </tr>\n",
       "    <tr>\n",
       "      <th>50</th>\n",
       "      <td>Todose</td>\n",
       "      <td>1635190832</td>\n",
       "      <td>Note10+ on ATT, just installed latest samsung/android update to 11 on friday and its draining my...</td>\n",
       "      <td>samsung</td>\n",
       "      <td>Update battery drain</td>\n",
       "    </tr>\n",
       "    <tr>\n",
       "      <th>51</th>\n",
       "      <td>gavriushka</td>\n",
       "      <td>1635186106</td>\n",
       "      <td>Hello everyone. Does anyone know what’s going on with the QN800A and the delaminated LED backlig...</td>\n",
       "      <td>samsung</td>\n",
       "      <td>QN800A panel problems</td>\n",
       "    </tr>\n",
       "    <tr>\n",
       "      <th>53</th>\n",
       "      <td>Trimm0311</td>\n",
       "      <td>1635181806</td>\n",
       "      <td>Is better Iphone 8 plus or Samsung S10e or other phone 200-250€ also refurbished. I need more fo...</td>\n",
       "      <td>samsung</td>\n",
       "      <td>which better</td>\n",
       "    </tr>\n",
       "    <tr>\n",
       "      <th>54</th>\n",
       "      <td>bobabobi</td>\n",
       "      <td>1635167271</td>\n",
       "      <td>The note 10 plus is 100$ more expensive than the s10 plus. Which one would you choose and what c...</td>\n",
       "      <td>samsung</td>\n",
       "      <td>Note 10 plus or s10 plus</td>\n",
       "    </tr>\n",
       "    <tr>\n",
       "      <th>55</th>\n",
       "      <td>twistedproton</td>\n",
       "      <td>1635162924</td>\n",
       "      <td>I've had some touch issues with my galaxy a21s especially when gaming. The screen does not respo...</td>\n",
       "      <td>samsung</td>\n",
       "      <td>Multi-touch on Galaxy A21s</td>\n",
       "    </tr>\n",
       "    <tr>\n",
       "      <th>56</th>\n",
       "      <td>adrianwall</td>\n",
       "      <td>1635162335</td>\n",
       "      <td>So disappointing. I was hoping we get good deals for galaxy tab s6 or s7... No mention what so e...</td>\n",
       "      <td>samsung</td>\n",
       "      <td>Samsung week - really nothing for tablet??</td>\n",
       "    </tr>\n",
       "    <tr>\n",
       "      <th>60</th>\n",
       "      <td>Aplek6</td>\n",
       "      <td>1635145820</td>\n",
       "      <td></td>\n",
       "      <td>samsung</td>\n",
       "      <td>Pixel 6 Looks Kinda Familiar</td>\n",
       "    </tr>\n",
       "    <tr>\n",
       "      <th>61</th>\n",
       "      <td>PeacockThe</td>\n",
       "      <td>1635143562</td>\n",
       "      <td>Hi,  I am in Australia and bought a s21 ultra on release day.. I paid $130 or so extra for the S...</td>\n",
       "      <td>samsung</td>\n",
       "      <td>Samsung Care+</td>\n",
       "    </tr>\n",
       "  </tbody>\n",
       "</table>\n",
       "</div>"
      ],
      "text/plain": [
       "                  author  created_utc  \\\n",
       "0           llThat1Guyll   1635291756   \n",
       "1            Gold_Enigma   1635289011   \n",
       "2       noobmistermuffin   1635287113   \n",
       "4                Jorycle   1635285986   \n",
       "6              ryang4415   1635284195   \n",
       "7              ryang4415   1635283668   \n",
       "8            Shadeslayur   1635281486   \n",
       "9       Jackasaurusrex31   1635281353   \n",
       "10             jking1676   1635280239   \n",
       "12        rohitvarma1986   1635276551   \n",
       "13        rohitvarma1986   1635275137   \n",
       "14           OldFatMantx   1635271511   \n",
       "15           YeetarusRex   1635271106   \n",
       "16        prettyborrring   1635270547   \n",
       "18            mikthinker   1635267578   \n",
       "19           Annsharlene   1635266401   \n",
       "20  Beneficial_Maximum96   1635265578   \n",
       "21          OrdinaryAsk1   1635265045   \n",
       "22       Portymcportface   1635264215   \n",
       "23          NoShftShck16   1635263522   \n",
       "24               draplon   1635260958   \n",
       "25         onomatopoetix   1635256105   \n",
       "26             gorzaporp   1635255101   \n",
       "27        narutoninjakid   1635251741   \n",
       "28            fincurious   1635246475   \n",
       "29             Skate0700   1635245279   \n",
       "30       Nat_Libertarian   1635242865   \n",
       "31                Bawnse   1635242863   \n",
       "33          sighofwinter   1635239867   \n",
       "34         weirdrasputin   1635232686   \n",
       "35              swordfi2   1635222131   \n",
       "36               ppyrgic   1635220254   \n",
       "38           ashienoelle   1635216368   \n",
       "39        neworderarmy00   1635211331   \n",
       "40         AndrewOfRivia   1635203492   \n",
       "42              RS_Games   1635201430   \n",
       "43    theMEMEfather42069   1635196166   \n",
       "44      JonasTheExplorer   1635195521   \n",
       "46          xAzurePandax   1635195316   \n",
       "47    GrozaTheChronicler   1635194716   \n",
       "48          mercenary_58   1635194400   \n",
       "49             barbajorj   1635191458   \n",
       "50                Todose   1635190832   \n",
       "51            gavriushka   1635186106   \n",
       "53             Trimm0311   1635181806   \n",
       "54              bobabobi   1635167271   \n",
       "55         twistedproton   1635162924   \n",
       "56            adrianwall   1635162335   \n",
       "60                Aplek6   1635145820   \n",
       "61            PeacockThe   1635143562   \n",
       "\n",
       "                                                                                               selftext  \\\n",
       "0   I think it mightve Changed with the latest update. I swear it looks like longer or something. It...   \n",
       "1   I bought a pair of galaxy buds+ a little under a year ago in the US and thought they worked very...   \n",
       "2   I work in a phone repair store I don't speak for the brand or any company I speak with what I've...   \n",
       "4   Rant mode.  So we bought some appliances like 6 months back. It took them so long to come in sto...   \n",
       "6   I can probably upgrade to a better Samsung up to $1000 for free. What should I get? It's been a ...   \n",
       "7   AT&amp;T has a promotion right now where if you buy the Z Flip3 on an installment, you get the b...   \n",
       "8   I've had a S21 Ultra since launch. I've tried a number of screen protectors for this device, not...   \n",
       "9   I've had a S21 Ultra since launch. I've tried a number of screen protectors for this device, not...   \n",
       "10  When using certain apps (Amazon, Teams, Instagram), pretty much anything with messaging capabili...   \n",
       "12  Basically the title . Currently the only way to add apps from finder search to home screen is vi...   \n",
       "13  So i have the brighten setting enabled on face unlock ( s21 ultra )but it barely brightens the s...   \n",
       "14  I am the ultimate Samnsung Fanboy. I got Galaxy Tab 7FE, Tab 6, Tab S7 lite, Note 10+ and Z fold...   \n",
       "15  I want to switch from my Oneplus 7t to a Samsung. I've done my research and Im choosing between ...   \n",
       "16  If you can go somewhere else for service, do it. Don't use samsung repair if at all possible. I ...   \n",
       "18  After ordering an S21 for my wife on October 15th with an initial delivery date of October 26th,...   \n",
       "19  I would like to know how to access notes from Samsung notes app after moving out from secure fol...   \n",
       "20  I saw something about apps from Samsung phones having some kind of connectivity with Windows 11....   \n",
       "21                                                      When does the s20 fe get one ui 4.0 android 12?   \n",
       "22  Hi All,  I'm on the upgrade programme and ordered my fold 3 about a week and a half ago. It's st...   \n",
       "23  Pixel 5 owner. I currently use Google Fit for aggregation of Sleep data from Sleep for Android, ...   \n",
       "24  When I watch normal 24 fps movies frame stucks or teleports for mili seconds which does not feel...   \n",
       "25  Samsung keeps throwing 8K in our faces, only at 24/30fps or hide the 8K and instead use that pow...   \n",
       "26  My left bud just died... This appears to be a common issue. All the YouTube videos and posts I'v...   \n",
       "27  Was activating a device admin app and noticed KLMSAgent was activated already in device admin se...   \n",
       "28  Has anyone spray painted the attachable bezels available for the Samsung Frame TV? I'd (well, my...   \n",
       "29  Im about to pull the trigger on it over the A80j Oled. The reason is that I like a brighter tv (...   \n",
       "30  This thing feels a thousand times faster and smoother than my old S8 edge, the camera makes my o...   \n",
       "31  I have been rocking my s10+ since two years and always been curious about the newest features bu...   \n",
       "33  Hi all, I have a Sony Xperia 5ii but a few things turn me off... I'm sick of this phone. I can't...   \n",
       "34                          USA, mint mobile - moved from physical sim to eSim and its working great!!!   \n",
       "35  Hello, recently saw an offer in my country which is that whit any s21 or foldable phone you buy ...   \n",
       "36  I'm so sick of Samsungs complete lack of integration between countries.  I have a Samsung hk not...   \n",
       "38  I love this phone but geez it is so fragile it’s not even worth it. It’s awkward already to hold...   \n",
       "39  Hey guys,  I have a few scuff marks around the edges of my Note10 which is I believe the 'midnig...   \n",
       "40  I had a S21+ for 2 months now and it works great with no problems with it , but when the pixel g...   \n",
       "42  I am happy that samsung has kept the case dressings to their buds line consistent,  but it is an...   \n",
       "43  I just dropped my phone (samsung galaxy A52) about 6 inches onto a coffe table and theres 2 dece...   \n",
       "44                         I started a tradition where I dm Samsung the word potato until they respond.   \n",
       "46                                                                Well at least I have a watch band....   \n",
       "47  Hello good people of reddit, I've come here for advice.   I'm looking to buy a new phone, and I'...   \n",
       "48  i’m planning on buying an s21 or s20fe. what sales will i be expecting for these? £100 off? £150...   \n",
       "49  Hello everyone! So I want to buy a new phone, and I was 100% going for the S21 Ultra, but now im...   \n",
       "50  Note10+ on ATT, just installed latest samsung/android update to 11 on friday and its draining my...   \n",
       "51  Hello everyone. Does anyone know what’s going on with the QN800A and the delaminated LED backlig...   \n",
       "53  Is better Iphone 8 plus or Samsung S10e or other phone 200-250€ also refurbished. I need more fo...   \n",
       "54  The note 10 plus is 100$ more expensive than the s10 plus. Which one would you choose and what c...   \n",
       "55  I've had some touch issues with my galaxy a21s especially when gaming. The screen does not respo...   \n",
       "56  So disappointing. I was hoping we get good deals for galaxy tab s6 or s7... No mention what so e...   \n",
       "60                                                                                                        \n",
       "61  Hi,  I am in Australia and bought a s21 ultra on release day.. I paid $130 or so extra for the S...   \n",
       "\n",
       "   subreddit  \\\n",
       "0    samsung   \n",
       "1    samsung   \n",
       "2    samsung   \n",
       "4    samsung   \n",
       "6    samsung   \n",
       "7    samsung   \n",
       "8    samsung   \n",
       "9    samsung   \n",
       "10   samsung   \n",
       "12   samsung   \n",
       "13   samsung   \n",
       "14   samsung   \n",
       "15   samsung   \n",
       "16   samsung   \n",
       "18   samsung   \n",
       "19   samsung   \n",
       "20   samsung   \n",
       "21   samsung   \n",
       "22   samsung   \n",
       "23   samsung   \n",
       "24   samsung   \n",
       "25   samsung   \n",
       "26   samsung   \n",
       "27   samsung   \n",
       "28   samsung   \n",
       "29   samsung   \n",
       "30   samsung   \n",
       "31   samsung   \n",
       "33   samsung   \n",
       "34   samsung   \n",
       "35   samsung   \n",
       "36   samsung   \n",
       "38   samsung   \n",
       "39   samsung   \n",
       "40   samsung   \n",
       "42   samsung   \n",
       "43   samsung   \n",
       "44   samsung   \n",
       "46   samsung   \n",
       "47   samsung   \n",
       "48   samsung   \n",
       "49   samsung   \n",
       "50   samsung   \n",
       "51   samsung   \n",
       "53   samsung   \n",
       "54   samsung   \n",
       "55   samsung   \n",
       "56   samsung   \n",
       "60   samsung   \n",
       "61   samsung   \n",
       "\n",
       "                                                                                                  title  \n",
       "0   Did the Devil emojii change for Android? At least Samsung, because I swear it Does, but I can't ...  \n",
       "1                                                               Samsung is really pissing me off today?  \n",
       "2                                                                            DONT UPDATE YOUR A21 PHONE  \n",
       "4                                                  Samsung delivery policies: Stupid, or the stupidest?  \n",
       "6                                                                       What phone should I upgrade to?  \n",
       "7                                           Is the Z Flip3 worth it? If you have one, do you regret it?  \n",
       "8   The Whitestone Dome screen protector for the S21 Ultra is hands down the best option for the dev...  \n",
       "9   The Whitestone Dome Glass screen protector for the Galaxy S21 Ultra is hands down the best scree...  \n",
       "10                                                                                   S21 keyboard issue  \n",
       "12                                       Any way to add app directly from drawer search to home screen.  \n",
       "13                                      Increase brightness of face unlock screen using bixby routines.  \n",
       "14             We all need to complain to Samsung and let our voices be heard for the features we want.  \n",
       "15                                                                                 Switching to Samsung  \n",
       "16                                                                   Avoid Samsung service at all costs  \n",
       "18                                                                                 The LOOONNNGGGG Wait  \n",
       "19                                                                                        Samsung notes  \n",
       "20                                                                     Samsung devices with Windows 11?  \n",
       "21                                                      When will the s20 fe get one ui 4.0 android 12?  \n",
       "22                                                                               Samsung week free gift  \n",
       "23                                 Galaxy Watch arrives today, first Samsung device. First thing to do?  \n",
       "24                                        Facing frame buffer and backlight flickering on samsung qled.  \n",
       "25                                                                                  Would you rather...  \n",
       "26                                                    You have to be kidding me with this buds issue...  \n",
       "27                                                  KLMSAgent Device admin activated in Settings. Uses?  \n",
       "28                                                                           Spray Paint Frame TV Bezel  \n",
       "29                                                                                  Who has the QN900a?  \n",
       "30  The other day I convinced myself to bite the bullet and get a payment plan for a zfold3. My mind...  \n",
       "31                                                                       No reason to upgrade from s10+  \n",
       "33                                                                     Needing new phone advice please!  \n",
       "34                                                               e-sim works fine on one ui 4.0 beta!!!  \n",
       "35                          Worth getting the s21 Ultra with free Galaxy buds2 and a wireless charger ?  \n",
       "36                                                 Samsung China and Hong Kong complete incompatibility  \n",
       "38                                    Dropped my flip z one time and now the screen is completely green  \n",
       "39                                                         How to paint my phone to patch it up? Note10  \n",
       "40                                                               Should i switch S21+ for Pixel 6 Pro ?  \n",
       "42  It's been 3 iterations of the galaxy buds with the same case design, and protector case/skin/wra...  \n",
       "43                                                             Why are newer phones as soft as a pillow  \n",
       "44                                                 Does Samsung have a phone number for people to text?  \n",
       "46  Got a notification my watch 4 was gonna be delivered only the watch band I ordered came. Just go...  \n",
       "47                                                                                      Note 20 or S21?  \n",
       "48                                                 samsung week UK - what phones sales should i expect?  \n",
       "49                                                                                        S21+ vs Ultra  \n",
       "50                                                                                 Update battery drain  \n",
       "51                                                                                QN800A panel problems  \n",
       "53                                                                                         which better  \n",
       "54                                                                             Note 10 plus or s10 plus  \n",
       "55                                                                           Multi-touch on Galaxy A21s  \n",
       "56                                                           Samsung week - really nothing for tablet??  \n",
       "60                                                                         Pixel 6 Looks Kinda Familiar  \n",
       "61                                                                                        Samsung Care+  "
      ]
     },
     "execution_count": 92,
     "metadata": {},
     "output_type": "execute_result"
    }
   ],
   "source": [
    "ss.head(50)"
   ]
  },
  {
   "cell_type": "markdown",
   "id": "b3a2213c",
   "metadata": {},
   "source": [
    "The number of rows and columns in the data is as follows:"
   ]
  },
  {
   "cell_type": "code",
   "execution_count": 93,
   "id": "1941515b",
   "metadata": {},
   "outputs": [
    {
     "data": {
      "text/plain": [
       "(7091, 5)"
      ]
     },
     "execution_count": 93,
     "metadata": {},
     "output_type": "execute_result"
    }
   ],
   "source": [
    "ss.shape"
   ]
  },
  {
   "cell_type": "markdown",
   "id": "2aab8b82",
   "metadata": {},
   "source": [
    "## Saving the DataFrame to CSV"
   ]
  },
  {
   "cell_type": "code",
   "execution_count": 94,
   "id": "30c5c1ce",
   "metadata": {},
   "outputs": [],
   "source": [
    "ss.to_csv('../data/ss.csv', index=False)"
   ]
  },
  {
   "cell_type": "markdown",
   "id": "0013b41c",
   "metadata": {},
   "source": [
    "In the next notebook, the data will be explored."
   ]
  }
 ],
 "metadata": {
  "kernelspec": {
   "display_name": "Python 3 (ipykernel)",
   "language": "python",
   "name": "python3"
  },
  "language_info": {
   "codemirror_mode": {
    "name": "ipython",
    "version": 3
   },
   "file_extension": ".py",
   "mimetype": "text/x-python",
   "name": "python",
   "nbconvert_exporter": "python",
   "pygments_lexer": "ipython3",
   "version": "3.8.11"
  }
 },
 "nbformat": 4,
 "nbformat_minor": 5
}
