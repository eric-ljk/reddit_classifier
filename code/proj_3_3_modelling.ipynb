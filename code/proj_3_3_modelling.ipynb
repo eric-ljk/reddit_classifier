{
 "cells": [
  {
   "cell_type": "markdown",
   "id": "1d160286",
   "metadata": {},
   "source": [
    "<img src=\"http://imgur.com/1ZcRyrc.png\" style=\"float: left; margin: 20px; height: 55px\">\n",
    "\n",
    "# Project 3 - Web APIs & NLP"
   ]
  },
  {
   "cell_type": "markdown",
   "id": "49a3c749",
   "metadata": {},
   "source": [
    "# Contents (Part 1)\n",
    "- Executive Summary\n",
    "- Problem Statement\n",
    "- Background and Research\n",
    "- Data Fetching\n",
    "- Data Filtering (Apple)\n",
    "- Data Filtering (Samsung)\n",
    "\n",
    "# Contents (Part 2)\n",
    "\n",
    "- Data Exploration\n",
    "- Additional Data Filtering\n",
    "- Data Dictionary\n",
    "- Natural Language Processing (Apple)\n",
    "- Natural Language Processing (Samsung)\n",
    "\n",
    "# Contents (Part 3) - This notebook \n",
    "\n",
    "- [Preprocessing](#Preprocessing)\n",
    "- [Dummy Classifier](#Dummy-Classifier)\n",
    "- [Multinomial Naive-Bayes](#Multinomial-Naive-Bayes)\n",
    "- [Logistic Regression](#Logistic-Regression)\n",
    "- [Support Vector Classifier](#Support-Vector-Classifier)\n",
    "- [Random Forest](#Random-Forest)\n",
    "- [Results and Analysis](#Results-and-Analysis)\n",
    "- [Conclusion and Recommendations](#Conclusion-and-Recommendations)"
   ]
  },
  {
   "cell_type": "markdown",
   "id": "a166e1a5",
   "metadata": {},
   "source": [
    "# Preprocessing\n",
    "\n",
    "Some transformations have to be done on the word data to make it ready for modelling. The end result is that all data will be in numerical form.\n",
    "\n",
    "## Importing libraries\n",
    "\n",
    "Below, we import the necessary libraries."
   ]
  },
  {
   "cell_type": "code",
   "execution_count": 1,
   "id": "da5615ab",
   "metadata": {},
   "outputs": [],
   "source": [
    "import pandas as pd\n",
    "import numpy as np\n",
    "\n",
    "import matplotlib.pyplot as plt\n",
    "import seaborn as sns\n",
    "\n",
    "import re\n",
    "import nltk\n",
    "import string\n",
    "\n",
    "from sklearn.feature_extraction.text import CountVectorizer\n",
    "from sklearn.feature_extraction.text import TfidfVectorizer\n",
    "\n",
    "from sklearn.pipeline import Pipeline\n",
    "\n",
    "from sklearn.model_selection import train_test_split, GridSearchCV, cross_val_score\n",
    "from sklearn import metrics\n",
    "from sklearn.metrics import accuracy_score, roc_auc_score, plot_roc_curve\n",
    "\n",
    "from sklearn.dummy import DummyClassifier\n",
    "from sklearn.naive_bayes import MultinomialNB\n",
    "from sklearn.linear_model import LogisticRegression\n",
    "from sklearn.svm import SVC\n",
    "from sklearn.ensemble import RandomForestClassifier\n",
    "\n",
    "%config InlineBackend.figure_format = 'retina'\n",
    "%matplotlib inline\n",
    "\n",
    "# Overrides Matplotlib theme with Seaborn's \n",
    "sns.set(font_scale = 1.2)\n",
    "sns.set_context('talk')\n",
    "\n",
    "# Enables Pandas to display all the columns\n",
    "pd.set_option('display.max_columns', None)\n",
    "\n",
    "# Enables Pandas to display all the rows\n",
    "pd.set_option('display.max_rows', None)\n",
    "\n",
    "# Enables Pandas to display more text in a column\n",
    "pd.set_option('display.max_colwidth', 1000)\n",
    "\n",
    "# Ignore warnings after model testing complete\n",
    "import warnings\n",
    "warnings.filterwarnings('ignore')"
   ]
  },
  {
   "cell_type": "markdown",
   "id": "3766390d",
   "metadata": {},
   "source": [
    "## Loading the data \n",
    "\n",
    "The combined data from Apple and Samsung is loaded:"
   ]
  },
  {
   "cell_type": "code",
   "execution_count": 2,
   "id": "2d16d1c9",
   "metadata": {},
   "outputs": [],
   "source": [
    "df = pd.read_csv('../data/ap_ss.csv')"
   ]
  },
  {
   "cell_type": "markdown",
   "id": "704de2d2",
   "metadata": {},
   "source": [
    "The data has 8000 rows, which means 8000 posts:"
   ]
  },
  {
   "cell_type": "code",
   "execution_count": 3,
   "id": "fe14c0d2",
   "metadata": {},
   "outputs": [
    {
     "data": {
      "text/plain": [
       "(8000, 2)"
      ]
     },
     "execution_count": 3,
     "metadata": {},
     "output_type": "execute_result"
    }
   ],
   "source": [
    "df.shape"
   ]
  },
  {
   "cell_type": "code",
   "execution_count": 4,
   "id": "a2a82de4",
   "metadata": {
    "scrolled": true
   },
   "outputs": [
    {
     "data": {
      "text/html": [
       "<div>\n",
       "<style scoped>\n",
       "    .dataframe tbody tr th:only-of-type {\n",
       "        vertical-align: middle;\n",
       "    }\n",
       "\n",
       "    .dataframe tbody tr th {\n",
       "        vertical-align: top;\n",
       "    }\n",
       "\n",
       "    .dataframe thead th {\n",
       "        text-align: right;\n",
       "    }\n",
       "</style>\n",
       "<table border=\"1\" class=\"dataframe\">\n",
       "  <thead>\n",
       "    <tr style=\"text-align: right;\">\n",
       "      <th></th>\n",
       "      <th>text</th>\n",
       "      <th>subreddit</th>\n",
       "    </tr>\n",
       "  </thead>\n",
       "  <tbody>\n",
       "    <tr>\n",
       "      <th>0</th>\n",
       "      <td>Correct way to use battery pack? What is the correct way to use the battery pack, would it be plugging in the cable into the iphone or into the battery pack (when the battery pack is connected to the phone).</td>\n",
       "      <td>apple</td>\n",
       "    </tr>\n",
       "    <tr>\n",
       "      <th>1</th>\n",
       "      <td>Will Siri ever be able to recognize the proper pronunciation of hard-to-pronounce names? As the title says, I am curious why Siri can't recognize the proper pronunciation of hard to pronounce names when you ask her to call someone. Shouldn't she be able, with time, to notice the difference? Do you think Apple is working on something like this?</td>\n",
       "      <td>apple</td>\n",
       "    </tr>\n",
       "    <tr>\n",
       "      <th>2</th>\n",
       "      <td>Question: is it better to ship airpods to apple or take them to the apple store? I bought some airpods pro about a year  bought the full cover for it including accidents however it’s been a hassle for the last weeks trying to get them fixed… the closest place i have is a best buy and they pretty much said they couldn’t do anything because all of their diagnostics came out okay. I go 30 miles north to an apple store and they tell me i need to check for an appointment with the apple store and they have like 4 day wait time plus it’s 30 miles away. 30 miles that i drove already.   At this point I’m wondering if it’s even worth the hassle if I’ll get new ones or fixed the same day ? ( the issue being the mic being muffled and little to no sound from the right airpod ). Or if I should just call and have them shipped? I never gotten insurance with any item before dint know it was gonna be such a pain to get the coverage.</td>\n",
       "      <td>apple</td>\n",
       "    </tr>\n",
       "    <tr>\n",
       "      <th>3</th>\n",
       "      <td>Should I get the 2021 12.9” iPad Pro or wait till next year? I’m a student and I want to get an iPad for note taking, and maybe for drawing also. But I don’t know if I should wait or not, apparently there’s something new/big coming next year and I want to know if it’s worth the wait.</td>\n",
       "      <td>apple</td>\n",
       "    </tr>\n",
       "    <tr>\n",
       "      <th>4</th>\n",
       "      <td>iMessage So I block someone on my iphone but suddenly I get a text from them on iMessage on my Desktop. WTF?!</td>\n",
       "      <td>apple</td>\n",
       "    </tr>\n",
       "  </tbody>\n",
       "</table>\n",
       "</div>"
      ],
      "text/plain": [
       "                                                                                                                                                                                                                                                                                                                                                                                                                                                                                                                                                                                                                                                                                                                                                                                                                                                                                                                                                               text  \\\n",
       "0                                                                                                                                                                                                                                                                                                                                                                                                                                                                                                                                                                                                                                                                                                                                                   Correct way to use battery pack? What is the correct way to use the battery pack, would it be plugging in the cable into the iphone or into the battery pack (when the battery pack is connected to the phone).   \n",
       "1                                                                                                                                                                                                                                                                                                                                                                                                                                                                                                                                                                                                         Will Siri ever be able to recognize the proper pronunciation of hard-to-pronounce names? As the title says, I am curious why Siri can't recognize the proper pronunciation of hard to pronounce names when you ask her to call someone. Shouldn't she be able, with time, to notice the difference? Do you think Apple is working on something like this?   \n",
       "2  Question: is it better to ship airpods to apple or take them to the apple store? I bought some airpods pro about a year  bought the full cover for it including accidents however it’s been a hassle for the last weeks trying to get them fixed… the closest place i have is a best buy and they pretty much said they couldn’t do anything because all of their diagnostics came out okay. I go 30 miles north to an apple store and they tell me i need to check for an appointment with the apple store and they have like 4 day wait time plus it’s 30 miles away. 30 miles that i drove already.   At this point I’m wondering if it’s even worth the hassle if I’ll get new ones or fixed the same day ? ( the issue being the mic being muffled and little to no sound from the right airpod ). Or if I should just call and have them shipped? I never gotten insurance with any item before dint know it was gonna be such a pain to get the coverage.   \n",
       "3                                                                                                                                                                                                                                                                                                                                                                                                                                                                                                                                                                                                                                                                      Should I get the 2021 12.9” iPad Pro or wait till next year? I’m a student and I want to get an iPad for note taking, and maybe for drawing also. But I don’t know if I should wait or not, apparently there’s something new/big coming next year and I want to know if it’s worth the wait.   \n",
       "4                                                                                                                                                                                                                                                                                                                                                                                                                                                                                                                                                                                                                                                                                                                                                                                                                                                     iMessage So I block someone on my iphone but suddenly I get a text from them on iMessage on my Desktop. WTF?!   \n",
       "\n",
       "  subreddit  \n",
       "0     apple  \n",
       "1     apple  \n",
       "2     apple  \n",
       "3     apple  \n",
       "4     apple  "
      ]
     },
     "execution_count": 4,
     "metadata": {},
     "output_type": "execute_result"
    }
   ],
   "source": [
    "df.head()"
   ]
  },
  {
   "cell_type": "code",
   "execution_count": 5,
   "id": "91b805b1",
   "metadata": {},
   "outputs": [
    {
     "data": {
      "text/html": [
       "<div>\n",
       "<style scoped>\n",
       "    .dataframe tbody tr th:only-of-type {\n",
       "        vertical-align: middle;\n",
       "    }\n",
       "\n",
       "    .dataframe tbody tr th {\n",
       "        vertical-align: top;\n",
       "    }\n",
       "\n",
       "    .dataframe thead th {\n",
       "        text-align: right;\n",
       "    }\n",
       "</style>\n",
       "<table border=\"1\" class=\"dataframe\">\n",
       "  <thead>\n",
       "    <tr style=\"text-align: right;\">\n",
       "      <th></th>\n",
       "      <th>text</th>\n",
       "      <th>subreddit</th>\n",
       "    </tr>\n",
       "  </thead>\n",
       "  <tbody>\n",
       "    <tr>\n",
       "      <th>7995</th>\n",
       "      <td>Galaxy Tabs / Books Do these devices allow you to install Google Chrome desktop version? Or is it the same slim app as my android phone uses?  I ask because I was looking into buying one of these for my job, however, I use a lot of Chrome extensions that can't be used with the mobile Chrome version.</td>\n",
       "      <td>samsung</td>\n",
       "    </tr>\n",
       "    <tr>\n",
       "      <th>7996</th>\n",
       "      <td>Issues sending &amp;amp; receiving pictures with overseas numbers I have an S20 and my friend has an S21. For months now pictures have been delayed for days or not showing up at all. I've talked with support and even switched service providers but it doesn't seem to be helping. Any ideas of how to fix this?</td>\n",
       "      <td>samsung</td>\n",
       "    </tr>\n",
       "    <tr>\n",
       "      <th>7997</th>\n",
       "      <td>Samsung notes no longer unlockable with fingerprint? Hello Everyone,   As the title says, now the app wants me to enter my email address or create a samsung account. Does anyone noticed this?</td>\n",
       "      <td>samsung</td>\n",
       "    </tr>\n",
       "    <tr>\n",
       "      <th>7998</th>\n",
       "      <td>When is the note 10 lite getting a ONE UI 3.1 update??? I know its been updated early March but I still haven't gotten it and I live in the middle East and been waiting for the update to come out. Will I be able to update it or is updates for my note 10 lite???</td>\n",
       "      <td>samsung</td>\n",
       "    </tr>\n",
       "    <tr>\n",
       "      <th>7999</th>\n",
       "      <td>Is it Crazy to switch from Note20U to the S21? So I bought my N20U when it released and though it is an amazing phone it is just way to big for me. I drop it alot, bump it on tables or falls out my hand  that it became an annoying daily struggle. I was thinking to switch to the s21 because I can get a great trade deal, but I was wondering if the switch would feel to much of a downgrade?  I'm scared that the FHD would become a thing for me since I now use the 2k resolution.   Any thoughts to share?</td>\n",
       "      <td>samsung</td>\n",
       "    </tr>\n",
       "  </tbody>\n",
       "</table>\n",
       "</div>"
      ],
      "text/plain": [
       "                                                                                                                                                                                                                                                                                                                                                                                                                                                                                                                        text  \\\n",
       "7995                                                                                                                                                                                                            Galaxy Tabs / Books Do these devices allow you to install Google Chrome desktop version? Or is it the same slim app as my android phone uses?  I ask because I was looking into buying one of these for my job, however, I use a lot of Chrome extensions that can't be used with the mobile Chrome version.   \n",
       "7996                                                                                                                                                                                                        Issues sending &amp; receiving pictures with overseas numbers I have an S20 and my friend has an S21. For months now pictures have been delayed for days or not showing up at all. I've talked with support and even switched service providers but it doesn't seem to be helping. Any ideas of how to fix this?   \n",
       "7997                                                                                                                                                                                                                                                                                                                         Samsung notes no longer unlockable with fingerprint? Hello Everyone,   As the title says, now the app wants me to enter my email address or create a samsung account. Does anyone noticed this?   \n",
       "7998                                                                                                                                                                                                                                                   When is the note 10 lite getting a ONE UI 3.1 update??? I know its been updated early March but I still haven't gotten it and I live in the middle East and been waiting for the update to come out. Will I be able to update it or is updates for my note 10 lite???   \n",
       "7999  Is it Crazy to switch from Note20U to the S21? So I bought my N20U when it released and though it is an amazing phone it is just way to big for me. I drop it alot, bump it on tables or falls out my hand  that it became an annoying daily struggle. I was thinking to switch to the s21 because I can get a great trade deal, but I was wondering if the switch would feel to much of a downgrade?  I'm scared that the FHD would become a thing for me since I now use the 2k resolution.   Any thoughts to share?   \n",
       "\n",
       "     subreddit  \n",
       "7995   samsung  \n",
       "7996   samsung  \n",
       "7997   samsung  \n",
       "7998   samsung  \n",
       "7999   samsung  "
      ]
     },
     "execution_count": 5,
     "metadata": {},
     "output_type": "execute_result"
    }
   ],
   "source": [
    "df.tail()"
   ]
  },
  {
   "cell_type": "markdown",
   "id": "1e28044a",
   "metadata": {},
   "source": [
    "## Target column\n",
    "\n",
    "As the end result must be in numerical form, we will start with the target column. Since this is binary classification, we will assign Apple to '0' and Samsung to '1':"
   ]
  },
  {
   "cell_type": "code",
   "execution_count": 6,
   "id": "f2e1462a",
   "metadata": {},
   "outputs": [],
   "source": [
    "df['subreddit'] = df['subreddit'].map(dict(apple=0, samsung=1))"
   ]
  },
  {
   "cell_type": "code",
   "execution_count": 7,
   "id": "731a5261",
   "metadata": {},
   "outputs": [
    {
     "data": {
      "text/html": [
       "<div>\n",
       "<style scoped>\n",
       "    .dataframe tbody tr th:only-of-type {\n",
       "        vertical-align: middle;\n",
       "    }\n",
       "\n",
       "    .dataframe tbody tr th {\n",
       "        vertical-align: top;\n",
       "    }\n",
       "\n",
       "    .dataframe thead th {\n",
       "        text-align: right;\n",
       "    }\n",
       "</style>\n",
       "<table border=\"1\" class=\"dataframe\">\n",
       "  <thead>\n",
       "    <tr style=\"text-align: right;\">\n",
       "      <th></th>\n",
       "      <th>text</th>\n",
       "      <th>subreddit</th>\n",
       "    </tr>\n",
       "  </thead>\n",
       "  <tbody>\n",
       "    <tr>\n",
       "      <th>0</th>\n",
       "      <td>Correct way to use battery pack? What is the correct way to use the battery pack, would it be plugging in the cable into the iphone or into the battery pack (when the battery pack is connected to the phone).</td>\n",
       "      <td>0</td>\n",
       "    </tr>\n",
       "    <tr>\n",
       "      <th>1</th>\n",
       "      <td>Will Siri ever be able to recognize the proper pronunciation of hard-to-pronounce names? As the title says, I am curious why Siri can't recognize the proper pronunciation of hard to pronounce names when you ask her to call someone. Shouldn't she be able, with time, to notice the difference? Do you think Apple is working on something like this?</td>\n",
       "      <td>0</td>\n",
       "    </tr>\n",
       "    <tr>\n",
       "      <th>2</th>\n",
       "      <td>Question: is it better to ship airpods to apple or take them to the apple store? I bought some airpods pro about a year  bought the full cover for it including accidents however it’s been a hassle for the last weeks trying to get them fixed… the closest place i have is a best buy and they pretty much said they couldn’t do anything because all of their diagnostics came out okay. I go 30 miles north to an apple store and they tell me i need to check for an appointment with the apple store and they have like 4 day wait time plus it’s 30 miles away. 30 miles that i drove already.   At this point I’m wondering if it’s even worth the hassle if I’ll get new ones or fixed the same day ? ( the issue being the mic being muffled and little to no sound from the right airpod ). Or if I should just call and have them shipped? I never gotten insurance with any item before dint know it was gonna be such a pain to get the coverage.</td>\n",
       "      <td>0</td>\n",
       "    </tr>\n",
       "    <tr>\n",
       "      <th>3</th>\n",
       "      <td>Should I get the 2021 12.9” iPad Pro or wait till next year? I’m a student and I want to get an iPad for note taking, and maybe for drawing also. But I don’t know if I should wait or not, apparently there’s something new/big coming next year and I want to know if it’s worth the wait.</td>\n",
       "      <td>0</td>\n",
       "    </tr>\n",
       "    <tr>\n",
       "      <th>4</th>\n",
       "      <td>iMessage So I block someone on my iphone but suddenly I get a text from them on iMessage on my Desktop. WTF?!</td>\n",
       "      <td>0</td>\n",
       "    </tr>\n",
       "  </tbody>\n",
       "</table>\n",
       "</div>"
      ],
      "text/plain": [
       "                                                                                                                                                                                                                                                                                                                                                                                                                                                                                                                                                                                                                                                                                                                                                                                                                                                                                                                                                               text  \\\n",
       "0                                                                                                                                                                                                                                                                                                                                                                                                                                                                                                                                                                                                                                                                                                                                                   Correct way to use battery pack? What is the correct way to use the battery pack, would it be plugging in the cable into the iphone or into the battery pack (when the battery pack is connected to the phone).   \n",
       "1                                                                                                                                                                                                                                                                                                                                                                                                                                                                                                                                                                                                         Will Siri ever be able to recognize the proper pronunciation of hard-to-pronounce names? As the title says, I am curious why Siri can't recognize the proper pronunciation of hard to pronounce names when you ask her to call someone. Shouldn't she be able, with time, to notice the difference? Do you think Apple is working on something like this?   \n",
       "2  Question: is it better to ship airpods to apple or take them to the apple store? I bought some airpods pro about a year  bought the full cover for it including accidents however it’s been a hassle for the last weeks trying to get them fixed… the closest place i have is a best buy and they pretty much said they couldn’t do anything because all of their diagnostics came out okay. I go 30 miles north to an apple store and they tell me i need to check for an appointment with the apple store and they have like 4 day wait time plus it’s 30 miles away. 30 miles that i drove already.   At this point I’m wondering if it’s even worth the hassle if I’ll get new ones or fixed the same day ? ( the issue being the mic being muffled and little to no sound from the right airpod ). Or if I should just call and have them shipped? I never gotten insurance with any item before dint know it was gonna be such a pain to get the coverage.   \n",
       "3                                                                                                                                                                                                                                                                                                                                                                                                                                                                                                                                                                                                                                                                      Should I get the 2021 12.9” iPad Pro or wait till next year? I’m a student and I want to get an iPad for note taking, and maybe for drawing also. But I don’t know if I should wait or not, apparently there’s something new/big coming next year and I want to know if it’s worth the wait.   \n",
       "4                                                                                                                                                                                                                                                                                                                                                                                                                                                                                                                                                                                                                                                                                                                                                                                                                                                     iMessage So I block someone on my iphone but suddenly I get a text from them on iMessage on my Desktop. WTF?!   \n",
       "\n",
       "   subreddit  \n",
       "0          0  \n",
       "1          0  \n",
       "2          0  \n",
       "3          0  \n",
       "4          0  "
      ]
     },
     "execution_count": 7,
     "metadata": {},
     "output_type": "execute_result"
    }
   ],
   "source": [
    "df.head()"
   ]
  },
  {
   "cell_type": "code",
   "execution_count": 8,
   "id": "3f351969",
   "metadata": {},
   "outputs": [
    {
     "data": {
      "text/html": [
       "<div>\n",
       "<style scoped>\n",
       "    .dataframe tbody tr th:only-of-type {\n",
       "        vertical-align: middle;\n",
       "    }\n",
       "\n",
       "    .dataframe tbody tr th {\n",
       "        vertical-align: top;\n",
       "    }\n",
       "\n",
       "    .dataframe thead th {\n",
       "        text-align: right;\n",
       "    }\n",
       "</style>\n",
       "<table border=\"1\" class=\"dataframe\">\n",
       "  <thead>\n",
       "    <tr style=\"text-align: right;\">\n",
       "      <th></th>\n",
       "      <th>text</th>\n",
       "      <th>subreddit</th>\n",
       "    </tr>\n",
       "  </thead>\n",
       "  <tbody>\n",
       "    <tr>\n",
       "      <th>7995</th>\n",
       "      <td>Galaxy Tabs / Books Do these devices allow you to install Google Chrome desktop version? Or is it the same slim app as my android phone uses?  I ask because I was looking into buying one of these for my job, however, I use a lot of Chrome extensions that can't be used with the mobile Chrome version.</td>\n",
       "      <td>1</td>\n",
       "    </tr>\n",
       "    <tr>\n",
       "      <th>7996</th>\n",
       "      <td>Issues sending &amp;amp; receiving pictures with overseas numbers I have an S20 and my friend has an S21. For months now pictures have been delayed for days or not showing up at all. I've talked with support and even switched service providers but it doesn't seem to be helping. Any ideas of how to fix this?</td>\n",
       "      <td>1</td>\n",
       "    </tr>\n",
       "    <tr>\n",
       "      <th>7997</th>\n",
       "      <td>Samsung notes no longer unlockable with fingerprint? Hello Everyone,   As the title says, now the app wants me to enter my email address or create a samsung account. Does anyone noticed this?</td>\n",
       "      <td>1</td>\n",
       "    </tr>\n",
       "    <tr>\n",
       "      <th>7998</th>\n",
       "      <td>When is the note 10 lite getting a ONE UI 3.1 update??? I know its been updated early March but I still haven't gotten it and I live in the middle East and been waiting for the update to come out. Will I be able to update it or is updates for my note 10 lite???</td>\n",
       "      <td>1</td>\n",
       "    </tr>\n",
       "    <tr>\n",
       "      <th>7999</th>\n",
       "      <td>Is it Crazy to switch from Note20U to the S21? So I bought my N20U when it released and though it is an amazing phone it is just way to big for me. I drop it alot, bump it on tables or falls out my hand  that it became an annoying daily struggle. I was thinking to switch to the s21 because I can get a great trade deal, but I was wondering if the switch would feel to much of a downgrade?  I'm scared that the FHD would become a thing for me since I now use the 2k resolution.   Any thoughts to share?</td>\n",
       "      <td>1</td>\n",
       "    </tr>\n",
       "  </tbody>\n",
       "</table>\n",
       "</div>"
      ],
      "text/plain": [
       "                                                                                                                                                                                                                                                                                                                                                                                                                                                                                                                        text  \\\n",
       "7995                                                                                                                                                                                                            Galaxy Tabs / Books Do these devices allow you to install Google Chrome desktop version? Or is it the same slim app as my android phone uses?  I ask because I was looking into buying one of these for my job, however, I use a lot of Chrome extensions that can't be used with the mobile Chrome version.   \n",
       "7996                                                                                                                                                                                                        Issues sending &amp; receiving pictures with overseas numbers I have an S20 and my friend has an S21. For months now pictures have been delayed for days or not showing up at all. I've talked with support and even switched service providers but it doesn't seem to be helping. Any ideas of how to fix this?   \n",
       "7997                                                                                                                                                                                                                                                                                                                         Samsung notes no longer unlockable with fingerprint? Hello Everyone,   As the title says, now the app wants me to enter my email address or create a samsung account. Does anyone noticed this?   \n",
       "7998                                                                                                                                                                                                                                                   When is the note 10 lite getting a ONE UI 3.1 update??? I know its been updated early March but I still haven't gotten it and I live in the middle East and been waiting for the update to come out. Will I be able to update it or is updates for my note 10 lite???   \n",
       "7999  Is it Crazy to switch from Note20U to the S21? So I bought my N20U when it released and though it is an amazing phone it is just way to big for me. I drop it alot, bump it on tables or falls out my hand  that it became an annoying daily struggle. I was thinking to switch to the s21 because I can get a great trade deal, but I was wondering if the switch would feel to much of a downgrade?  I'm scared that the FHD would become a thing for me since I now use the 2k resolution.   Any thoughts to share?   \n",
       "\n",
       "      subreddit  \n",
       "7995          1  \n",
       "7996          1  \n",
       "7997          1  \n",
       "7998          1  \n",
       "7999          1  "
      ]
     },
     "execution_count": 8,
     "metadata": {},
     "output_type": "execute_result"
    }
   ],
   "source": [
    "df.tail()"
   ]
  },
  {
   "cell_type": "markdown",
   "id": "28eeabaa",
   "metadata": {},
   "source": [
    "The target column has been changed to numbers."
   ]
  },
  {
   "cell_type": "markdown",
   "id": "1aea1bae",
   "metadata": {},
   "source": [
    "## Splitting the data\n",
    "\n",
    "The X portion of the data (features) will simply be the `text` column, and the y portion will be the `subreddit` column. The data is assigned as follows: "
   ]
  },
  {
   "cell_type": "code",
   "execution_count": 9,
   "id": "b06a6719",
   "metadata": {},
   "outputs": [],
   "source": [
    "X = df['text']\n",
    "y = df['subreddit']"
   ]
  },
  {
   "cell_type": "markdown",
   "id": "6f7b3c03",
   "metadata": {},
   "source": [
    "A train-test split is done on the data."
   ]
  },
  {
   "cell_type": "code",
   "execution_count": 10,
   "id": "7c3d2393",
   "metadata": {},
   "outputs": [],
   "source": [
    "X_train, X_test, y_train, y_test = train_test_split(X,\n",
    "                                                    y,\n",
    "                                                    test_size=0.25,\n",
    "                                                    random_state=123)"
   ]
  },
  {
   "cell_type": "markdown",
   "id": "7d76c425",
   "metadata": {},
   "source": [
    "The value counts of the target in the training set is as follows:"
   ]
  },
  {
   "cell_type": "code",
   "execution_count": 11,
   "id": "40bdcd4b",
   "metadata": {},
   "outputs": [
    {
     "data": {
      "text/plain": [
       "1    3007\n",
       "0    2993\n",
       "Name: subreddit, dtype: int64"
      ]
     },
     "execution_count": 11,
     "metadata": {},
     "output_type": "execute_result"
    }
   ],
   "source": [
    "y_train.value_counts()"
   ]
  },
  {
   "cell_type": "markdown",
   "id": "5904579c",
   "metadata": {},
   "source": [
    "As seen below, the classes are balanced. Therefore, we can go ahead with modelling without any compensation for class imbalances."
   ]
  },
  {
   "cell_type": "code",
   "execution_count": 12,
   "id": "92a418a4",
   "metadata": {
    "scrolled": true
   },
   "outputs": [
    {
     "data": {
      "text/plain": [
       "1    0.501167\n",
       "0    0.498833\n",
       "Name: subreddit, dtype: float64"
      ]
     },
     "execution_count": 12,
     "metadata": {},
     "output_type": "execute_result"
    }
   ],
   "source": [
    "y_train.value_counts(normalize=True)"
   ]
  },
  {
   "cell_type": "markdown",
   "id": "be53a84a",
   "metadata": {},
   "source": [
    "The value counts of the target in the test set is as follows:"
   ]
  },
  {
   "cell_type": "code",
   "execution_count": 13,
   "id": "ef9cf85b",
   "metadata": {
    "scrolled": true
   },
   "outputs": [
    {
     "data": {
      "text/plain": [
       "0    1007\n",
       "1     993\n",
       "Name: subreddit, dtype: int64"
      ]
     },
     "execution_count": 13,
     "metadata": {},
     "output_type": "execute_result"
    }
   ],
   "source": [
    "y_test.value_counts()"
   ]
  },
  {
   "cell_type": "markdown",
   "id": "f7a06606",
   "metadata": {},
   "source": [
    "As seen below, the classes are balanced. Therefore, we can go ahead with modelling without any compensation for class imbalances."
   ]
  },
  {
   "cell_type": "code",
   "execution_count": 14,
   "id": "6f385351",
   "metadata": {
    "scrolled": false
   },
   "outputs": [
    {
     "data": {
      "text/plain": [
       "0    0.5035\n",
       "1    0.4965\n",
       "Name: subreddit, dtype: float64"
      ]
     },
     "execution_count": 14,
     "metadata": {},
     "output_type": "execute_result"
    }
   ],
   "source": [
    "y_test.value_counts(normalize=True)"
   ]
  },
  {
   "cell_type": "markdown",
   "id": "41ae77af",
   "metadata": {},
   "source": [
    "## Text cleaning\n",
    "\n",
    "The function from the previous notebook will be used:"
   ]
  },
  {
   "cell_type": "code",
   "execution_count": 15,
   "id": "40d1a3ed",
   "metadata": {},
   "outputs": [],
   "source": [
    "stopwords = nltk.corpus.stopwords.words('english')\n",
    "\n",
    "wn = nltk.WordNetLemmatizer()\n",
    "\n",
    "def clean_text(text):\n",
    "    \n",
    "    # Removes words that are all numeric characters, or words mixed with numbers\n",
    "    text = re.sub(r'\\w*\\d\\w*', '', text)\n",
    "    \n",
    "    # Tokenisation and punctuation removal. \\W matches any non-word character (equivalent to [^a-zA-Z0-9_]).\n",
    "    # Since \\W does not match underscores, we specify '\\W+|_' (\\W or underscore).\n",
    "    # Splits the text at any of these non-word characters (or groups of them). \n",
    "    # The '+' is to handle cases where there are 2 or more non-word characters between certain words\n",
    "    tokens = re.split('\\W+|_', text)\n",
    " \n",
    "    # Removes all words that contain non-ASCII printable characters\n",
    "    ascii_chars = set(string.printable)\n",
    "    tokens =  [word for word in tokens if all(char in ascii_chars for char in word)]\n",
    "    \n",
    "    # Removes all empty strings, e.g. ''\n",
    "    tokens = [word for word in tokens if word]\n",
    "   \n",
    "    # Apply lemmatisation, lowercasing and stopwords exclusion within the same step.\n",
    "    tokens = [wn.lemmatize(word.lower()) for word in tokens if word.lower() not in stopwords] \n",
    "     \n",
    "    return tokens"
   ]
  },
  {
   "cell_type": "markdown",
   "id": "c7ba4756",
   "metadata": {},
   "source": [
    "## CountVectorizer \n",
    "\n",
    "After the `CountVectorizer` is applied, there can be more than 10,000 unique words. Therefore, some optimisation can be done for the `CountVectorizer`. \n",
    "\n",
    "Scikit-learn's `Pipeline` class allows us to create a pipeline where `GridSearchCV` can help us search over the possible parameters of the `CountVectorizer` that return the best model performance. The vectorizer can be set to only include the top words in the data according to a specified number, or only include words when they appear in a specified number of posts. It can also exclude words that are too common which appear in more than a specified percentage of posts.\n",
    "\n",
    "As this is a very resource-intensive operation, the vectorizer will be optimised on Multinomial Naive Bayes as a starting point, and we will use these parameters to generate an array. This reduced array will be used for subsequent modelling. \n",
    "\n",
    "The following code sets up the grid search."
   ]
  },
  {
   "cell_type": "code",
   "execution_count": 16,
   "id": "1ee4b154",
   "metadata": {},
   "outputs": [
    {
     "name": "stdout",
     "output_type": "stream",
     "text": [
      "Fitting 5 folds for each of 32 candidates, totalling 160 fits\n"
     ]
    },
    {
     "data": {
      "text/plain": [
       "GridSearchCV(cv=5,\n",
       "             estimator=Pipeline(steps=[('cvec',\n",
       "                                        CountVectorizer(analyzer=<function clean_text at 0x00000160A95D6DC0>)),\n",
       "                                       ('nb', MultinomialNB())]),\n",
       "             n_jobs=-1,\n",
       "             param_grid={'cvec__max_df': [0.9, 0.95],\n",
       "                         'cvec__max_features': [2000, 3000, 4000, 5000],\n",
       "                         'cvec__min_df': [2, 3],\n",
       "                         'cvec__ngram_range': [(1, 1), (1, 2)]},\n",
       "             verbose=1)"
      ]
     },
     "execution_count": 16,
     "metadata": {},
     "output_type": "execute_result"
    }
   ],
   "source": [
    "# Setting up the Pipeline with Multinomial Naive Bayes\n",
    "# The CountVectorizer uses the 'clean_text' function defined above\n",
    "pipe = Pipeline([\n",
    "    ('cvec', CountVectorizer(analyzer=clean_text)),\n",
    "    ('nb', MultinomialNB())\n",
    "])\n",
    "\n",
    "# Search over the following values of hyperparameters:\n",
    "# Maximum number of features fit: 2000, 3000, 4000, 5000\n",
    "# Minimum number of documents needed to include token: 2, 3\n",
    "# Maximum number of documents needed to include token: 90%, 95%\n",
    "# Try an array with (individual tokens) and also check (individual tokens and 2-grams).\n",
    "pipe_params = {\n",
    "    'cvec__max_features': [2_000, 3_000, 4_000, 5_000],\n",
    "    'cvec__min_df': [2, 3],\n",
    "    'cvec__max_df': [.9, .95],\n",
    "    'cvec__ngram_range': [(1,1), (1,2)]\n",
    "}\n",
    "\n",
    "# Instantiate GridSearchCV.\n",
    "gs = GridSearchCV(pipe, # The object being optimised\n",
    "                  param_grid=pipe_params, # The dictionary of paramters\n",
    "                  cv=5, # 5-fold cross-validation\n",
    "                  n_jobs=-1, # Use all available processors in computer\n",
    "                  verbose=1) # Generate more detailed output\n",
    "\n",
    "# Fit the pipeline to the training data.\n",
    "gs.fit(X_train, y_train)"
   ]
  },
  {
   "cell_type": "markdown",
   "id": "2285e1ee",
   "metadata": {},
   "source": [
    "The model's score on the training set:"
   ]
  },
  {
   "cell_type": "code",
   "execution_count": 17,
   "id": "342afb7e",
   "metadata": {},
   "outputs": [
    {
     "data": {
      "text/plain": [
       "0.9491666666666667"
      ]
     },
     "execution_count": 17,
     "metadata": {},
     "output_type": "execute_result"
    }
   ],
   "source": [
    "gs.score(X_train, y_train)"
   ]
  },
  {
   "cell_type": "markdown",
   "id": "e481f2c7",
   "metadata": {},
   "source": [
    "The model's score on the test set:"
   ]
  },
  {
   "cell_type": "code",
   "execution_count": 18,
   "id": "d36ea313",
   "metadata": {
    "scrolled": true
   },
   "outputs": [
    {
     "data": {
      "text/plain": [
       "0.947"
      ]
     },
     "execution_count": 18,
     "metadata": {},
     "output_type": "execute_result"
    }
   ],
   "source": [
    "gs.score(X_test, y_test)"
   ]
  },
  {
   "cell_type": "markdown",
   "id": "625cde5d",
   "metadata": {},
   "source": [
    "These are the best parameters for the `CountVectorizer`."
   ]
  },
  {
   "cell_type": "code",
   "execution_count": 19,
   "id": "90577a17",
   "metadata": {},
   "outputs": [
    {
     "data": {
      "text/plain": [
       "{'cvec__max_df': 0.9,\n",
       " 'cvec__max_features': 2000,\n",
       " 'cvec__min_df': 3,\n",
       " 'cvec__ngram_range': (1, 1)}"
      ]
     },
     "execution_count": 19,
     "metadata": {},
     "output_type": "execute_result"
    }
   ],
   "source": [
    "gs.best_params_"
   ]
  },
  {
   "cell_type": "markdown",
   "id": "58287114",
   "metadata": {},
   "source": [
    "We will use these parameters to generate an optimised array for subsequent modelling. It seems that we can drastically reduce the number of words used by the model, and bigrams are not better than unigrams in this case. "
   ]
  },
  {
   "cell_type": "code",
   "execution_count": 20,
   "id": "40d5196c",
   "metadata": {},
   "outputs": [],
   "source": [
    "count_vect = CountVectorizer(analyzer=clean_text, \n",
    "                             max_features=2000, \n",
    "                             min_df=3, \n",
    "                             max_df=0.9)\n",
    "\n",
    "X_train_c = count_vect.fit_transform(X_train)\n",
    "X_test_c = count_vect.transform(X_test)"
   ]
  },
  {
   "cell_type": "markdown",
   "id": "16ba0256",
   "metadata": {},
   "source": [
    "## TfidfVectorizer \n",
    "\n",
    "After the `TfidfVectorizer` is applied, there can be more than 10,000 unique words. Therefore, some optimisation can be done for the `TfidfVectorizer` in the same manner as before.\n",
    "\n",
    "As this is a very resource-intensive operation, the vectorizer will be optimised on Multinomial Naive Bayes as a starting point, and we will use these parameters to generate an array. This reduced array will be used for subsequent modelling. \n",
    "\n",
    "The following code sets up the grid search."
   ]
  },
  {
   "cell_type": "code",
   "execution_count": 21,
   "id": "0ee7298f",
   "metadata": {},
   "outputs": [
    {
     "name": "stdout",
     "output_type": "stream",
     "text": [
      "Fitting 5 folds for each of 32 candidates, totalling 160 fits\n"
     ]
    },
    {
     "data": {
      "text/plain": [
       "GridSearchCV(cv=5,\n",
       "             estimator=Pipeline(steps=[('tvec',\n",
       "                                        TfidfVectorizer(analyzer=<function clean_text at 0x00000160A95D6DC0>)),\n",
       "                                       ('nb', MultinomialNB())]),\n",
       "             n_jobs=-1,\n",
       "             param_grid={'tvec__max_df': [0.9, 0.95],\n",
       "                         'tvec__max_features': [2000, 3000, 4000, 5000],\n",
       "                         'tvec__min_df': [2, 3],\n",
       "                         'tvec__ngram_range': [(1, 1), (1, 2)]},\n",
       "             verbose=1)"
      ]
     },
     "execution_count": 21,
     "metadata": {},
     "output_type": "execute_result"
    }
   ],
   "source": [
    "# Setting up the Pipeline with Multinomial Naive Bayes\n",
    "# The TfidfVectorizer uses the 'clean_text' function defined above\n",
    "pipe_tvec = Pipeline([\n",
    "    ('tvec', TfidfVectorizer(analyzer=clean_text)),\n",
    "    ('nb', MultinomialNB())\n",
    "])\n",
    "\n",
    "# Search over the following values of hyperparameters:\n",
    "# Maximum number of features fit: 2000, 3000, 4000, 5000\n",
    "# Minimum number of documents needed to include token: 2, 3\n",
    "# Maximum number of documents needed to include token: 90%, 95%\n",
    "# Try an array with (individual tokens) and also check (individual tokens and 2-grams).\n",
    "pipe_tvec_params = {\n",
    "    'tvec__max_features': [2_000, 3_000, 4_000, 5_000],\n",
    "    'tvec__min_df': [2, 3],\n",
    "    'tvec__max_df': [.9, .95],\n",
    "    'tvec__ngram_range': [(1,1), (1,2)]\n",
    "}\n",
    "\n",
    "# Instantiate GridSearchCV.\n",
    "gs_tvec = GridSearchCV(pipe_tvec, # The object being optimised\n",
    "                       param_grid=pipe_tvec_params, # The dictionary of paramters\n",
    "                       cv=5, # 5-fold cross-validation\n",
    "                       n_jobs=-1, # Use all available processors in computer\n",
    "                       verbose=1) # Generate more detailed output\n",
    "\n",
    "# Fit the pipeline to the training data.\n",
    "gs_tvec.fit(X_train, y_train)"
   ]
  },
  {
   "cell_type": "markdown",
   "id": "e6cd98a2",
   "metadata": {},
   "source": [
    "The model's score on the training set:"
   ]
  },
  {
   "cell_type": "code",
   "execution_count": 22,
   "id": "428d52ee",
   "metadata": {},
   "outputs": [
    {
     "data": {
      "text/plain": [
       "0.9505"
      ]
     },
     "execution_count": 22,
     "metadata": {},
     "output_type": "execute_result"
    }
   ],
   "source": [
    "gs_tvec.score(X_train, y_train)"
   ]
  },
  {
   "cell_type": "markdown",
   "id": "37814905",
   "metadata": {},
   "source": [
    "The model's score on the test set:"
   ]
  },
  {
   "cell_type": "code",
   "execution_count": 23,
   "id": "9b703079",
   "metadata": {},
   "outputs": [
    {
     "data": {
      "text/plain": [
       "0.927"
      ]
     },
     "execution_count": 23,
     "metadata": {},
     "output_type": "execute_result"
    }
   ],
   "source": [
    "gs_tvec.score(X_test, y_test)"
   ]
  },
  {
   "cell_type": "markdown",
   "id": "0d3ddbdc",
   "metadata": {},
   "source": [
    "These are the best parameters for the `TfidfVectorizer`."
   ]
  },
  {
   "cell_type": "code",
   "execution_count": 24,
   "id": "098331ef",
   "metadata": {
    "scrolled": true
   },
   "outputs": [
    {
     "data": {
      "text/plain": [
       "{'tvec__max_df': 0.9,\n",
       " 'tvec__max_features': 4000,\n",
       " 'tvec__min_df': 2,\n",
       " 'tvec__ngram_range': (1, 1)}"
      ]
     },
     "execution_count": 24,
     "metadata": {},
     "output_type": "execute_result"
    }
   ],
   "source": [
    "gs_tvec.best_params_"
   ]
  },
  {
   "cell_type": "markdown",
   "id": "c91f3cd0",
   "metadata": {},
   "source": [
    "We will use these parameters to generate an optimised array for subsequent modelling. It seems that we can drastically reduce the number of words used by the model, and bigrams are not better than unigrams in this case. "
   ]
  },
  {
   "cell_type": "code",
   "execution_count": 25,
   "id": "3cd5d96c",
   "metadata": {},
   "outputs": [],
   "source": [
    "tfidf_vect = TfidfVectorizer(analyzer=clean_text, \n",
    "                             max_features=4000, \n",
    "                             min_df=2, \n",
    "                             max_df=0.9)\n",
    "\n",
    "X_train_t = tfidf_vect.fit_transform(X_train)\n",
    "X_test_t = tfidf_vect.transform(X_test)"
   ]
  },
  {
   "cell_type": "markdown",
   "id": "dca17b44",
   "metadata": {},
   "source": [
    "# Dummy Classifier \n",
    "\n",
    "This is a classifier that will always only predict the dominant class of the data it was trained on, when given a test set. We can use it to establish the baseline performance for a model. \n",
    "\n",
    "Below, we instantiate and fit the model. We are using the count-vectorized data here."
   ]
  },
  {
   "cell_type": "code",
   "execution_count": 26,
   "id": "0f75afff",
   "metadata": {
    "scrolled": true
   },
   "outputs": [
    {
     "data": {
      "text/plain": [
       "DummyClassifier()"
      ]
     },
     "execution_count": 26,
     "metadata": {},
     "output_type": "execute_result"
    }
   ],
   "source": [
    "dum = DummyClassifier()\n",
    "dum.fit(X_train_c, y_train)"
   ]
  },
  {
   "cell_type": "markdown",
   "id": "96f28166",
   "metadata": {},
   "source": [
    "This is the model's score on the training set. The score for a classifier refers to the accuracy score, which represents how many posts the model predicts correctly, divided by the total number of predictions made."
   ]
  },
  {
   "cell_type": "code",
   "execution_count": 27,
   "id": "eb7328ac",
   "metadata": {},
   "outputs": [
    {
     "data": {
      "text/plain": [
       "0.5011666666666666"
      ]
     },
     "execution_count": 27,
     "metadata": {},
     "output_type": "execute_result"
    }
   ],
   "source": [
    "dum.score(X_train_c, y_train)"
   ]
  },
  {
   "cell_type": "markdown",
   "id": "ea760cee",
   "metadata": {},
   "source": [
    "This is the model's score on the test set."
   ]
  },
  {
   "cell_type": "code",
   "execution_count": 28,
   "id": "0a19ff76",
   "metadata": {},
   "outputs": [
    {
     "data": {
      "text/plain": [
       "0.4965"
      ]
     },
     "execution_count": 28,
     "metadata": {},
     "output_type": "execute_result"
    }
   ],
   "source": [
    "y_pred_dum = dum.predict(X_test_c)\n",
    "accuracy_score(y_test, y_pred_dum)"
   ]
  },
  {
   "cell_type": "markdown",
   "id": "46cedc81",
   "metadata": {},
   "source": [
    "The dominant class in the training data was Class 1 (Samsung)."
   ]
  },
  {
   "cell_type": "code",
   "execution_count": 29,
   "id": "99b7b042",
   "metadata": {},
   "outputs": [
    {
     "data": {
      "text/plain": [
       "1    0.501167\n",
       "0    0.498833\n",
       "Name: subreddit, dtype: float64"
      ]
     },
     "execution_count": 29,
     "metadata": {},
     "output_type": "execute_result"
    }
   ],
   "source": [
    "y_train.value_counts(normalize=True)"
   ]
  },
  {
   "cell_type": "markdown",
   "id": "e5d6e0e0",
   "metadata": {},
   "source": [
    "Class 1 makes up 49.65% of the test set."
   ]
  },
  {
   "cell_type": "code",
   "execution_count": 30,
   "id": "eb463d81",
   "metadata": {},
   "outputs": [
    {
     "data": {
      "text/plain": [
       "0    0.5035\n",
       "1    0.4965\n",
       "Name: subreddit, dtype: float64"
      ]
     },
     "execution_count": 30,
     "metadata": {},
     "output_type": "execute_result"
    }
   ],
   "source": [
    "y_test.value_counts(normalize=True)"
   ]
  },
  {
   "cell_type": "markdown",
   "id": "5fbd52f0",
   "metadata": {},
   "source": [
    "Hence, this explains the accuracy score of 0.4965. Accuracy is defined with respect to predicting Class 1.\n",
    "\n",
    "The classification report is shown below. The F1 score is the harmonic mean of the precision and recall. A low precision means there are many false positives, and a low recall means there are many false negatives. The F1 score integrates both metrics. "
   ]
  },
  {
   "cell_type": "code",
   "execution_count": 31,
   "id": "551c21de",
   "metadata": {
    "scrolled": true
   },
   "outputs": [
    {
     "name": "stdout",
     "output_type": "stream",
     "text": [
      "              precision    recall  f1-score   support\n",
      "\n",
      "       Apple      0.000     0.000     0.000      1007\n",
      "     Samsung      0.496     1.000     0.664       993\n",
      "\n",
      "    accuracy                          0.496      2000\n",
      "   macro avg      0.248     0.500     0.332      2000\n",
      "weighted avg      0.247     0.496     0.329      2000\n",
      "\n"
     ]
    }
   ],
   "source": [
    "print(metrics.classification_report(y_test,\n",
    "                                    y_pred_dum,\n",
    "                                    digits=3,\n",
    "                                    target_names=['Apple', 'Samsung'],\n",
    "                                    zero_division=0))"
   ]
  },
  {
   "cell_type": "markdown",
   "id": "55cbd155",
   "metadata": {},
   "source": [
    "The area under the receiver operating characteristic (ROC) curve is as follows:"
   ]
  },
  {
   "cell_type": "code",
   "execution_count": 32,
   "id": "f2a1ee01",
   "metadata": {},
   "outputs": [
    {
     "data": {
      "text/plain": [
       "0.5"
      ]
     },
     "execution_count": 32,
     "metadata": {},
     "output_type": "execute_result"
    }
   ],
   "source": [
    "y_prob_dum = dum.predict_proba(X_test_c)[:,1]\n",
    "roc_auc_score(y_test, y_prob_dum)"
   ]
  },
  {
   "cell_type": "markdown",
   "id": "8088bf96",
   "metadata": {},
   "source": [
    "The score gets better when there are more true positives and less false positives. A perfect score is 1 and a baseline score is 0.5. This is a baseline ROC AUC score. "
   ]
  },
  {
   "cell_type": "code",
   "execution_count": 33,
   "id": "50f1c48a",
   "metadata": {},
   "outputs": [
    {
     "data": {
      "image/png": "[encoded data removed]",
      "text/plain": [
       "<Figure size 432x432 with 2 Axes>"
      ]
     },
     "metadata": {
      "image/png": {
       "height": 361,
       "width": 410
      }
     },
     "output_type": "display_data"
    }
   ],
   "source": [
    "dum_cm = metrics.confusion_matrix(y_test, y_pred_dum)\n",
    "\n",
    "plt.figure(figsize=(6,6))\n",
    "sns.heatmap(dum_cm,\n",
    "            annot=True,\n",
    "            fmt='.0f',\n",
    "            linewidths=.5,\n",
    "            square = True,\n",
    "            cmap = 'Blues',\n",
    "            xticklabels = ['Apple', 'Samsung'],\n",
    "            yticklabels = ['Apple', 'Samsung'],\n",
    "            );\n",
    "\n",
    "plt.ylabel('Actual label', fontsize=17);\n",
    "plt.xlabel('Predicted label', fontsize=17);\n",
    "plt.title('Dummy Classifier', fontsize=20);\n",
    "plt.tick_params(labelsize=15)"
   ]
  },
  {
   "cell_type": "markdown",
   "id": "ce61cabc",
   "metadata": {},
   "source": [
    "This is the confusion matrix, which shows that the model only predicted Samsung regardless of the post."
   ]
  },
  {
   "cell_type": "markdown",
   "id": "ad934172",
   "metadata": {},
   "source": [
    "# Multinomial Naive-Bayes \n",
    "\n",
    "Naive Bayes calculates the probability that a word is either from Apple or Samsung given the words that are in the post. It assumes that predictors (the words) are independent of each other (this is not true in reality) and that past conditions still hold true. It uses Bayes' theorem. \n",
    "\n",
    "There is Bernoulli Naive Bayes, Multinomial Naive Bayes and Gaussian Naive Bayes. Multinomial Naive Bayes will be used, as Bernoulli is for when variables are either 0 or 1 (like dummy variables), and Gaussian works best when variables are normally distributed. Multinomial Naive Bayes is appropriate as our variables are positive integer counts.\n",
    "\n",
    "Below, we want to use `GridSeachCV` to optmise for the following hyperparameters. We will define a function for Grid Search Cross-Validation to aid in modelling:"
   ]
  },
  {
   "cell_type": "code",
   "execution_count": 34,
   "id": "107d4b78",
   "metadata": {},
   "outputs": [],
   "source": [
    "def grid_searcher(X_train, y_train, X_test, y_test, params, model):\n",
    "\n",
    "    grid = GridSearchCV(model,\n",
    "                        params,\n",
    "                        cv=5,\n",
    "                        n_jobs=-1) # Uses all available processors\n",
    "    \n",
    "    print('GridSearchCV on', model)\n",
    "    \n",
    "    grid.fit(X_train, y_train)\n",
    "    \n",
    "    print('Cross-validated training score (5-fold):', \n",
    "          cross_val_score(grid, X_train, y_train, cv=5).mean())\n",
    "    print('Training score:', grid.score(X_train, y_train))\n",
    "    print('Testing score:', grid.score(X_test, y_test))\n",
    "    print('Best parameters:', grid.best_params_) "
   ]
  },
  {
   "cell_type": "markdown",
   "id": "3d9b0eed",
   "metadata": {},
   "source": [
    "The alpha parameter is the intensity of the Laplace smoothing parameter. This is to tackle the case where there are new words in the unseen data that the model has not trained on. If there is no Laplace smoothing, the model will assign a prior probability of zero to those words. This means the model will effectively ignore them. Adding Laplace smoothing is a correction to ensure that a zero probability will not be assigned to unseen words. \n",
    "\n",
    "`GridSearchCV` will be used to find the optimal alpha value. First, we will try this on the data where `CountVectorizer` was used,.and then on the data where `TfidfVectorizer` was used.\n",
    "\n",
    "## Count-vectorized data"
   ]
  },
  {
   "cell_type": "code",
   "execution_count": 35,
   "id": "2b7f02e9",
   "metadata": {},
   "outputs": [
    {
     "name": "stdout",
     "output_type": "stream",
     "text": [
      "GridSearchCV on MultinomialNB()\n",
      "Cross-validated training score (5-fold): 0.9313333333333332\n",
      "Training score: 0.9491666666666667\n",
      "Testing score: 0.9455\n",
      "Best parameters: {'alpha': 0.5}\n"
     ]
    }
   ],
   "source": [
    "mnb_params = {'alpha': [0.1, 0.2, 0.3, 0.4, 0.5, 0.6, 0.7, 0.8, 0.9, 1.0]\n",
    "             }\n",
    "    \n",
    "grid_searcher(X_train_c,\n",
    "              y_train,\n",
    "              X_test_c,\n",
    "              y_test,\n",
    "              mnb_params,\n",
    "              MultinomialNB())"
   ]
  },
  {
   "cell_type": "markdown",
   "id": "562b4c82",
   "metadata": {},
   "source": [
    "## TFIDF-vectorized data"
   ]
  },
  {
   "cell_type": "code",
   "execution_count": 36,
   "id": "cb2d0937",
   "metadata": {},
   "outputs": [
    {
     "name": "stdout",
     "output_type": "stream",
     "text": [
      "GridSearchCV on MultinomialNB()\n",
      "Cross-validated training score (5-fold): 0.9188333333333334\n",
      "Training score: 0.9505\n",
      "Testing score: 0.927\n",
      "Best parameters: {'alpha': 1.0}\n"
     ]
    }
   ],
   "source": [
    "grid_searcher(X_train_t,\n",
    "              y_train,\n",
    "              X_test_t,\n",
    "              y_test,\n",
    "              mnb_params,\n",
    "              MultinomialNB())"
   ]
  },
  {
   "cell_type": "markdown",
   "id": "2d3c3c77",
   "metadata": {},
   "source": [
    "`CountVectorizer` is better here, from the test score. The cross-validated score is not far off from it as well, which indicates the test score is reliable. The test accuracy is very close to the train accuracy for the count-vectorized data, which means the model is not overfitting. \n",
    "\n",
    "## Metrics\n",
    "\n",
    "We will fit the model with these parameters and get more evaluation metrics."
   ]
  },
  {
   "cell_type": "code",
   "execution_count": 37,
   "id": "8df41866",
   "metadata": {
    "scrolled": true
   },
   "outputs": [
    {
     "data": {
      "text/plain": [
       "MultinomialNB(alpha=0.5)"
      ]
     },
     "execution_count": 37,
     "metadata": {},
     "output_type": "execute_result"
    }
   ],
   "source": [
    "mnb = MultinomialNB(alpha=0.5)\n",
    "mnb.fit(X_train_c, y_train)"
   ]
  },
  {
   "cell_type": "markdown",
   "id": "102d8424",
   "metadata": {},
   "source": [
    "The classification report is shown below."
   ]
  },
  {
   "cell_type": "code",
   "execution_count": 38,
   "id": "8e312083",
   "metadata": {},
   "outputs": [
    {
     "name": "stdout",
     "output_type": "stream",
     "text": [
      "              precision    recall  f1-score   support\n",
      "\n",
      "       Apple      0.963     0.928     0.945      1007\n",
      "     Samsung      0.929     0.964     0.946       993\n",
      "\n",
      "    accuracy                          0.946      2000\n",
      "   macro avg      0.946     0.946     0.945      2000\n",
      "weighted avg      0.946     0.946     0.945      2000\n",
      "\n"
     ]
    }
   ],
   "source": [
    "y_pred_mnb = mnb.predict(X_test_c)\n",
    "print(metrics.classification_report(y_test,\n",
    "                                    y_pred_mnb,\n",
    "                                    digits=3,\n",
    "                                    target_names=['Apple', 'Samsung'],\n",
    "                                    zero_division=0))"
   ]
  },
  {
   "cell_type": "markdown",
   "id": "ee04ba2c",
   "metadata": {},
   "source": [
    "The area under the ROC curve is as follows:"
   ]
  },
  {
   "cell_type": "code",
   "execution_count": 39,
   "id": "5f2cc018",
   "metadata": {},
   "outputs": [
    {
     "data": {
      "text/plain": [
       "0.984258228653204"
      ]
     },
     "execution_count": 39,
     "metadata": {},
     "output_type": "execute_result"
    }
   ],
   "source": [
    "y_prob_mnb = mnb.predict_proba(X_test_c)[:,1]\n",
    "roc_auc_score(y_test, y_prob_mnb)"
   ]
  },
  {
   "cell_type": "markdown",
   "id": "cefbaf1c",
   "metadata": {},
   "source": [
    "This is a high ROC AUC score.\n",
    "\n",
    "We can get the log probabilities to see which of the words were the most significant predictors for their class."
   ]
  },
  {
   "cell_type": "code",
   "execution_count": 40,
   "id": "bd1fd078",
   "metadata": {},
   "outputs": [
    {
     "data": {
      "text/html": [
       "<div>\n",
       "<style scoped>\n",
       "    .dataframe tbody tr th:only-of-type {\n",
       "        vertical-align: middle;\n",
       "    }\n",
       "\n",
       "    .dataframe tbody tr th {\n",
       "        vertical-align: top;\n",
       "    }\n",
       "\n",
       "    .dataframe thead th {\n",
       "        text-align: right;\n",
       "    }\n",
       "</style>\n",
       "<table border=\"1\" class=\"dataframe\">\n",
       "  <thead>\n",
       "    <tr style=\"text-align: right;\">\n",
       "      <th></th>\n",
       "      <th>Apple</th>\n",
       "      <th>Samsung</th>\n",
       "    </tr>\n",
       "  </thead>\n",
       "  <tbody>\n",
       "    <tr>\n",
       "      <th>0</th>\n",
       "      <td>apple</td>\n",
       "      <td>samsung</td>\n",
       "    </tr>\n",
       "    <tr>\n",
       "      <th>1</th>\n",
       "      <td>iphone</td>\n",
       "      <td>phone</td>\n",
       "    </tr>\n",
       "    <tr>\n",
       "      <th>2</th>\n",
       "      <td>pro</td>\n",
       "      <td>galaxy</td>\n",
       "    </tr>\n",
       "    <tr>\n",
       "      <th>3</th>\n",
       "      <td>app</td>\n",
       "      <td>get</td>\n",
       "    </tr>\n",
       "    <tr>\n",
       "      <th>4</th>\n",
       "      <td>new</td>\n",
       "      <td>anyone</td>\n",
       "    </tr>\n",
       "    <tr>\n",
       "      <th>5</th>\n",
       "      <td>get</td>\n",
       "      <td>like</td>\n",
       "    </tr>\n",
       "    <tr>\n",
       "      <th>6</th>\n",
       "      <td>phone</td>\n",
       "      <td>screen</td>\n",
       "    </tr>\n",
       "    <tr>\n",
       "      <th>7</th>\n",
       "      <td>like</td>\n",
       "      <td>one</td>\n",
       "    </tr>\n",
       "    <tr>\n",
       "      <th>8</th>\n",
       "      <td>macbook</td>\n",
       "      <td>new</td>\n",
       "    </tr>\n",
       "    <tr>\n",
       "      <th>9</th>\n",
       "      <td>would</td>\n",
       "      <td>know</td>\n",
       "    </tr>\n",
       "    <tr>\n",
       "      <th>10</th>\n",
       "      <td>one</td>\n",
       "      <td>use</td>\n",
       "    </tr>\n",
       "    <tr>\n",
       "      <th>11</th>\n",
       "      <td>know</td>\n",
       "      <td>ultra</td>\n",
       "    </tr>\n",
       "    <tr>\n",
       "      <th>12</th>\n",
       "      <td>use</td>\n",
       "      <td>app</td>\n",
       "    </tr>\n",
       "    <tr>\n",
       "      <th>13</th>\n",
       "      <td>time</td>\n",
       "      <td>would</td>\n",
       "    </tr>\n",
       "    <tr>\n",
       "      <th>14</th>\n",
       "      <td>ipad</td>\n",
       "      <td>note</td>\n",
       "    </tr>\n",
       "  </tbody>\n",
       "</table>\n",
       "</div>"
      ],
      "text/plain": [
       "      Apple  Samsung\n",
       "0     apple  samsung\n",
       "1    iphone    phone\n",
       "2       pro   galaxy\n",
       "3       app      get\n",
       "4       new   anyone\n",
       "5       get     like\n",
       "6     phone   screen\n",
       "7      like      one\n",
       "8   macbook      new\n",
       "9     would     know\n",
       "10      one      use\n",
       "11     know    ultra\n",
       "12      use      app\n",
       "13     time    would\n",
       "14     ipad     note"
      ]
     },
     "execution_count": 40,
     "metadata": {},
     "output_type": "execute_result"
    }
   ],
   "source": [
    "# Get the sorted probabilities for the respective classes (decreasing order)\n",
    "apple_prob = mnb.feature_log_prob_[0, :].argsort()[::-1]\n",
    "samsung_prob = mnb.feature_log_prob_[1, :].argsort()[::-1]\n",
    "\n",
    "# Combining the probabilities with their feature names into their own DataFrame (top 15 for each)\n",
    "ap_prob = pd.DataFrame(np.take(count_vect.get_feature_names(), apple_prob[:15]))\n",
    "ss_prob = pd.DataFrame(np.take(count_vect.get_feature_names(), samsung_prob[:15]))\n",
    "\n",
    "# Combining the DataFrames and naming the columns\n",
    "mnb_probs = pd.concat([ap_prob, ss_prob], axis=1)\n",
    "mnb_probs.columns = ['Apple','Samsung']\n",
    "mnb_probs"
   ]
  },
  {
   "cell_type": "markdown",
   "id": "05902e39",
   "metadata": {},
   "source": [
    "From this, we can see that the most significant predictors for each of the subreddits are the brand names, and some product names. For Apple, it seems that the word 'app' ranks highly as compared to for Samsung. This could be because of the Apple app ecosystem and its App Store, as pointed out in the Background and Research."
   ]
  },
  {
   "cell_type": "markdown",
   "id": "74759400",
   "metadata": {},
   "source": [
    "# Logistic Regression \n",
    "\n",
    "Logistic regression uses a sigmoid curve to predict the outcome as either 0 or 1. It is a model used for binary classification. \n",
    "\n",
    "We will use `GridSeachCV` to optimise the following hyperparameters. The form of regularisation penalty to penalise overly-strong coefficents will be optimised, and also the 'C' parameter. The 'C' parameter is the inverse of the regularisation strength, so as to add further tuning to the regularisation. \n",
    "\n",
    "## Count-vectorized data"
   ]
  },
  {
   "cell_type": "code",
   "execution_count": 41,
   "id": "1586b47a",
   "metadata": {},
   "outputs": [
    {
     "name": "stdout",
     "output_type": "stream",
     "text": [
      "GridSearchCV on LogisticRegression()\n",
      "Cross-validated training score (5-fold): 0.9426666666666668\n",
      "Training score: 0.9773333333333334\n",
      "Testing score: 0.9485\n",
      "Best parameters: {'C': 0.1, 'penalty': 'l2', 'random_state': 123, 'solver': 'liblinear'}\n"
     ]
    }
   ],
   "source": [
    "log_params = {'penalty': ['l1', 'l2', 'None'], \n",
    "              'C': [0.01,0.1,1,10,100],\n",
    "              'solver': ['liblinear'],\n",
    "              'random_state': [123]\n",
    "             }\n",
    "\n",
    "grid_searcher(X_train_c,\n",
    "              y_train,\n",
    "              X_test_c,\n",
    "              y_test,\n",
    "              log_params,\n",
    "              LogisticRegression())"
   ]
  },
  {
   "cell_type": "markdown",
   "id": "d3fa3edc",
   "metadata": {},
   "source": [
    "## TFIDF-vectorized data"
   ]
  },
  {
   "cell_type": "code",
   "execution_count": 42,
   "id": "218f5f49",
   "metadata": {},
   "outputs": [
    {
     "name": "stdout",
     "output_type": "stream",
     "text": [
      "GridSearchCV on LogisticRegression()\n",
      "Cross-validated training score (5-fold): 0.9406666666666667\n",
      "Training score: 0.973\n",
      "Testing score: 0.956\n",
      "Best parameters: {'C': 1, 'penalty': 'l2', 'random_state': 123, 'solver': 'liblinear'}\n"
     ]
    }
   ],
   "source": [
    "grid_searcher(X_train_t,\n",
    "              y_train,\n",
    "              X_test_t,\n",
    "              y_test,\n",
    "              log_params,\n",
    "              LogisticRegression())"
   ]
  },
  {
   "cell_type": "markdown",
   "id": "44dce779",
   "metadata": {},
   "source": [
    "`TfidfVectorizer` is better here, from the test score. The cross-validated score is not far off from it as well, which indicates the test score is reliable. \n",
    "\n",
    "## Metrics\n",
    "\n",
    "We will fit the model with these parameters and get more evaluation metrics."
   ]
  },
  {
   "cell_type": "code",
   "execution_count": 43,
   "id": "aeb8f850",
   "metadata": {},
   "outputs": [
    {
     "data": {
      "text/plain": [
       "LogisticRegression(C=1, random_state=123, solver='liblinear')"
      ]
     },
     "execution_count": 43,
     "metadata": {},
     "output_type": "execute_result"
    }
   ],
   "source": [
    "logreg = LogisticRegression(C=1,\n",
    "                            penalty='l2',\n",
    "                            solver='liblinear',\n",
    "                            random_state=123)\n",
    "\n",
    "logreg.fit(X_train_t, y_train)"
   ]
  },
  {
   "cell_type": "markdown",
   "id": "22e43023",
   "metadata": {},
   "source": [
    "The classification report is shown below."
   ]
  },
  {
   "cell_type": "code",
   "execution_count": 44,
   "id": "53cc0594",
   "metadata": {},
   "outputs": [
    {
     "name": "stdout",
     "output_type": "stream",
     "text": [
      "              precision    recall  f1-score   support\n",
      "\n",
      "       Apple      0.967     0.944     0.956      1007\n",
      "     Samsung      0.945     0.968     0.956       993\n",
      "\n",
      "    accuracy                          0.956      2000\n",
      "   macro avg      0.956     0.956     0.956      2000\n",
      "weighted avg      0.956     0.956     0.956      2000\n",
      "\n"
     ]
    }
   ],
   "source": [
    "y_pred_logreg = logreg.predict(X_test_t)\n",
    "print(metrics.classification_report(y_test,\n",
    "                                    y_pred_logreg,\n",
    "                                    digits=3,\n",
    "                                    target_names=['Apple', 'Samsung'],\n",
    "                                    zero_division=0))"
   ]
  },
  {
   "cell_type": "markdown",
   "id": "ea90f714",
   "metadata": {},
   "source": [
    "The area under the ROC curve is as follows:"
   ]
  },
  {
   "cell_type": "code",
   "execution_count": 45,
   "id": "782b2983",
   "metadata": {},
   "outputs": [
    {
     "data": {
      "text/plain": [
       "0.9907245455027297"
      ]
     },
     "execution_count": 45,
     "metadata": {},
     "output_type": "execute_result"
    }
   ],
   "source": [
    "y_prob_logreg = logreg.predict_proba(X_test_t)[:,1]\n",
    "roc_auc_score(y_test, y_prob_logreg)"
   ]
  },
  {
   "cell_type": "markdown",
   "id": "189a3fa7",
   "metadata": {},
   "source": [
    "This is a high ROC AUC score.\n",
    "\n",
    "We can get the feature importances to see which of the words were the most significant predictors for their class."
   ]
  },
  {
   "cell_type": "code",
   "execution_count": 46,
   "id": "867bee26",
   "metadata": {
    "scrolled": false
   },
   "outputs": [
    {
     "data": {
      "text/html": [
       "<div>\n",
       "<style scoped>\n",
       "    .dataframe tbody tr th:only-of-type {\n",
       "        vertical-align: middle;\n",
       "    }\n",
       "\n",
       "    .dataframe tbody tr th {\n",
       "        vertical-align: top;\n",
       "    }\n",
       "\n",
       "    .dataframe thead th {\n",
       "        text-align: right;\n",
       "    }\n",
       "</style>\n",
       "<table border=\"1\" class=\"dataframe\">\n",
       "  <thead>\n",
       "    <tr style=\"text-align: right;\">\n",
       "      <th></th>\n",
       "      <th>Coefficients</th>\n",
       "      <th>Words</th>\n",
       "    </tr>\n",
       "  </thead>\n",
       "  <tbody>\n",
       "    <tr>\n",
       "      <th>3032</th>\n",
       "      <td>525257.229466</td>\n",
       "      <td>samsung</td>\n",
       "    </tr>\n",
       "    <tr>\n",
       "      <th>1465</th>\n",
       "      <td>1981.347770</td>\n",
       "      <td>galaxy</td>\n",
       "    </tr>\n",
       "    <tr>\n",
       "      <th>3699</th>\n",
       "      <td>380.656910</td>\n",
       "      <td>ultra</td>\n",
       "    </tr>\n",
       "    <tr>\n",
       "      <th>2500</th>\n",
       "      <td>52.795805</td>\n",
       "      <td>phone</td>\n",
       "    </tr>\n",
       "    <tr>\n",
       "      <th>424</th>\n",
       "      <td>23.571214</td>\n",
       "      <td>bud</td>\n",
       "    </tr>\n",
       "    <tr>\n",
       "      <th>1291</th>\n",
       "      <td>18.846937</td>\n",
       "      <td>fe</td>\n",
       "    </tr>\n",
       "    <tr>\n",
       "      <th>2304</th>\n",
       "      <td>13.475384</td>\n",
       "      <td>note</td>\n",
       "    </tr>\n",
       "    <tr>\n",
       "      <th>3679</th>\n",
       "      <td>11.402270</td>\n",
       "      <td>tv</td>\n",
       "    </tr>\n",
       "    <tr>\n",
       "      <th>1370</th>\n",
       "      <td>11.222713</td>\n",
       "      <td>flip</td>\n",
       "    </tr>\n",
       "    <tr>\n",
       "      <th>1383</th>\n",
       "      <td>11.212334</td>\n",
       "      <td>fold</td>\n",
       "    </tr>\n",
       "    <tr>\n",
       "      <th>3500</th>\n",
       "      <td>9.979229</td>\n",
       "      <td>tablet</td>\n",
       "    </tr>\n",
       "    <tr>\n",
       "      <th>3696</th>\n",
       "      <td>9.583779</td>\n",
       "      <td>ui</td>\n",
       "    </tr>\n",
       "    <tr>\n",
       "      <th>3251</th>\n",
       "      <td>7.589756</td>\n",
       "      <td>smart</td>\n",
       "    </tr>\n",
       "    <tr>\n",
       "      <th>3498</th>\n",
       "      <td>6.547680</td>\n",
       "      <td>tab</td>\n",
       "    </tr>\n",
       "    <tr>\n",
       "      <th>1466</th>\n",
       "      <td>6.431707</td>\n",
       "      <td>gallery</td>\n",
       "    </tr>\n",
       "  </tbody>\n",
       "</table>\n",
       "</div>"
      ],
      "text/plain": [
       "       Coefficients    Words\n",
       "3032  525257.229466  samsung\n",
       "1465    1981.347770   galaxy\n",
       "3699     380.656910    ultra\n",
       "2500      52.795805    phone\n",
       "424       23.571214      bud\n",
       "1291      18.846937       fe\n",
       "2304      13.475384     note\n",
       "3679      11.402270       tv\n",
       "1370      11.222713     flip\n",
       "1383      11.212334     fold\n",
       "3500       9.979229   tablet\n",
       "3696       9.583779       ui\n",
       "3251       7.589756    smart\n",
       "3498       6.547680      tab\n",
       "1466       6.431707  gallery"
      ]
     },
     "execution_count": 46,
     "metadata": {},
     "output_type": "execute_result"
    }
   ],
   "source": [
    "# Create a DataFrame from the model coefficients\n",
    "# Exponentiation is used to reverse the logarithmic odds\n",
    "log_coeffs = pd.DataFrame(zip(np.exp(logreg.coef_[0]),tfidf_vect.get_feature_names()))\n",
    "\n",
    "# Naming the columns\n",
    "log_coeffs.rename(columns = { 0: 'Coefficients', 1: 'Words' }, inplace=True)\n",
    "\n",
    "# Takes the first 15 rows of the DataFrame\n",
    "log_coeffs.sort_values(by='Coefficients', ascending=False).head(15)"
   ]
  },
  {
   "cell_type": "markdown",
   "id": "6f12600c",
   "metadata": {},
   "source": [
    "The largest coefficients indicate the words that are predictive of Class 1, which is Samsung. We can indeed see that there are many words related to the brand and its products."
   ]
  },
  {
   "cell_type": "code",
   "execution_count": 47,
   "id": "874ce6be",
   "metadata": {},
   "outputs": [
    {
     "data": {
      "text/html": [
       "<div>\n",
       "<style scoped>\n",
       "    .dataframe tbody tr th:only-of-type {\n",
       "        vertical-align: middle;\n",
       "    }\n",
       "\n",
       "    .dataframe tbody tr th {\n",
       "        vertical-align: top;\n",
       "    }\n",
       "\n",
       "    .dataframe thead th {\n",
       "        text-align: right;\n",
       "    }\n",
       "</style>\n",
       "<table border=\"1\" class=\"dataframe\">\n",
       "  <thead>\n",
       "    <tr style=\"text-align: right;\">\n",
       "      <th></th>\n",
       "      <th>Coefficients</th>\n",
       "      <th>Words</th>\n",
       "    </tr>\n",
       "  </thead>\n",
       "  <tbody>\n",
       "    <tr>\n",
       "      <th>171</th>\n",
       "      <td>0.000041</td>\n",
       "      <td>apple</td>\n",
       "    </tr>\n",
       "    <tr>\n",
       "      <th>1852</th>\n",
       "      <td>0.000634</td>\n",
       "      <td>iphone</td>\n",
       "    </tr>\n",
       "    <tr>\n",
       "      <th>2062</th>\n",
       "      <td>0.001926</td>\n",
       "      <td>macbook</td>\n",
       "    </tr>\n",
       "    <tr>\n",
       "      <th>87</th>\n",
       "      <td>0.005433</td>\n",
       "      <td>airpods</td>\n",
       "    </tr>\n",
       "    <tr>\n",
       "      <th>1846</th>\n",
       "      <td>0.011825</td>\n",
       "      <td>io</td>\n",
       "    </tr>\n",
       "    <tr>\n",
       "      <th>1849</th>\n",
       "      <td>0.012777</td>\n",
       "      <td>ipad</td>\n",
       "    </tr>\n",
       "    <tr>\n",
       "      <th>2639</th>\n",
       "      <td>0.017533</td>\n",
       "      <td>pro</td>\n",
       "    </tr>\n",
       "    <tr>\n",
       "      <th>2061</th>\n",
       "      <td>0.021146</td>\n",
       "      <td>mac</td>\n",
       "    </tr>\n",
       "    <tr>\n",
       "      <th>1707</th>\n",
       "      <td>0.036519</td>\n",
       "      <td>icloud</td>\n",
       "    </tr>\n",
       "    <tr>\n",
       "      <th>1729</th>\n",
       "      <td>0.054895</td>\n",
       "      <td>imac</td>\n",
       "    </tr>\n",
       "    <tr>\n",
       "      <th>86</th>\n",
       "      <td>0.060982</td>\n",
       "      <td>airpod</td>\n",
       "    </tr>\n",
       "    <tr>\n",
       "      <th>2121</th>\n",
       "      <td>0.090744</td>\n",
       "      <td>mbp</td>\n",
       "    </tr>\n",
       "    <tr>\n",
       "      <th>3973</th>\n",
       "      <td>0.092961</td>\n",
       "      <td>x</td>\n",
       "    </tr>\n",
       "    <tr>\n",
       "      <th>3025</th>\n",
       "      <td>0.094236</td>\n",
       "      <td>safari</td>\n",
       "    </tr>\n",
       "    <tr>\n",
       "      <th>164</th>\n",
       "      <td>0.100632</td>\n",
       "      <td>app</td>\n",
       "    </tr>\n",
       "  </tbody>\n",
       "</table>\n",
       "</div>"
      ],
      "text/plain": [
       "      Coefficients    Words\n",
       "171       0.000041    apple\n",
       "1852      0.000634   iphone\n",
       "2062      0.001926  macbook\n",
       "87        0.005433  airpods\n",
       "1846      0.011825       io\n",
       "1849      0.012777     ipad\n",
       "2639      0.017533      pro\n",
       "2061      0.021146      mac\n",
       "1707      0.036519   icloud\n",
       "1729      0.054895     imac\n",
       "86        0.060982   airpod\n",
       "2121      0.090744      mbp\n",
       "3973      0.092961        x\n",
       "3025      0.094236   safari\n",
       "164       0.100632      app"
      ]
     },
     "execution_count": 47,
     "metadata": {},
     "output_type": "execute_result"
    }
   ],
   "source": [
    "# Creates a DataFrame from the last 15 rows of the coefficients\n",
    "logsort = log_coeffs.sort_values(by='Coefficients', ascending=False).tail(15)\n",
    "\n",
    "# Reverses the ordering so that the highest predictors appear at the top\n",
    "logsort.sort_values(by='Coefficients')"
   ]
  },
  {
   "cell_type": "markdown",
   "id": "8b22ba7f",
   "metadata": {},
   "source": [
    "The smallest coefficients indicate the words that are predictive of Class 0, which is Apple. We can indeed see that there are many words related to the brand and its products. \n",
    "\n",
    "For both, there seems to be more brand-related words than with the top features for Naive Bayes. This could be due to the regularisation here penalising very strong coefficients, thus reducing noise."
   ]
  },
  {
   "cell_type": "markdown",
   "id": "4feba518",
   "metadata": {},
   "source": [
    "# Support Vector Classifier\n",
    "\n",
    "This model tries to fit a hyperplane to separate the 2 classes of data. We have a binary target variable, so this is suitable. \n",
    "\n",
    "We will be optimising the 'C' parameter through `GridSearchCV`. A higher C value indicates a higher penalty for misclassification when training the model, which leads to the model fitting closely. However, this value must not be too high as to encourage overfitting. Again, we will try both count-vectorized and TFIDF-vectorized data.\n",
    "\n",
    "## Count-vectorized data"
   ]
  },
  {
   "cell_type": "code",
   "execution_count": 48,
   "id": "555d25f9",
   "metadata": {},
   "outputs": [
    {
     "name": "stdout",
     "output_type": "stream",
     "text": [
      "GridSearchCV on SVC()\n",
      "Cross-validated training score (5-fold): 0.9375\n",
      "Training score: 0.9825\n",
      "Testing score: 0.946\n",
      "Best parameters: {'C': 1, 'random_state': 123}\n"
     ]
    }
   ],
   "source": [
    "svc_params = {'C': [0.1,1,10],\n",
    "              'random_state': [123],\n",
    "             }\n",
    "\n",
    "grid_searcher(X_train_c,\n",
    "              y_train,\n",
    "              X_test_c,\n",
    "              y_test,\n",
    "              svc_params,\n",
    "              SVC())"
   ]
  },
  {
   "cell_type": "markdown",
   "id": "de86b3fa",
   "metadata": {},
   "source": [
    "## TFIDF-vectorized data"
   ]
  },
  {
   "cell_type": "code",
   "execution_count": 49,
   "id": "aee64c9e",
   "metadata": {},
   "outputs": [
    {
     "name": "stdout",
     "output_type": "stream",
     "text": [
      "GridSearchCV on SVC()\n",
      "Cross-validated training score (5-fold): 0.9423333333333334\n",
      "Training score: 0.9955\n",
      "Testing score: 0.956\n",
      "Best parameters: {'C': 1, 'random_state': 123}\n"
     ]
    }
   ],
   "source": [
    "grid_searcher(X_train_t,\n",
    "              y_train,\n",
    "              X_test_t,\n",
    "              y_test,\n",
    "              svc_params,\n",
    "              SVC())"
   ]
  },
  {
   "cell_type": "markdown",
   "id": "1a2c67d4",
   "metadata": {},
   "source": [
    "`TfidfVectorizer` is better here, from the test score. The cross-validated score is not far off from it as well, which indicates the test score is reliable.\n",
    "\n",
    "## Metrics\n",
    "\n",
    "We will fit the model with these parameters and get more evaluation metrics."
   ]
  },
  {
   "cell_type": "code",
   "execution_count": 50,
   "id": "372a0277",
   "metadata": {},
   "outputs": [
    {
     "data": {
      "text/plain": [
       "SVC(C=1, probability=True, random_state=123)"
      ]
     },
     "execution_count": 50,
     "metadata": {},
     "output_type": "execute_result"
    }
   ],
   "source": [
    "svc = SVC(C=1, probability=True, random_state=123)\n",
    "svc.fit(X_train_t, y_train)"
   ]
  },
  {
   "cell_type": "markdown",
   "id": "68c66629",
   "metadata": {},
   "source": [
    "The classification report is shown below."
   ]
  },
  {
   "cell_type": "code",
   "execution_count": 51,
   "id": "3afd5ff1",
   "metadata": {},
   "outputs": [
    {
     "name": "stdout",
     "output_type": "stream",
     "text": [
      "              precision    recall  f1-score   support\n",
      "\n",
      "       Apple      0.969     0.942     0.956      1007\n",
      "     Samsung      0.943     0.970     0.956       993\n",
      "\n",
      "    accuracy                          0.956      2000\n",
      "   macro avg      0.956     0.956     0.956      2000\n",
      "weighted avg      0.956     0.956     0.956      2000\n",
      "\n"
     ]
    }
   ],
   "source": [
    "y_pred_svc = svc.predict(X_test_t)\n",
    "print(metrics.classification_report(y_test,\n",
    "                                    y_pred_svc,\n",
    "                                    digits=3,\n",
    "                                    target_names=['Apple', 'Samsung'],\n",
    "                                    zero_division=0))"
   ]
  },
  {
   "cell_type": "markdown",
   "id": "1729a207",
   "metadata": {},
   "source": [
    "The area under the ROC curve is as follows:"
   ]
  },
  {
   "cell_type": "code",
   "execution_count": 52,
   "id": "4b960d58",
   "metadata": {},
   "outputs": [
    {
     "data": {
      "text/plain": [
       "0.9905595374173334"
      ]
     },
     "execution_count": 52,
     "metadata": {},
     "output_type": "execute_result"
    }
   ],
   "source": [
    "y_pred_svc = svc.predict(X_test_t)\n",
    "y_prob_svc = svc.predict_proba(X_test_t)[:,1]\n",
    "roc_auc_score(y_test, y_prob_svc)"
   ]
  },
  {
   "cell_type": "markdown",
   "id": "474c82de",
   "metadata": {},
   "source": [
    "This is a high ROC AUC score. \n",
    "\n",
    "Feature importances are not available for this model."
   ]
  },
  {
   "cell_type": "markdown",
   "id": "f6edb918",
   "metadata": {},
   "source": [
    "# Random Forest\n",
    "\n",
    "This model uses an ensemble of decision trees that vote for the predicted class. The decision trees are formed using bagging, also known as bootstrap aggregation. High variance may be brought down (overfitting reduced) due to the averaging nature of the model. This model is flexible as it can handle multiple data types. However, it can be computationally expensive. \n",
    "\n",
    "\n",
    "## Count-vectorized data"
   ]
  },
  {
   "cell_type": "code",
   "execution_count": 53,
   "id": "1b732c07",
   "metadata": {},
   "outputs": [
    {
     "name": "stdout",
     "output_type": "stream",
     "text": [
      "GridSearchCV on RandomForestClassifier()\n",
      "Cross-validated training score (5-fold): 0.9495000000000001\n",
      "Training score: 1.0\n",
      "Testing score: 0.952\n",
      "Best parameters: {'max_features': 20, 'n_estimators': 500, 'random_state': 123}\n"
     ]
    }
   ],
   "source": [
    "rf_params = {'max_features': [20, 30],\n",
    "             'n_estimators': [100, 500], \n",
    "             'random_state': [123]\n",
    "            }\n",
    "\n",
    "grid_searcher(X_train_c,\n",
    "              y_train,\n",
    "              X_test_c,\n",
    "              y_test,\n",
    "              rf_params,\n",
    "              RandomForestClassifier())"
   ]
  },
  {
   "cell_type": "markdown",
   "id": "89bdba64",
   "metadata": {},
   "source": [
    "## TFIDF-vectorized data"
   ]
  },
  {
   "cell_type": "code",
   "execution_count": 54,
   "id": "074302c6",
   "metadata": {},
   "outputs": [
    {
     "name": "stdout",
     "output_type": "stream",
     "text": [
      "GridSearchCV on RandomForestClassifier()\n",
      "Cross-validated training score (5-fold): 0.9461666666666666\n",
      "Training score: 1.0\n",
      "Testing score: 0.9525\n",
      "Best parameters: {'max_features': 20, 'n_estimators': 500, 'random_state': 123}\n"
     ]
    }
   ],
   "source": [
    "grid_searcher(X_train_t,\n",
    "              y_train,\n",
    "              X_test_t,\n",
    "              y_test,\n",
    "              rf_params,\n",
    "              RandomForestClassifier())"
   ]
  },
  {
   "cell_type": "markdown",
   "id": "2fc18555",
   "metadata": {},
   "source": [
    "`TfidfVectorizer` is better here, from the test score. The cross-validated score is not far off from it as well, which indicates the test score is reliable. There is only a very slight performance improvement from the `CountVectorizer`. The models are overfitting a lot to the training data. Hence, some additional hyperparameter tuning may be required to reduce the overfitting. \n",
    "\n",
    "## Metrics\n",
    "\n",
    "We will fit the model with these parameters and get more evaluation metrics."
   ]
  },
  {
   "cell_type": "code",
   "execution_count": 55,
   "id": "ec98bdf4",
   "metadata": {},
   "outputs": [
    {
     "data": {
      "text/plain": [
       "RandomForestClassifier(max_features=20, n_estimators=500, random_state=123)"
      ]
     },
     "execution_count": 55,
     "metadata": {},
     "output_type": "execute_result"
    }
   ],
   "source": [
    "rf = RandomForestClassifier(max_features=20,\n",
    "                            n_estimators=500,\n",
    "                            random_state=123)\n",
    "rf.fit(X_train_t, y_train)"
   ]
  },
  {
   "cell_type": "markdown",
   "id": "ef81bf42",
   "metadata": {},
   "source": [
    "The classification report is shown below."
   ]
  },
  {
   "cell_type": "code",
   "execution_count": 56,
   "id": "f1d2c8bd",
   "metadata": {},
   "outputs": [
    {
     "name": "stdout",
     "output_type": "stream",
     "text": [
      "              precision    recall  f1-score   support\n",
      "\n",
      "       Apple      0.974     0.930     0.952      1007\n",
      "     Samsung      0.933     0.975     0.953       993\n",
      "\n",
      "    accuracy                          0.953      2000\n",
      "   macro avg      0.953     0.953     0.952      2000\n",
      "weighted avg      0.953     0.953     0.952      2000\n",
      "\n"
     ]
    }
   ],
   "source": [
    "y_pred_rf = rf.predict(X_test_t)\n",
    "print(metrics.classification_report(y_test,\n",
    "                                    y_pred_rf,\n",
    "                                    digits=3,\n",
    "                                    target_names=['Apple', 'Samsung'],\n",
    "                                    zero_division=0))"
   ]
  },
  {
   "cell_type": "markdown",
   "id": "8a99b760",
   "metadata": {},
   "source": [
    "The area under the ROC curve is as follows:"
   ]
  },
  {
   "cell_type": "code",
   "execution_count": 57,
   "id": "847b93a2",
   "metadata": {},
   "outputs": [
    {
     "data": {
      "text/plain": [
       "0.989828001572077"
      ]
     },
     "execution_count": 57,
     "metadata": {},
     "output_type": "execute_result"
    }
   ],
   "source": [
    "y_prob_rf = rf.predict_proba(X_test_t)[:,1]\n",
    "roc_auc_score(y_test, y_prob_rf)"
   ]
  },
  {
   "cell_type": "markdown",
   "id": "6509b2cb",
   "metadata": {},
   "source": [
    "This is a high ROC AUC score. \n",
    "\n",
    "Feature importances are not available for this model."
   ]
  },
  {
   "cell_type": "markdown",
   "id": "dde293b3",
   "metadata": {},
   "source": [
    "# Results and Analysis\n",
    "\n",
    "The models with their details and metrics are as follows:\n",
    "\n",
    "|Model|Test Accuracy|Training Accuracy|F1 Score (Apple)|F1 Score (Samsung)|ROC AUC|Vectorization|\n",
    "|---|---|---|---|---|---|---|\n",
    "|**Dummy Classifier**|0.496|0.501|0.000|0.664|0.500|Count|\n",
    "|**Multinomial Naive-Bayes**|0.946|0.949|0.945|0.946|0.984|Count|\n",
    "|**Logistic Regression**|0.956|0.973|0.956|0.956|0.991|TFIDF|\n",
    "|**Support Vector Classifier**|0.956|0.996|0.956|0.956|0.991|TFIDF|\n",
    "|**Random Forest**|0.953|1.000|0.952|0.953|0.990|TFIDF|\n",
    "\n",
    "Logistic Regression is tied with Support Vector Classifier across all the metrics. However, Logistic Regression takes much less time to run and is more interpretable (feature importances can be obtained). Just to note, if we go one more decimal place down the ROC AUC score, Logistic Regression is higher at 0.9907, versus 0.9905 for the Support Vector Classifier. Finally, the difference between the training accuracy and the test accuracy is higher for the Support Vector Classifier as opposed to Logistic Regression. This means that the Support Vector Classifier is overfitting more than Logistic Regression. \n",
    "\n",
    "Therefore, the model of choice is Logistic Regression.\n",
    "\n",
    "The ROC curves are as follows:"
   ]
  },
  {
   "cell_type": "code",
   "execution_count": 58,
   "id": "049f1e57",
   "metadata": {},
   "outputs": [
    {
     "data": {
      "image/png": "[encoded data removed]",
      "text/plain": [
       "<Figure size 864x720 with 1 Axes>"
      ]
     },
     "metadata": {
      "image/png": {
       "height": 628,
       "width": 739
      }
     },
     "output_type": "display_data"
    }
   ],
   "source": [
    "fig, ax = plt.subplots(1, 1, figsize=(12,10))\n",
    "plot_roc_curve(mnb, X_test_c, y_test, ax=ax)\n",
    "plot_roc_curve(logreg, X_test_t, y_test, ax=ax)\n",
    "plot_roc_curve(svc, X_test_t, y_test, ax=ax)\n",
    "plot_roc_curve(rf, X_test_t, y_test, ax=ax)\n",
    "plot_roc_curve(dum, X_test_t, y_test, ax=ax)\n",
    "plt.title('ROC Curves for Models Tested', fontsize=22)\n",
    "plt.legend();"
   ]
  },
  {
   "cell_type": "markdown",
   "id": "5f6c20a9",
   "metadata": {},
   "source": [
    "From the plot, we can see that the models are all similar in terms of the AUC, with Multinomial Naive Bayes having a slightly lower score."
   ]
  },
  {
   "cell_type": "markdown",
   "id": "2de215ac",
   "metadata": {},
   "source": [
    "## Further evaluation of Logistic Regression\n",
    "\n",
    "We will look more into Logistic Regression and where it misclassified the posts.\n",
    "\n",
    "This is the confusion matrix, which shows the numer of misclassifications for each class:"
   ]
  },
  {
   "cell_type": "code",
   "execution_count": 59,
   "id": "c7b843a3",
   "metadata": {},
   "outputs": [
    {
     "data": {
      "image/png": "[encoded data removed]",
      "text/plain": [
       "<Figure size 432x432 with 2 Axes>"
      ]
     },
     "metadata": {
      "image/png": {
       "height": 357,
       "width": 401
      }
     },
     "output_type": "display_data"
    }
   ],
   "source": [
    "mnb_cm = metrics.confusion_matrix(y_test, y_pred_logreg)\n",
    "\n",
    "plt.figure(figsize=(6,6))\n",
    "sns.heatmap(mnb_cm,\n",
    "            annot=True,\n",
    "            fmt='.0f',\n",
    "            linewidths=.5,\n",
    "            square = True,\n",
    "            cmap = 'Blues',\n",
    "            xticklabels = ['Apple', 'Samsung'],\n",
    "            yticklabels = ['Apple', 'Samsung'],\n",
    "            );\n",
    "\n",
    "plt.ylabel('Actual label', fontsize=17);\n",
    "plt.xlabel('Predicted label', fontsize=17);\n",
    "plt.title('Logistic Regression', fontsize=20);\n",
    "plt.tick_params(labelsize=15)"
   ]
  },
  {
   "cell_type": "markdown",
   "id": "66ef26c3",
   "metadata": {},
   "source": [
    "We can fetch the rows where the model made a mistake."
   ]
  },
  {
   "cell_type": "code",
   "execution_count": 60,
   "id": "2d04ea9f",
   "metadata": {},
   "outputs": [],
   "source": [
    "# Creating a DataFrame showing the text with the actual and predicted classes \n",
    "logreg_df = pd.DataFrame(X_test, columns=['text'])\n",
    "logreg_df['actual'] = y_test\n",
    "logreg_df['predicted'] = y_pred_logreg\n",
    "logreg_wrong = logreg_df[logreg_df[\"actual\"] != logreg_df[\"predicted\"]]"
   ]
  },
  {
   "cell_type": "markdown",
   "id": "9bee69fb",
   "metadata": {},
   "source": [
    "This is a sample of posts where the model predicted Apple when the post was from the Samsung subreddit."
   ]
  },
  {
   "cell_type": "code",
   "execution_count": 61,
   "id": "95a7cd13",
   "metadata": {
    "scrolled": false
   },
   "outputs": [
    {
     "data": {
      "text/html": [
       "<div>\n",
       "<style scoped>\n",
       "    .dataframe tbody tr th:only-of-type {\n",
       "        vertical-align: middle;\n",
       "    }\n",
       "\n",
       "    .dataframe tbody tr th {\n",
       "        vertical-align: top;\n",
       "    }\n",
       "\n",
       "    .dataframe thead th {\n",
       "        text-align: right;\n",
       "    }\n",
       "</style>\n",
       "<table border=\"1\" class=\"dataframe\">\n",
       "  <thead>\n",
       "    <tr style=\"text-align: right;\">\n",
       "      <th></th>\n",
       "      <th>text</th>\n",
       "      <th>actual</th>\n",
       "      <th>predicted</th>\n",
       "    </tr>\n",
       "  </thead>\n",
       "  <tbody>\n",
       "    <tr>\n",
       "      <th>4395</th>\n",
       "      <td>iPhone 12 Pro Max to S21 Ultra worth the switch? Hello everyone, I've currently got an iPhone 12 Pro Max which I've had for about 10 months and have had issues with (battery life, software issues, etc)   I can get an S21 Ultra on contract from my carrier for around £56 a month and was wondering if it's worth the switch this late into the year.</td>\n",
       "      <td>1</td>\n",
       "      <td>0</td>\n",
       "    </tr>\n",
       "    <tr>\n",
       "      <th>5950</th>\n",
       "      <td>Should I get the S21 or wait for S22? I currently have an A70 which got a little sluggish in the past few weeks. In your opinion, would it be wiser for me to get the S21 now or wait for the S22 (which will most likely be released in January next year)?</td>\n",
       "      <td>1</td>\n",
       "      <td>0</td>\n",
       "    </tr>\n",
       "    <tr>\n",
       "      <th>7757</th>\n",
       "      <td>Tablet suggestions Looking for a tablet for some basic web browsing, social media etc, but also for some light photo editing using Lightroom, Snapseed, etc.   I pretty much had my mind set on a tab s6 light. Can pick a 64g for around $400cdn. The s7 I can probably find for around $800. Basically twice as much. Unsure if it would be twice as good though.   That said, I don't want to regret my purchase.  I do want spen or a stylus. I've considered an iPad but the extra cost of the Apple pencil adds up quickly.   Halp</td>\n",
       "      <td>1</td>\n",
       "      <td>0</td>\n",
       "    </tr>\n",
       "    <tr>\n",
       "      <th>7155</th>\n",
       "      <td>Would the S21 last 3/4 years? Hey people,  Upgrading from an S8 with 30 mins SOT (3000mAh), and currently looking at the S21 (4000mAh).  Would it be enough to last 3 years or even 4 in terms of battery, or would I need to go for the S21+ (4800mAh)?  Thanks.</td>\n",
       "      <td>1</td>\n",
       "      <td>0</td>\n",
       "    </tr>\n",
       "    <tr>\n",
       "      <th>4972</th>\n",
       "      <td>Can I buy just a pair of earbuds ? So I broke 1 of the 2 earbuds with the other being slightly damaged. Is there a way I can buy another pair without the case ?</td>\n",
       "      <td>1</td>\n",
       "      <td>0</td>\n",
       "    </tr>\n",
       "  </tbody>\n",
       "</table>\n",
       "</div>"
      ],
      "text/plain": [
       "                                                                                                                                                                                                                                                                                                                                                                                                                                                                                                                                          text  \\\n",
       "4395                                                                                                                                                                                 iPhone 12 Pro Max to S21 Ultra worth the switch? Hello everyone, I've currently got an iPhone 12 Pro Max which I've had for about 10 months and have had issues with (battery life, software issues, etc)   I can get an S21 Ultra on contract from my carrier for around £56 a month and was wondering if it's worth the switch this late into the year.   \n",
       "5950                                                                                                                                                                                                                                                                              Should I get the S21 or wait for S22? I currently have an A70 which got a little sluggish in the past few weeks. In your opinion, would it be wiser for me to get the S21 now or wait for the S22 (which will most likely be released in January next year)?   \n",
       "7757  Tablet suggestions Looking for a tablet for some basic web browsing, social media etc, but also for some light photo editing using Lightroom, Snapseed, etc.   I pretty much had my mind set on a tab s6 light. Can pick a 64g for around $400cdn. The s7 I can probably find for around $800. Basically twice as much. Unsure if it would be twice as good though.   That said, I don't want to regret my purchase.  I do want spen or a stylus. I've considered an iPad but the extra cost of the Apple pencil adds up quickly.   Halp   \n",
       "7155                                                                                                                                                                                                                                                                         Would the S21 last 3/4 years? Hey people,  Upgrading from an S8 with 30 mins SOT (3000mAh), and currently looking at the S21 (4000mAh).  Would it be enough to last 3 years or even 4 in terms of battery, or would I need to go for the S21+ (4800mAh)?  Thanks.   \n",
       "4972                                                                                                                                                                                                                                                                                                                                                                          Can I buy just a pair of earbuds ? So I broke 1 of the 2 earbuds with the other being slightly damaged. Is there a way I can buy another pair without the case ?   \n",
       "\n",
       "      actual  predicted  \n",
       "4395       1          0  \n",
       "5950       1          0  \n",
       "7757       1          0  \n",
       "7155       1          0  \n",
       "4972       1          0  "
      ]
     },
     "execution_count": 61,
     "metadata": {},
     "output_type": "execute_result"
    }
   ],
   "source": [
    "logreg_wrong[logreg_wrong['predicted'] == 0].head()"
   ]
  },
  {
   "cell_type": "markdown",
   "id": "8e4c9e21",
   "metadata": {},
   "source": [
    "It seems that some posts that were misclassified mentioned Apple as well, such as those mentioning the iPhone, iPad and Apple pencil. There were some Samsung model names mentioned like S22, A70 and S8, but this would not have been factored in as the text cleaning function removed words with both letters and numbers. (This was done because there was a high presence of nonsense words with numbers and letters.)\n",
    "\n",
    "This is a sample of posts where the model predicted Samsung when the post was from the Apple subreddit: "
   ]
  },
  {
   "cell_type": "code",
   "execution_count": 62,
   "id": "a62b1b32",
   "metadata": {
    "scrolled": true
   },
   "outputs": [
    {
     "data": {
      "text/html": [
       "<div>\n",
       "<style scoped>\n",
       "    .dataframe tbody tr th:only-of-type {\n",
       "        vertical-align: middle;\n",
       "    }\n",
       "\n",
       "    .dataframe tbody tr th {\n",
       "        vertical-align: top;\n",
       "    }\n",
       "\n",
       "    .dataframe thead th {\n",
       "        text-align: right;\n",
       "    }\n",
       "</style>\n",
       "<table border=\"1\" class=\"dataframe\">\n",
       "  <thead>\n",
       "    <tr style=\"text-align: right;\">\n",
       "      <th></th>\n",
       "      <th>text</th>\n",
       "      <th>actual</th>\n",
       "      <th>predicted</th>\n",
       "    </tr>\n",
       "  </thead>\n",
       "  <tbody>\n",
       "    <tr>\n",
       "      <th>3904</th>\n",
       "      <td>LPT: On safari if you open tab view and put your phone into landscape mode, you can long press on any tab and sort them by title or sort tabs by website. This is quite useful to sort tabs if you have around 200-300 open.   Also a bonus tip, while in tab view, if you scroll all the way to the top and search for a certain tab and then long press the cancel button you can close all tabs matching your search result.</td>\n",
       "      <td>0</td>\n",
       "      <td>1</td>\n",
       "    </tr>\n",
       "    <tr>\n",
       "      <th>2374</th>\n",
       "      <td>[Hardware] Anyone knows how to fix magic mouse not scrolling? I have a previous version of a Magic Mouse that my son opened breaking the part that keep the cover on the mouse itself. I put it back, and it is working perfectly (mostly) apart that is not scrolling anymore. It seems to be a hardware problem: anyone knows if I can fix it?</td>\n",
       "      <td>0</td>\n",
       "      <td>1</td>\n",
       "    </tr>\n",
       "    <tr>\n",
       "      <th>2864</th>\n",
       "      <td>Can you recommend a screen protector for apple watch series 4 I bought a screen protector a week ago and it disturbed the touch sensitivity so i got rid of it, today a small scratch on the screen took me by surprise and it mentally hurt me,  So, do any of you guys using a screen protector that can really recommend ?</td>\n",
       "      <td>0</td>\n",
       "      <td>1</td>\n",
       "    </tr>\n",
       "    <tr>\n",
       "      <th>1957</th>\n",
       "      <td>help so my phone is stuck on te apple logo. te one that happens after you charge your phone after it is dead it wont turn of</td>\n",
       "      <td>0</td>\n",
       "      <td>1</td>\n",
       "    </tr>\n",
       "    <tr>\n",
       "      <th>1635</th>\n",
       "      <td>How fast do wireless chargers charge? I recently bought an iPhone 11, and a cheap 5V wireless charging pad with it. I also put on an Otterbox Defender case, and it supports wireless charging. In the 3 days, I've had the phone, it has never reached above 50% charge. I've only used the wireless charger, which charges at about 2% every 30 minutes.  Is wireless charging that slow? Or is there somwthing else I should know about? Help is greatly appreciated.</td>\n",
       "      <td>0</td>\n",
       "      <td>1</td>\n",
       "    </tr>\n",
       "  </tbody>\n",
       "</table>\n",
       "</div>"
      ],
      "text/plain": [
       "                                                                                                                                                                                                                                                                                                                                                                                                                                                                          text  \\\n",
       "3904                                           LPT: On safari if you open tab view and put your phone into landscape mode, you can long press on any tab and sort them by title or sort tabs by website. This is quite useful to sort tabs if you have around 200-300 open.   Also a bonus tip, while in tab view, if you scroll all the way to the top and search for a certain tab and then long press the cancel button you can close all tabs matching your search result.   \n",
       "2374                                                                                                                          [Hardware] Anyone knows how to fix magic mouse not scrolling? I have a previous version of a Magic Mouse that my son opened breaking the part that keep the cover on the mouse itself. I put it back, and it is working perfectly (mostly) apart that is not scrolling anymore. It seems to be a hardware problem: anyone knows if I can fix it?   \n",
       "2864                                                                                                                                             Can you recommend a screen protector for apple watch series 4 I bought a screen protector a week ago and it disturbed the touch sensitivity so i got rid of it, today a small scratch on the screen took me by surprise and it mentally hurt me,  So, do any of you guys using a screen protector that can really recommend ?   \n",
       "1957                                                                                                                                                                                                                                                                                                                                              help so my phone is stuck on te apple logo. te one that happens after you charge your phone after it is dead it wont turn of   \n",
       "1635  How fast do wireless chargers charge? I recently bought an iPhone 11, and a cheap 5V wireless charging pad with it. I also put on an Otterbox Defender case, and it supports wireless charging. In the 3 days, I've had the phone, it has never reached above 50% charge. I've only used the wireless charger, which charges at about 2% every 30 minutes.  Is wireless charging that slow? Or is there somwthing else I should know about? Help is greatly appreciated.   \n",
       "\n",
       "      actual  predicted  \n",
       "3904       0          1  \n",
       "2374       0          1  \n",
       "2864       0          1  \n",
       "1957       0          1  \n",
       "1635       0          1  "
      ]
     },
     "execution_count": 62,
     "metadata": {},
     "output_type": "execute_result"
    }
   ],
   "source": [
    "logreg_wrong[logreg_wrong['predicted'] == 1].head()"
   ]
  },
  {
   "cell_type": "markdown",
   "id": "6caaaacc",
   "metadata": {},
   "source": [
    "The misclassification here may have been due to mentioning words like 'tab', 'watch' and 'wireless charger' which are also related to Samsung products. \n",
    "\n",
    "We can also look at posts that were correctly classified:"
   ]
  },
  {
   "cell_type": "code",
   "execution_count": 63,
   "id": "c3780273",
   "metadata": {},
   "outputs": [
    {
     "data": {
      "text/html": [
       "<div>\n",
       "<style scoped>\n",
       "    .dataframe tbody tr th:only-of-type {\n",
       "        vertical-align: middle;\n",
       "    }\n",
       "\n",
       "    .dataframe tbody tr th {\n",
       "        vertical-align: top;\n",
       "    }\n",
       "\n",
       "    .dataframe thead th {\n",
       "        text-align: right;\n",
       "    }\n",
       "</style>\n",
       "<table border=\"1\" class=\"dataframe\">\n",
       "  <thead>\n",
       "    <tr style=\"text-align: right;\">\n",
       "      <th></th>\n",
       "      <th>text</th>\n",
       "      <th>actual</th>\n",
       "      <th>predicted</th>\n",
       "    </tr>\n",
       "  </thead>\n",
       "  <tbody>\n",
       "    <tr>\n",
       "      <th>617</th>\n",
       "      <td>An A.I. that can give feedback on a dating profile to get better results. Cupido - The A.I. dating coach is the first A.I. dating coach that helps online daters to create a better dating profile and start a personalized conversation.   1. Cupido will review your dating profile and tell you how to improve it to suit your personality and dating goals.  2. Cupido will review and give you insights about your photos to present your best version.  3. Cupido will advise on creating your best profile using bio and the right photos to represent your lifestyle and personality in order to attract the right people.  4. Cupido will review all your photos and will help you to choose the most suitable first photo to create a better first impression.  5. Cupido will review your profile and profile of your match and suggest to you the best conversation starters that will interest your match.  6. Cupido will help you understand the intention, what to expect from the match, and educate you on impress...</td>\n",
       "      <td>0</td>\n",
       "      <td>0</td>\n",
       "    </tr>\n",
       "    <tr>\n",
       "      <th>415</th>\n",
       "      <td>Over 500 random contacts on iPad I don’t even have a iPhone, but somehow there are over 500 random contacts on my iPad. I typed in “mom” in the contacts and got 3 different “moms” with 3 different phone numbers, which implies that somehow different iCloud accounts have gotten synced with mine???  I immediately checked how many devices are linked with my iCloud account, and I found a random iPhone. I have no idea how that got onto my iCloud considering I only used my iPad for browsing and youtube. Now I’ve sent a request in to delete my old account, but I’m afraid of how much damage has been caused if someone did have access to my account.  How bad would it have been if someone had access to my iCloud account? What would they have been able to see? Would my other accounts (reddit, google, etc) be compromised too or is it only my photos and notes (which is still pretty bad).</td>\n",
       "      <td>0</td>\n",
       "      <td>0</td>\n",
       "    </tr>\n",
       "    <tr>\n",
       "      <th>3390</th>\n",
       "      <td>Best setup for dual screens (dock/adapter) Hello,   I am getting a mac 15inch with touch bar from my company soon. I have two hp dell monitors with USB C and HDMI connections among others. What is the best dock/adapter for this set up? I would prefer all 3 screens separate but I can live with 1 extended and 1 mirrored. I currently have a j5create adapter for my windows and it works well. It's regular USB standard though so I do not believe it will work with the new mac coming. If anyone has any recommendations please let me know. TY.</td>\n",
       "      <td>0</td>\n",
       "      <td>0</td>\n",
       "    </tr>\n",
       "    <tr>\n",
       "      <th>1692</th>\n",
       "      <td>Question about trade-in value I made an impulse decision and bought the iPad mini 5. Since I’m a college student, I want to make the switch to the $800 iPad Pro and was wondering what the trade in value for an iPad mini 5 in excellent condition would be? On the website for trade in devices there is no option for mini 5 only 4 and lower. If anyone knows a rough estimate it would save me a long trip to the mall to ask an employee the worth. Thank you!</td>\n",
       "      <td>0</td>\n",
       "      <td>0</td>\n",
       "    </tr>\n",
       "    <tr>\n",
       "      <th>3076</th>\n",
       "      <td>Are text suggestions device specific or do they mimic if two devices have the same Apple ID? Boyfriend and I had the same Apple ID. We both just got new phones. He continued using his and I made a new Apple ID. There’s a unique name that keeps popping up in his text suggestions on his new phone. Could this mean the data/text suggestion transferred from his Apple ID from his old device, or is the only plausible answer that he’s typing this name frequently on his new phone? Is text suggestion device specific or is it synced with your Apple ID. Hope this makes sense!</td>\n",
       "      <td>0</td>\n",
       "      <td>0</td>\n",
       "    </tr>\n",
       "  </tbody>\n",
       "</table>\n",
       "</div>"
      ],
      "text/plain": [
       "                                                                                                                                                                                                                                                                                                                                                                                                                                                                                                                                                                                                                                                                                                                                                                                                                                                                                                                                                                                                                                         text  \\\n",
       "617   An A.I. that can give feedback on a dating profile to get better results. Cupido - The A.I. dating coach is the first A.I. dating coach that helps online daters to create a better dating profile and start a personalized conversation.   1. Cupido will review your dating profile and tell you how to improve it to suit your personality and dating goals.  2. Cupido will review and give you insights about your photos to present your best version.  3. Cupido will advise on creating your best profile using bio and the right photos to represent your lifestyle and personality in order to attract the right people.  4. Cupido will review all your photos and will help you to choose the most suitable first photo to create a better first impression.  5. Cupido will review your profile and profile of your match and suggest to you the best conversation starters that will interest your match.  6. Cupido will help you understand the intention, what to expect from the match, and educate you on impress...   \n",
       "415                                                                                                                     Over 500 random contacts on iPad I don’t even have a iPhone, but somehow there are over 500 random contacts on my iPad. I typed in “mom” in the contacts and got 3 different “moms” with 3 different phone numbers, which implies that somehow different iCloud accounts have gotten synced with mine???  I immediately checked how many devices are linked with my iCloud account, and I found a random iPhone. I have no idea how that got onto my iCloud considering I only used my iPad for browsing and youtube. Now I’ve sent a request in to delete my old account, but I’m afraid of how much damage has been caused if someone did have access to my account.  How bad would it have been if someone had access to my iCloud account? What would they have been able to see? Would my other accounts (reddit, google, etc) be compromised too or is it only my photos and notes (which is still pretty bad).   \n",
       "3390                                                                                                                                                                                                                                                                                                                                                                                                                                                                              Best setup for dual screens (dock/adapter) Hello,   I am getting a mac 15inch with touch bar from my company soon. I have two hp dell monitors with USB C and HDMI connections among others. What is the best dock/adapter for this set up? I would prefer all 3 screens separate but I can live with 1 extended and 1 mirrored. I currently have a j5create adapter for my windows and it works well. It's regular USB standard though so I do not believe it will work with the new mac coming. If anyone has any recommendations please let me know. TY.   \n",
       "1692                                                                                                                                                                                                                                                                                                                                                                                                                                                                                                                                                                    Question about trade-in value I made an impulse decision and bought the iPad mini 5. Since I’m a college student, I want to make the switch to the $800 iPad Pro and was wondering what the trade in value for an iPad mini 5 in excellent condition would be? On the website for trade in devices there is no option for mini 5 only 4 and lower. If anyone knows a rough estimate it would save me a long trip to the mall to ask an employee the worth. Thank you!   \n",
       "3076                                                                                                                                                                                                                                                                                                                                                                                                                                               Are text suggestions device specific or do they mimic if two devices have the same Apple ID? Boyfriend and I had the same Apple ID. We both just got new phones. He continued using his and I made a new Apple ID. There’s a unique name that keeps popping up in his text suggestions on his new phone. Could this mean the data/text suggestion transferred from his Apple ID from his old device, or is the only plausible answer that he’s typing this name frequently on his new phone? Is text suggestion device specific or is it synced with your Apple ID. Hope this makes sense!   \n",
       "\n",
       "      actual  predicted  \n",
       "617        0          0  \n",
       "415        0          0  \n",
       "3390       0          0  \n",
       "1692       0          0  \n",
       "3076       0          0  "
      ]
     },
     "execution_count": 63,
     "metadata": {},
     "output_type": "execute_result"
    }
   ],
   "source": [
    "logreg_df[logreg_df['predicted'] == 0].head()"
   ]
  },
  {
   "cell_type": "code",
   "execution_count": 64,
   "id": "8affc982",
   "metadata": {},
   "outputs": [
    {
     "data": {
      "text/html": [
       "<div>\n",
       "<style scoped>\n",
       "    .dataframe tbody tr th:only-of-type {\n",
       "        vertical-align: middle;\n",
       "    }\n",
       "\n",
       "    .dataframe tbody tr th {\n",
       "        vertical-align: top;\n",
       "    }\n",
       "\n",
       "    .dataframe thead th {\n",
       "        text-align: right;\n",
       "    }\n",
       "</style>\n",
       "<table border=\"1\" class=\"dataframe\">\n",
       "  <thead>\n",
       "    <tr style=\"text-align: right;\">\n",
       "      <th></th>\n",
       "      <th>text</th>\n",
       "      <th>actual</th>\n",
       "      <th>predicted</th>\n",
       "    </tr>\n",
       "  </thead>\n",
       "  <tbody>\n",
       "    <tr>\n",
       "      <th>5676</th>\n",
       "      <td>S20+ support e-sim  Is it true that the S20+ (SM-G986U1) does not support E-SIM? Or is there a possibility to do support with the exchange of CSC and firmware?*📷*</td>\n",
       "      <td>1</td>\n",
       "      <td>1</td>\n",
       "    </tr>\n",
       "    <tr>\n",
       "      <th>7687</th>\n",
       "      <td>S21 ULtra, no charger? I just opened my box and all I see is a cable. Wtf??? I even asked the employee I bought it from whether or not there would be a charger in the box and she said yes.  What am I supposed to do now? It's late at night, where tf am I supposed to go to charge this phone.</td>\n",
       "      <td>1</td>\n",
       "      <td>1</td>\n",
       "    </tr>\n",
       "    <tr>\n",
       "      <th>6708</th>\n",
       "      <td>Samsung Theme Park and Key Café I've had fun with these apps customizing my phone. They offer tons of options for themeing and customization. The problem is it always seems to look tacky, and I end up going back to the stock theme. Anyone else have this issue or have you made a theme that looks better than stock amoled black and blue? I find stock just jives better with apps and the overall OneUI experience.</td>\n",
       "      <td>1</td>\n",
       "      <td>1</td>\n",
       "    </tr>\n",
       "    <tr>\n",
       "      <th>6864</th>\n",
       "      <td>Samsung Block Chain/Wallet I am looking at using the crypto wallet built into the handset. I have a bit of change in some eth, and stuff.   Are any of my fellow samsung users using it? Easy as putting your key in cold storage after you signed in or up? Any folk with experience or thinking about it too, please comment. Thankyou.</td>\n",
       "      <td>1</td>\n",
       "      <td>1</td>\n",
       "    </tr>\n",
       "    <tr>\n",
       "      <th>6664</th>\n",
       "      <td>Whats the best deal on a Samsung Galaxy S21 ultra? Looking to get a new one, have a cracked note 8 to trade in</td>\n",
       "      <td>1</td>\n",
       "      <td>1</td>\n",
       "    </tr>\n",
       "  </tbody>\n",
       "</table>\n",
       "</div>"
      ],
      "text/plain": [
       "                                                                                                                                                                                                                                                                                                                                                                                                                             text  \\\n",
       "5676                                                                                                                                                                                                                                                           S20+ support e-sim  Is it true that the S20+ (SM-G986U1) does not support E-SIM? Or is there a possibility to do support with the exchange of CSC and firmware?*📷*   \n",
       "7687                                                                                                                           S21 ULtra, no charger? I just opened my box and all I see is a cable. Wtf??? I even asked the employee I bought it from whether or not there would be a charger in the box and she said yes.  What am I supposed to do now? It's late at night, where tf am I supposed to go to charge this phone.   \n",
       "6708  Samsung Theme Park and Key Café I've had fun with these apps customizing my phone. They offer tons of options for themeing and customization. The problem is it always seems to look tacky, and I end up going back to the stock theme. Anyone else have this issue or have you made a theme that looks better than stock amoled black and blue? I find stock just jives better with apps and the overall OneUI experience.   \n",
       "6864                                                                                    Samsung Block Chain/Wallet I am looking at using the crypto wallet built into the handset. I have a bit of change in some eth, and stuff.   Are any of my fellow samsung users using it? Easy as putting your key in cold storage after you signed in or up? Any folk with experience or thinking about it too, please comment. Thankyou.   \n",
       "6664                                                                                                                                                                                                                                                                                                               Whats the best deal on a Samsung Galaxy S21 ultra? Looking to get a new one, have a cracked note 8 to trade in   \n",
       "\n",
       "      actual  predicted  \n",
       "5676       1          1  \n",
       "7687       1          1  \n",
       "6708       1          1  \n",
       "6864       1          1  \n",
       "6664       1          1  "
      ]
     },
     "execution_count": 64,
     "metadata": {},
     "output_type": "execute_result"
    }
   ],
   "source": [
    "logreg_df[logreg_df['predicted'] == 1].head()"
   ]
  },
  {
   "cell_type": "markdown",
   "id": "2eb3d143",
   "metadata": {},
   "source": [
    "The posts have brand and product names that match with their subreddit.\n",
    "\n",
    "To further investigate, we can look at setting the brand and common product names as stopwords, so that we can filter out these strong predictors and see what other words come up as predictors. Below, we run the model again, but stopwords related to Apple or Samsung products and proprietary names are removed. "
   ]
  },
  {
   "cell_type": "code",
   "execution_count": 65,
   "id": "4111696f",
   "metadata": {},
   "outputs": [
    {
     "data": {
      "text/plain": [
       "LogisticRegression(C=1, random_state=123, solver='liblinear')"
      ]
     },
     "execution_count": 65,
     "metadata": {},
     "output_type": "execute_result"
    }
   ],
   "source": [
    "custom_stopwords = nltk.corpus.stopwords.words('english')\n",
    "\n",
    "stopword_list = ['apple', 'iphone', 'iphones', 'macbook', 'ipad', 'pro', 'pros', 'airpods', 'airpod',\n",
    "                 'ios', 'mac', 'catalina','itunes', 'imac', 'icloud', 'safari', 'macos', 'max', 'air', \n",
    "                 'mbp', 'ipod','samsung', 'galaxy', 'ultra', 'note', 'bud', 'buds', 'fold', 'ui', 'tab', \n",
    "                 'flip', 'z', 'fe', 'exynos', 'oneui', 'bixby', 'siri', 'mini', 'xr', 'smart', 'gallery', \n",
    "                 'applecare', 'lightning', 'id', 'x', 'xs', 'se', 'pencil', 'airplay', 'pen', 'pens', \n",
    "                 'earbuds', 'edge', 'gen', 'snapdragon', 'lite', 'phone', 'phones', 'tablet', 'tablets', \n",
    "                 'tv', 'tvs', 'dex', 'thunderbolt']\n",
    "\n",
    "custom_stopwords.extend(stopword_list)\n",
    "\n",
    "wn = nltk.WordNetLemmatizer()\n",
    "\n",
    "def clean_text_custom(text):\n",
    "    \n",
    "    # Removes words that are all numeric characters, or words mixed with numbers\n",
    "    text = re.sub(r'\\w*\\d\\w*', '', text)\n",
    "    \n",
    "    # Tokenisation and punctuation removal. \\W matches any non-word character (equivalent to [^a-zA-Z0-9_]).\n",
    "    # Since \\W does not match underscores, we specify '\\W+|_' (\\W or underscore).\n",
    "    # Splits the text at any of these non-word characters (or groups of them). \n",
    "    # The '+' is to handle cases where there are 2 or more non-word characters between certain words\n",
    "    tokens = re.split('\\W+|_', text)\n",
    " \n",
    "    # Removes all words that contain non-ASCII printable characters\n",
    "    ascii_chars = set(string.printable)\n",
    "    tokens =  [word for word in tokens if all(char in ascii_chars for char in word)]\n",
    "    \n",
    "    # Removes all empty strings, e.g. ''\n",
    "    tokens = [word for word in tokens if word]\n",
    "   \n",
    "    # Apply lemmatisation, lowercasing and stopwords exclusion within the same step.\n",
    "    tokens = [wn.lemmatize(word.lower()) for word in tokens if word.lower() not in custom_stopwords] \n",
    "     \n",
    "    return tokens\n",
    "\n",
    "# Instantiating the TfidfVectorizer\n",
    "tfidf_vect_custom = TfidfVectorizer(analyzer=clean_text_custom, \n",
    "                             max_features=4000, \n",
    "                             min_df=2, \n",
    "                             max_df=0.9)\n",
    "\n",
    "# Creating the TfidfVectorizer-transformed arrays \n",
    "X_train_t_custom = tfidf_vect_custom.fit_transform(X_train)\n",
    "X_test_t_custom = tfidf_vect_custom.transform(X_test)\n",
    "\n",
    "# Instantiating Logistic Regression\n",
    "logreg_custom = LogisticRegression(C=1,\n",
    "                            penalty='l2',\n",
    "                            solver='liblinear',\n",
    "                            random_state=123)\n",
    "\n",
    "# Fitting the model\n",
    "logreg_custom.fit(X_train_t_custom, y_train)"
   ]
  },
  {
   "cell_type": "markdown",
   "id": "07ab8379",
   "metadata": {},
   "source": [
    "The classification report is shown below."
   ]
  },
  {
   "cell_type": "code",
   "execution_count": 66,
   "id": "b6510caa",
   "metadata": {},
   "outputs": [
    {
     "name": "stdout",
     "output_type": "stream",
     "text": [
      "              precision    recall  f1-score   support\n",
      "\n",
      "       Apple      0.754     0.714     0.734      1007\n",
      "     Samsung      0.725     0.764     0.744       993\n",
      "\n",
      "    accuracy                          0.739      2000\n",
      "   macro avg      0.740     0.739     0.739      2000\n",
      "weighted avg      0.740     0.739     0.739      2000\n",
      "\n"
     ]
    }
   ],
   "source": [
    "y_pred_logreg_custom = logreg_custom.predict(X_test_t_custom)\n",
    "print(metrics.classification_report(y_test,\n",
    "                                    y_pred_logreg_custom,\n",
    "                                    digits=3,\n",
    "                                    target_names=['Apple', 'Samsung'],\n",
    "                                    zero_division=0))"
   ]
  },
  {
   "cell_type": "markdown",
   "id": "fbd59166",
   "metadata": {},
   "source": [
    "The test accuracy dropped to 0.739.\n",
    "\n",
    "The area under the ROC curve is as follows:"
   ]
  },
  {
   "cell_type": "code",
   "execution_count": 67,
   "id": "9f654ddf",
   "metadata": {},
   "outputs": [
    {
     "data": {
      "text/plain": [
       "0.5690118815821975"
      ]
     },
     "execution_count": 67,
     "metadata": {},
     "output_type": "execute_result"
    }
   ],
   "source": [
    "y_prob_logreg_custom = logreg_custom.predict_proba(X_test_t)[:,1]\n",
    "roc_auc_score(y_test, y_prob_logreg_custom)"
   ]
  },
  {
   "cell_type": "markdown",
   "id": "1fa8cca0",
   "metadata": {},
   "source": [
    "The AUC dropped by a large amount.\n",
    "\n",
    "We will get the feature importances to see which of the words were the most significant predictors for their class:"
   ]
  },
  {
   "cell_type": "code",
   "execution_count": 68,
   "id": "b9cb2ec6",
   "metadata": {
    "scrolled": false
   },
   "outputs": [
    {
     "data": {
      "text/html": [
       "<div>\n",
       "<style scoped>\n",
       "    .dataframe tbody tr th:only-of-type {\n",
       "        vertical-align: middle;\n",
       "    }\n",
       "\n",
       "    .dataframe tbody tr th {\n",
       "        vertical-align: top;\n",
       "    }\n",
       "\n",
       "    .dataframe thead th {\n",
       "        text-align: right;\n",
       "    }\n",
       "</style>\n",
       "<table border=\"1\" class=\"dataframe\">\n",
       "  <thead>\n",
       "    <tr style=\"text-align: right;\">\n",
       "      <th></th>\n",
       "      <th>Coefficients</th>\n",
       "      <th>Words</th>\n",
       "    </tr>\n",
       "  </thead>\n",
       "  <tbody>\n",
       "    <tr>\n",
       "      <th>1498</th>\n",
       "      <td>17.000346</td>\n",
       "      <td>google</td>\n",
       "    </tr>\n",
       "    <tr>\n",
       "      <th>1219</th>\n",
       "      <td>10.366935</td>\n",
       "      <td>factory</td>\n",
       "    </tr>\n",
       "    <tr>\n",
       "      <th>1241</th>\n",
       "      <td>10.039949</td>\n",
       "      <td>fast</td>\n",
       "    </tr>\n",
       "    <tr>\n",
       "      <th>148</th>\n",
       "      <td>6.925804</td>\n",
       "      <td>anyone</td>\n",
       "    </tr>\n",
       "    <tr>\n",
       "      <th>3100</th>\n",
       "      <td>6.709936</td>\n",
       "      <td>setting</td>\n",
       "    </tr>\n",
       "    <tr>\n",
       "      <th>3037</th>\n",
       "      <td>6.220103</td>\n",
       "      <td>sd</td>\n",
       "    </tr>\n",
       "    <tr>\n",
       "      <th>28</th>\n",
       "      <td>5.880792</td>\n",
       "      <td>active</td>\n",
       "    </tr>\n",
       "    <tr>\n",
       "      <th>2293</th>\n",
       "      <td>5.712270</td>\n",
       "      <td>notification</td>\n",
       "    </tr>\n",
       "    <tr>\n",
       "      <th>3710</th>\n",
       "      <td>5.549371</td>\n",
       "      <td>unlocked</td>\n",
       "    </tr>\n",
       "    <tr>\n",
       "      <th>2843</th>\n",
       "      <td>5.543392</td>\n",
       "      <td>remote</td>\n",
       "    </tr>\n",
       "    <tr>\n",
       "      <th>1496</th>\n",
       "      <td>5.276648</td>\n",
       "      <td>good</td>\n",
       "    </tr>\n",
       "    <tr>\n",
       "      <th>473</th>\n",
       "      <td>5.204136</td>\n",
       "      <td>camera</td>\n",
       "    </tr>\n",
       "    <tr>\n",
       "      <th>3029</th>\n",
       "      <td>5.096061</td>\n",
       "      <td>screen</td>\n",
       "    </tr>\n",
       "    <tr>\n",
       "      <th>1381</th>\n",
       "      <td>4.930467</td>\n",
       "      <td>frame</td>\n",
       "    </tr>\n",
       "    <tr>\n",
       "      <th>1295</th>\n",
       "      <td>4.908993</td>\n",
       "      <td>fingerprint</td>\n",
       "    </tr>\n",
       "  </tbody>\n",
       "</table>\n",
       "</div>"
      ],
      "text/plain": [
       "      Coefficients         Words\n",
       "1498     17.000346        google\n",
       "1219     10.366935       factory\n",
       "1241     10.039949          fast\n",
       "148       6.925804        anyone\n",
       "3100      6.709936       setting\n",
       "3037      6.220103            sd\n",
       "28        5.880792        active\n",
       "2293      5.712270  notification\n",
       "3710      5.549371      unlocked\n",
       "2843      5.543392        remote\n",
       "1496      5.276648          good\n",
       "473       5.204136        camera\n",
       "3029      5.096061        screen\n",
       "1381      4.930467         frame\n",
       "1295      4.908993   fingerprint"
      ]
     },
     "execution_count": 68,
     "metadata": {},
     "output_type": "execute_result"
    }
   ],
   "source": [
    "# Create a DataFrame from the model coefficients\n",
    "# Exponentiation is used to reverse the logarithmic odds\n",
    "log_coeffs_custom = pd.DataFrame(zip(np.exp(logreg_custom.coef_[0]),tfidf_vect_custom.get_feature_names()))\n",
    "\n",
    "# Naming the columns\n",
    "log_coeffs_custom.rename(columns = { 0: 'Coefficients', 1: 'Words' }, inplace=True)\n",
    "\n",
    "# Takes the first 15 rows of the DataFrame\n",
    "log_coeffs_custom.sort_values(by='Coefficients', ascending=False).head(15)"
   ]
  },
  {
   "cell_type": "markdown",
   "id": "55c9363b",
   "metadata": {},
   "source": [
    "The largest coefficients indicate the words that are predictive of Class 1, which is Samsung. We can see that 'fast' is one of the words here. This would mean that people on the Samsung Reddit could be concerned about the speed of the Samsung products. The bigram 'fast charging' was also seen in the bigram analysis, and the trigram 'super fast charging' was also seen. This is supported by the finding stated in the Background and Research regarding the fast charging function. In addition, 'fingerprint' is listed, which was also mentioned in the Background and Research regarding the in-screen fingerprint sensors by Samsung."
   ]
  },
  {
   "cell_type": "code",
   "execution_count": 69,
   "id": "6a78ae8d",
   "metadata": {},
   "outputs": [
    {
     "data": {
      "text/html": [
       "<div>\n",
       "<style scoped>\n",
       "    .dataframe tbody tr th:only-of-type {\n",
       "        vertical-align: middle;\n",
       "    }\n",
       "\n",
       "    .dataframe tbody tr th {\n",
       "        vertical-align: top;\n",
       "    }\n",
       "\n",
       "    .dataframe thead th {\n",
       "        text-align: right;\n",
       "    }\n",
       "</style>\n",
       "<table border=\"1\" class=\"dataframe\">\n",
       "  <thead>\n",
       "    <tr style=\"text-align: right;\">\n",
       "      <th></th>\n",
       "      <th>Coefficients</th>\n",
       "      <th>Words</th>\n",
       "    </tr>\n",
       "  </thead>\n",
       "  <tbody>\n",
       "    <tr>\n",
       "      <th>2619</th>\n",
       "      <td>0.044761</td>\n",
       "      <td>product</td>\n",
       "    </tr>\n",
       "    <tr>\n",
       "      <th>3351</th>\n",
       "      <td>0.056139</td>\n",
       "      <td>store</td>\n",
       "    </tr>\n",
       "    <tr>\n",
       "      <th>676</th>\n",
       "      <td>0.077526</td>\n",
       "      <td>computer</td>\n",
       "    </tr>\n",
       "    <tr>\n",
       "      <th>1601</th>\n",
       "      <td>0.079922</td>\n",
       "      <td>help</td>\n",
       "    </tr>\n",
       "    <tr>\n",
       "      <th>449</th>\n",
       "      <td>0.111355</td>\n",
       "      <td>buy</td>\n",
       "    </tr>\n",
       "    <tr>\n",
       "      <th>2212</th>\n",
       "      <td>0.121248</td>\n",
       "      <td>music</td>\n",
       "    </tr>\n",
       "    <tr>\n",
       "      <th>1262</th>\n",
       "      <td>0.125737</td>\n",
       "      <td>feedback</td>\n",
       "    </tr>\n",
       "    <tr>\n",
       "      <th>3392</th>\n",
       "      <td>0.132519</td>\n",
       "      <td>subscription</td>\n",
       "    </tr>\n",
       "    <tr>\n",
       "      <th>1931</th>\n",
       "      <td>0.149952</td>\n",
       "      <td>library</td>\n",
       "    </tr>\n",
       "    <tr>\n",
       "      <th>2421</th>\n",
       "      <td>0.150694</td>\n",
       "      <td>passcode</td>\n",
       "    </tr>\n",
       "    <tr>\n",
       "      <th>123</th>\n",
       "      <td>0.150763</td>\n",
       "      <td>amp</td>\n",
       "    </tr>\n",
       "    <tr>\n",
       "      <th>572</th>\n",
       "      <td>0.153978</td>\n",
       "      <td>christmas</td>\n",
       "    </tr>\n",
       "    <tr>\n",
       "      <th>2423</th>\n",
       "      <td>0.155152</td>\n",
       "      <td>password</td>\n",
       "    </tr>\n",
       "    <tr>\n",
       "      <th>2464</th>\n",
       "      <td>0.169617</td>\n",
       "      <td>photo</td>\n",
       "    </tr>\n",
       "    <tr>\n",
       "      <th>1385</th>\n",
       "      <td>0.171933</td>\n",
       "      <td>free</td>\n",
       "    </tr>\n",
       "  </tbody>\n",
       "</table>\n",
       "</div>"
      ],
      "text/plain": [
       "      Coefficients         Words\n",
       "2619      0.044761       product\n",
       "3351      0.056139         store\n",
       "676       0.077526      computer\n",
       "1601      0.079922          help\n",
       "449       0.111355           buy\n",
       "2212      0.121248         music\n",
       "1262      0.125737      feedback\n",
       "3392      0.132519  subscription\n",
       "1931      0.149952       library\n",
       "2421      0.150694      passcode\n",
       "123       0.150763           amp\n",
       "572       0.153978     christmas\n",
       "2423      0.155152      password\n",
       "2464      0.169617         photo\n",
       "1385      0.171933          free"
      ]
     },
     "execution_count": 69,
     "metadata": {},
     "output_type": "execute_result"
    }
   ],
   "source": [
    "# Creates a DataFrame from the last 15 rows of the coefficients\n",
    "logsort_custom = log_coeffs_custom.sort_values(by='Coefficients', ascending=False).tail(15)\n",
    "\n",
    "# Reverses the ordering so that the highest predictors appear at the top\n",
    "logsort_custom.sort_values(by='Coefficients')"
   ]
  },
  {
   "cell_type": "markdown",
   "id": "5f11db1e",
   "metadata": {},
   "source": [
    "The smallest coefficients indicate the words that are predictive of Class 0, which is Apple. We can see that 'Christmas' is one of the words here. This would mean that people on the Apple Reddit might be considering Apple products for Christmas gifts. This is supported by the finding stated in the Background and Research section which stated that sales surge for Apple during Christmas."
   ]
  },
  {
   "cell_type": "markdown",
   "id": "a93abab0",
   "metadata": {},
   "source": [
    "# Conclusion and Recommendations\n",
    "\n",
    "In summary, we have achieved a successful model as defined by our problem statement. The test accuracy score was 0.956, which is higher than the stipulated 0.8. The model chosen was Logistic Regression. The training accuracy score was 0.973, which meant that the model did not overfit severely to the training data. The 5-fold cross-validated training score of 0.94 was close to the test score as well, which meant that the test score was a reliable measure. \n",
    "\n",
    "This was a tie with the Support Vector Classifier, but its score of 0.996 on the training subset showed that the Support Vector Classifier overfitted more to the training data. This made Logistic Regression a more favourable choice. Logistic Regression was also more interpretable than the Support Vector Classifier, being able to show which words were the strongest predictors for classification into a particular subreddit. In this case, it was found that the brand and product names were the strongest predictors. Logistic Regression was much faster in modelling as compared to the Support Vector Classifier as well.\n",
    "\n",
    "Natural Language Processing indicated that many people tended to ask product-troubleshooting questions on the subreddits. Hence, modelling does not have to be the only way to generate insights to help achieve the objective of writing a magazine article about the most-talked about tech brand of the year. Further analyses could be done in the form of sentiment analysis, where the proportions of positive and negative words and their context could shed light on brand sentiment. This would reveal more than just whether people are talking about the brand. Also, the model could be tested on other types of social media postings such as Facebook posts, to see how well it is able to generalise.\n",
    "\n",
    "To sum up, the project endpoint was achieved, and the tool is ready to be deployed and further tested by the tech magazine."
   ]
  }
 ],
 "metadata": {
  "kernelspec": {
   "display_name": "Python 3 (ipykernel)",
   "language": "python",
   "name": "python3"
  },
  "language_info": {
   "codemirror_mode": {
    "name": "ipython",
    "version": 3
   },
   "file_extension": ".py",
   "mimetype": "text/x-python",
   "name": "python",
   "nbconvert_exporter": "python",
   "pygments_lexer": "ipython3",
   "version": "3.8.11"
  }
 },
 "nbformat": 4,
 "nbformat_minor": 5
}
